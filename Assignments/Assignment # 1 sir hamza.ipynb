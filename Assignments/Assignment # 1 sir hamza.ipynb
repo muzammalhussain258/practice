{
 "cells": [
  {
   "cell_type": "markdown",
   "id": "547555a2",
   "metadata": {},
   "source": [
    "# Assignment: 3pre\n",
    "- create an advance floating Calculator"
   ]
  },
  {
   "cell_type": "code",
   "execution_count": 5,
   "id": "5e515a33",
   "metadata": {},
   "outputs": [
    {
     "name": "stdout",
     "output_type": "stream",
     "text": [
      "*-----Simple Calulator-----*\n",
      "ya rha ap ka  Question ka Answer \n",
      "5.4 - 7.6 = -2.1999999999999993\n"
     ]
    }
   ],
   "source": [
    "print(\"*-----Simple Calulator-----*\")   \n",
    "print(\"ya rha ap ka  Question ka Answer \")\n",
    "\n",
    "\n",
    "num1 = float(input(\"Enter first number: \"))\n",
    "num2 = float(input(\"Enter second number: \"))\n",
    "operator = input(\"Enter operator (+,-,*,/): \")\n",
    "if operator == \"+\":\n",
    "    result = num1 + num2\n",
    "    print(num1, \"+\", num2, \"=\", result)\n",
    "elif operator == \"-\":\n",
    "    result = num1 - num2\n",
    "    print(num1, \"-\", num2,\"=\", result)\n",
    "elif operator == \"*\":\n",
    "    result = num1 * num2\n",
    "    print(num1, \"*\", num2, \"=\", result)\n",
    "elif operator == \"/\":\n",
    "    if num2 != 0:\n",
    "        result = num1 / num2\n",
    "        print(num1, \"/\", num2, \"=\", result)\n",
    "    else:\n",
    "        print(\"Zero use nhi kar sakte q ka Ya divide nhi hota\")"
   ]
  },
  {
   "cell_type": "code",
   "execution_count": null,
   "id": "fb564705",
   "metadata": {},
   "outputs": [],
   "source": []
  }
 ],
 "metadata": {
  "kernelspec": {
   "display_name": "Python 3",
   "language": "python",
   "name": "python3"
  },
  "language_info": {
   "codemirror_mode": {
    "name": "ipython",
    "version": 3
   },
   "file_extension": ".py",
   "mimetype": "text/x-python",
   "name": "python",
   "nbconvert_exporter": "python",
   "pygments_lexer": "ipython3",
   "version": "3.13.3"
  }
 },
 "nbformat": 4,
 "nbformat_minor": 5
}
