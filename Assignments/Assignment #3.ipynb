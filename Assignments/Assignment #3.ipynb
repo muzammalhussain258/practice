{
 "cells": [
  {
   "cell_type": "markdown",
   "id": "69c1bd5c",
   "metadata": {},
   "source": [
    "# Assignment: 3"
   ]
  },
  {
   "cell_type": "code",
   "execution_count": 1,
   "id": "75440967",
   "metadata": {},
   "outputs": [
    {
     "name": "stdout",
     "output_type": "stream",
     "text": [
      "*-----Advanced Floating Calculator-----*\n",
      "Sum: 94.0\n",
      "Subtraction: -80.0\n",
      "Multiplication: 609.0\n",
      "Division: 0.08045977011494253\n"
     ]
    }
   ],
   "source": [
    "# ...existing code...\n",
    "\n",
    "print(\"*-----Advanced Floating Calculator-----*\")\n",
    "\n",
    "# Input two floating-point numbers\n",
    "num1 = float(input(\"Enter first number: \"))\n",
    "num2 = float(input(\"Enter second number: \"))\n",
    "\n",
    "# Perform operations\n",
    "sum_result = num1 + num2\n",
    "subtraction_result = num1 - num2\n",
    "multiply_result = num1 * num2\n",
    "division_result = num1 / num2\n",
    "\n",
    "# Print results\n",
    "print(\"Sum:\", sum_result)\n",
    "print(\"Subtraction:\", subtraction_result)\n",
    "print(\"Multiplication:\", multiply_result)\n",
    "print(\"Division:\", division_result)\n",
    "# ...existing code..."
   ]
  },
  {
   "cell_type": "code",
   "execution_count": null,
   "id": "27c3c98e",
   "metadata": {},
   "outputs": [],
   "source": []
  }
 ],
 "metadata": {
  "kernelspec": {
   "display_name": "Python 3",
   "language": "python",
   "name": "python3"
  },
  "language_info": {
   "codemirror_mode": {
    "name": "ipython",
    "version": 3
   },
   "file_extension": ".py",
   "mimetype": "text/x-python",
   "name": "python",
   "nbconvert_exporter": "python",
   "pygments_lexer": "ipython3",
   "version": "3.13.3"
  }
 },
 "nbformat": 4,
 "nbformat_minor": 5
}
