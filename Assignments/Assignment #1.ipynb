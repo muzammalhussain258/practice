{
 "cells": [
  {
   "cell_type": "markdown",
   "id": "fef16439",
   "metadata": {},
   "source": [
    "# Assignment # 1 (Create Simple Calculater)"
   ]
  },
  {
   "cell_type": "code",
   "execution_count": null,
   "id": "9863d77e",
   "metadata": {},
   "outputs": [
    {
     "name": "stdout",
     "output_type": "stream",
     "text": [
      "Sum: 30\n",
      "Division: 0.5\n",
      "Multiplication: 200\n",
      "Subtraction: -10\n"
     ]
    }
   ],
   "source": [
    "# Calculator script\n",
    "# This script performs basic arithmetic operations: addition, subtraction, multiplication, and division.\n",
    "# It takes two numbers as input and prints the results of the operations. \n",
    "A = 10\n",
    "B = 20\n",
    "\n",
    "# Perform arithmetic operations\n",
    "sum = A + B\n",
    "divide = A / B\n",
    "multiply = A * B\n",
    "sabtract = A - B\n",
    "\n",
    "# print the results\n",
    "print(\"Sum:\", sum)\n",
    "print(\"Division:\", divide)\n",
    "print(\"Multiplication:\", multiply)\n",
    "print(\"Subtraction:\", sabtract)"
   ]
  },
  {
   "cell_type": "code",
   "execution_count": null,
   "id": "16b9042f",
   "metadata": {},
   "outputs": [],
   "source": []
  }
 ],
 "metadata": {
  "kernelspec": {
   "display_name": "base",
   "language": "python",
   "name": "python3"
  },
  "language_info": {
   "codemirror_mode": {
    "name": "ipython",
    "version": 3
   },
   "file_extension": ".py",
   "mimetype": "text/x-python",
   "name": "python",
   "nbconvert_exporter": "python",
   "pygments_lexer": "ipython3",
   "version": "3.12.7"
  }
 },
 "nbformat": 4,
 "nbformat_minor": 5
}
