{
 "cells": [
  {
   "cell_type": "markdown",
   "id": "86bd50b5",
   "metadata": {},
   "source": [
    "# Assignment: 5  (Multiplication Table Generator Using For Loop )"
   ]
  },
  {
   "cell_type": "code",
   "execution_count": 11,
   "id": "fcf587cd",
   "metadata": {},
   "outputs": [
    {
     "name": "stdout",
     "output_type": "stream",
     "text": [
      "Welcom to Table Generator\n",
      "2 X 1 = 2\n",
      "2 X 2 = 4\n",
      "2 X 3 = 6\n",
      "2 X 4 = 8\n",
      "2 X 5 = 10\n",
      "2 X 6 = 12\n",
      "2 X 7 = 14\n",
      "2 X 8 = 16\n",
      "2 X 9 = 18\n",
      "2 X 10 = 20\n"
     ]
    }
   ],
   "source": [
    "#user sa input lana \n",
    "print(\"Welcom to Table Generator\")\n",
    "num =int(input(\"Enter your Number\"))\n",
    "\n",
    "#for loop ka use kiya \n",
    "for M in range(1, 11):\n",
    "    result = num * M\n",
    "    print(num, \"X\", M, \"=\", result)\n",
    "\n"
   ]
  },
  {
   "cell_type": "code",
   "execution_count": null,
   "id": "94522114",
   "metadata": {},
   "outputs": [],
   "source": []
  }
 ],
 "metadata": {
  "kernelspec": {
   "display_name": "Python 3",
   "language": "python",
   "name": "python3"
  },
  "language_info": {
   "codemirror_mode": {
    "name": "ipython",
    "version": 3
   },
   "file_extension": ".py",
   "mimetype": "text/x-python",
   "name": "python",
   "nbconvert_exporter": "python",
   "pygments_lexer": "ipython3",
   "version": "3.13.3"
  }
 },
 "nbformat": 4,
 "nbformat_minor": 5
}
