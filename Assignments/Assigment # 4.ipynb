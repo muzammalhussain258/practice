{
 "cells": [
  {
   "cell_type": "markdown",
   "id": "2b086fab",
   "metadata": {},
   "source": [
    "# Assignment: 4 (Smart Ticket Price Calculator (Age & Student Based))\n",
    "Outline\n",
    "- Create a Python program that calculates ticket prices using user input and conditional logic.\n",
    "\n",
    "1. User se input lena:\n",
    "\n",
    "- Age — number ke form mein\n",
    "\n",
    "- Student status — yes/no string ke form mein\n",
    "\n",
    "2. Conditions apply karna based on rules:\n",
    "\n",
    "- Agar age 5 se kam ho → ticket free (مفت)\n",
    "\n",
    "- Agar age 5 se 12 se kam ho → ticket 10 rupees (روپے)\n",
    "\n",
    "- Agar age 12 se 17 se kam ho:\n",
    "\n",
    "- Agar student hai → 12 rupees\n",
    "\n",
    "- Warna → 15 rupees\n",
    "\n",
    "- Agar age 17 se 64 se kam ho:\n",
    "\n",
    "- Agar student hai → 18 rupees\n",
    "\n",
    "- Warna → 25 rupees\n",
    "\n",
    "- Agar age 64 ya us se zyada ho → 20 rupees\n",
    "\n",
    "3. Final price ko print karna\n",
    "\n"
   ]
  },
  {
   "cell_type": "code",
   "execution_count": null,
   "id": "0b76410c",
   "metadata": {},
   "outputs": [
    {
     "name": "stdout",
     "output_type": "stream",
     "text": [
      "Your Ticket Price: Rs. Free\n"
     ]
    }
   ],
   "source": [
    "# User sa  input liya \n",
    "\n",
    "age = int(input(\"Enter your Age: \"))\n",
    "student_status = input(\"Enter your Student Status (YES / NO)\").lower()\n",
    "\n",
    "#Use condional operators and determine ticket price based on age and student status\n",
    "\n",
    "if age <= 5:\n",
    "    price = \"Free\"\n",
    "elif age <= 12:\n",
    "    price = 10\n",
    "elif age <= 17:\n",
    "    if student_status == \"yes\":\n",
    "        price = 12\n",
    "        print(age)\n",
    "    else:\n",
    "        price = 15\n",
    "elif age <= 27:\n",
    "    if student_status == \"yes\":\n",
    "        price= 18\n",
    "    else:\n",
    "        price = 25\n",
    "elif age <= 70: \n",
    "    price = 30\n",
    "else:\n",
    "    price = 30\n",
    "\n",
    "#display kiya price ko\n",
    "\n",
    "print(\"Your Ticket Price: Rs.\" =price)"
   ]
  },
  {
   "cell_type": "code",
   "execution_count": null,
   "id": "bc761cee",
   "metadata": {},
   "outputs": [],
   "source": []
  },
  {
   "cell_type": "code",
   "execution_count": null,
   "id": "51f11d78",
   "metadata": {},
   "outputs": [],
   "source": []
  }
 ],
 "metadata": {
  "kernelspec": {
   "display_name": "Python 3",
   "language": "python",
   "name": "python3"
  },
  "language_info": {
   "codemirror_mode": {
    "name": "ipython",
    "version": 3
   },
   "file_extension": ".py",
   "mimetype": "text/x-python",
   "name": "python",
   "nbconvert_exporter": "python",
   "pygments_lexer": "ipython3",
   "version": "3.13.3"
  }
 },
 "nbformat": 4,
 "nbformat_minor": 5
}
