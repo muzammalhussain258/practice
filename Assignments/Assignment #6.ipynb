{
 "cells": [
  {
   "cell_type": "markdown",
   "id": "602d5a06",
   "metadata": {},
   "source": [
    "# Assignment: 6"
   ]
  },
  {
   "cell_type": "code",
   "execution_count": 1,
   "id": "b574593e",
   "metadata": {},
   "outputs": [
    {
     "name": "stdout",
     "output_type": "stream",
     "text": [
      "Buy Food has been removed from the list.\n",
      "Final To Do List: ['Go for walk', 'Schedule a meeting', 'Go for a run']\n"
     ]
    }
   ],
   "source": [
    "# Assignment: Manage a To Do List\n",
    "\n",
    "# Step 1: Create a list variable named to_do_list\n",
    "to_do_list = []\n",
    "\n",
    "# Step 2: Add at least 4 tasks into the to_do_list\n",
    "to_do_list.append(\"Buy Food\")\n",
    "to_do_list.append(\"Go for walk\")\n",
    "to_do_list.append(\"Schedule a meeting\")\n",
    "to_do_list.append(\"Go for a run\")\n",
    "\n",
    "# Step 3: Remove the task \"Buy Food\" from the to_do_list\n",
    "to_do_list.remove(\"Buy Food\")\n",
    "\n",
    "# Step 4: Use an if statement to check if \"Buy Food\" still exists in the list\n",
    "if \"Buy Food\" in to_do_list:\n",
    "    # Step 5: If it exists, print message\n",
    "    print(\"Buy Food is still in the list.\")\n",
    "else:\n",
    "    # Step 5: Otherwise, print message\n",
    "    print(\"Buy Food has been removed from the list.\")\n",
    "\n",
    "# Step 6: Print the final to_do_list\n",
    "print(\"Final To Do List:\", to_do_list)"
   ]
  },
  {
   "cell_type": "code",
   "execution_count": null,
   "id": "766e6c9b",
   "metadata": {},
   "outputs": [],
   "source": []
  }
 ],
 "metadata": {
  "kernelspec": {
   "display_name": "Python 3",
   "language": "python",
   "name": "python3"
  },
  "language_info": {
   "codemirror_mode": {
    "name": "ipython",
    "version": 3
   },
   "file_extension": ".py",
   "mimetype": "text/x-python",
   "name": "python",
   "nbconvert_exporter": "python",
   "pygments_lexer": "ipython3",
   "version": "3.13.3"
  }
 },
 "nbformat": 4,
 "nbformat_minor": 5
}
