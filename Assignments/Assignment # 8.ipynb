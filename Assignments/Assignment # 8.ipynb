{
 "cells": [
  {
   "cell_type": "markdown",
   "id": "eca52514",
   "metadata": {},
   "source": [
    "# Assignment: 8 (calculator Total Cost )"
   ]
  },
  {
   "cell_type": "code",
   "execution_count": 1,
   "id": "b67f0f2d",
   "metadata": {},
   "outputs": [
    {
     "name": "stdout",
     "output_type": "stream",
     "text": [
      "Total Cost: 3320\n"
     ]
    }
   ],
   "source": [
    "cart = [\n",
    "    {\"name\": 'Apple',    \"price\": 120, \"quantity\": 3},\n",
    "    {\"name\": 'Banana',   \"price\": 60,  \"quantity\": 10},\n",
    "    {\"name\": 'Orange',   \"price\": 90,  \"quantity\": 5},\n",
    "    {\"name\": 'Mango',    \"price\": 150, \"quantity\": 2},\n",
    "    {\"name\": 'Grapes',   \"price\": 200, \"quantity\": 1},\n",
    "    {\"name\": 'Pineapple',\"price\": 250, \"quantity\": 1},\n",
    "    {\"name\": 'Peach',    \"price\": 80,  \"quantity\": 7},\n",
    "    {\"name\": 'Watermelon',\"price\": 300, \"quantity\": 2}\n",
    "]\n",
    "\n",
    "\n",
    "def calculat_total_cost(cost):\n",
    "    total_cost = 0\n",
    "    for item in cart:\n",
    "        total_cost += item[\"price\"] * item[\"quantity\"]\n",
    "    return total_cost\n",
    "\n",
    "print(\"Total Cost:\",calculat_total_cost(cart) )"
   ]
  },
  {
   "cell_type": "code",
   "execution_count": 7,
   "id": "13f0e0ba",
   "metadata": {},
   "outputs": [
    {
     "name": "stdout",
     "output_type": "stream",
     "text": [
      "Total Cost 250800\n"
     ]
    }
   ],
   "source": [
    "cart = [\n",
    "    {\"name\": \"Laptop\",      \"price\": 80000, \"quantity\": 2},\n",
    "    {\"name\": \"Mouse\",       \"price\": 1500,  \"quantity\": 5},\n",
    "    {\"name\": \"Keyboard\",    \"price\": 2500,  \"quantity\": 3},\n",
    "    {\"name\": \"Monitor\",     \"price\": 20000, \"quantity\": 2},\n",
    "    {\"name\": \"USB Drive\",   \"price\": 800,   \"quantity\": 10},\n",
    "    {\"name\": \"Printer\",     \"price\": 12000, \"quantity\": 1},\n",
    "    {\"name\": \"Webcam\",      \"price\": 3500,  \"quantity\": 2},\n",
    "    {\"name\": \"Headphones\",  \"price\": 2200,  \"quantity\": 4}\n",
    "]\n",
    "\n",
    "def calculat_total_cost(cost):\n",
    "    total_cost = 0 \n",
    "    for item in cart:\n",
    "        total_cost += item[\"price\"] * item[\"quantity\"]\n",
    "    return total_cost\n",
    "\n",
    "print(\"Total Cost\" ,calculat_total_cost(cart))"
   ]
  },
  {
   "cell_type": "code",
   "execution_count": null,
   "id": "8fd9f301",
   "metadata": {},
   "outputs": [],
   "source": []
  }
 ],
 "metadata": {
  "kernelspec": {
   "display_name": "Python 3",
   "language": "python",
   "name": "python3"
  },
  "language_info": {
   "codemirror_mode": {
    "name": "ipython",
    "version": 3
   },
   "file_extension": ".py",
   "mimetype": "text/x-python",
   "name": "python",
   "nbconvert_exporter": "python",
   "pygments_lexer": "ipython3",
   "version": "3.13.3"
  }
 },
 "nbformat": 4,
 "nbformat_minor": 5
}
