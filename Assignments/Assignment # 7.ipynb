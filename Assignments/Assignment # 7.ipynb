{
 "cells": [
  {
   "cell_type": "markdown",
   "id": "050bc416",
   "metadata": {},
   "source": [
    "# Assignment: 7 (Frequency Checker)"
   ]
  },
  {
   "cell_type": "code",
   "execution_count": null,
   "id": "766963a8",
   "metadata": {},
   "outputs": [
    {
     "name": "stdout",
     "output_type": "stream",
     "text": [
      "{2: 4, 3: 3, 1: 1, 4: 2, 5: 5, 6: 1, 8: 1, 9: 2, 7: 1}\n"
     ]
    }
   ],
   "source": [
    "\n",
    "# list create ki rendom numbers ki\n",
    "\n",
    "numbers =[2,3,1,2,3,4,2,5,5,6,5,4,5,2,3,5,8,9,9,7]\n",
    "\n",
    "# ak khali dictionary creat ki frequency ko store karna kaliya\n",
    "frequency = {}\n",
    "\n",
    "# for loop ka use kiya frequency maloom karna kaliya\n",
    "for num in numbers:\n",
    "    if num in frequency:\n",
    "        frequency[num] += 1\n",
    "    else:\n",
    "         frequency[num] = 1\n",
    "\n",
    "print(frequency)\n",
    "\n"
   ]
  },
  {
   "cell_type": "code",
   "execution_count": 4,
   "id": "ef5e1aeb",
   "metadata": {},
   "outputs": [
    {
     "name": "stdout",
     "output_type": "stream",
     "text": [
      "{'Muzammal': 3, 'hina': 2}\n"
     ]
    }
   ],
   "source": [
    "my_list = [\"Muzammal\", \"hina\", \"Muzammal\", \"Muzammal\", \"hina\"]\n",
    "\n",
    "freq = {}\n",
    "\n",
    "for num in my_list:\n",
    "    if num in freq:\n",
    "        freq[num] += 1\n",
    "    else:\n",
    "        freq[num] = 1\n",
    "\n",
    "print(freq)\n",
    " "
   ]
  },
  {
   "cell_type": "code",
   "execution_count": null,
   "id": "d2e9bdfa",
   "metadata": {},
   "outputs": [],
   "source": []
  }
 ],
 "metadata": {
  "kernelspec": {
   "display_name": "Python 3",
   "language": "python",
   "name": "python3"
  },
  "language_info": {
   "codemirror_mode": {
    "name": "ipython",
    "version": 3
   },
   "file_extension": ".py",
   "mimetype": "text/x-python",
   "name": "python",
   "nbconvert_exporter": "python",
   "pygments_lexer": "ipython3",
   "version": "3.13.3"
  }
 },
 "nbformat": 4,
 "nbformat_minor": 5
}
