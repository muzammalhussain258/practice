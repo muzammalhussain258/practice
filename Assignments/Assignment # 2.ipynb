{
 "cells": [
  {
   "cell_type": "markdown",
   "id": "b9a2bff1",
   "metadata": {},
   "source": [
    "# Assignment: 2"
   ]
  },
  {
   "cell_type": "markdown",
   "id": "429e201e",
   "metadata": {},
   "source": [
    "## Student Time Schedule"
   ]
  },
  {
   "cell_type": "markdown",
   "id": "995ca04f",
   "metadata": {},
   "source": [
    "# "
   ]
  },
  {
   "cell_type": "code",
   "execution_count": null,
   "id": "334d5f6e",
   "metadata": {},
   "outputs": [
    {
     "name": "stdout",
     "output_type": "stream",
     "text": [
      "My name is Muzammal Hussain Today my class time is 11:00 O,clocks and the lunch time is 1:00 O,clocks\n"
     ]
    }
   ],
   "source": [
    "\n",
    "# This program collects user input for their name, class time, and lunch time, and then prints a formatted string with that information.\n",
    "name = input(\"What is your name? \")\n",
    "class_time = str(input(\"What is your class time today? \"))\n",
    "lunch_time = str(input(\"What is your lunch time today? \"))\n",
    "\n",
    "# Print the collected information in a formatted string\n",
    "print(\"My name is\", name, \"Today my class time is\", class_time, \"and the lunch time is\", lunch_time)"
   ]
  },
  {
   "cell_type": "code",
   "execution_count": 10,
   "id": "193edd63",
   "metadata": {},
   "outputs": [
    {
     "name": "stdout",
     "output_type": "stream",
     "text": [
      "My name is:  Muzammal Hussain\n",
      "Today my class time is:  11:00 O,clocks\n",
      "and the lunch time is:  1:00 O,clocks\n"
     ]
    }
   ],
   "source": [
    "print(\"My name is: \", name)\n",
    "print(\"Today my class time is: \", class_time)\n",
    "print(\"and the lunch time is: \", lunch_time)"
   ]
  },
  {
   "cell_type": "code",
   "execution_count": null,
   "id": "252cd570",
   "metadata": {},
   "outputs": [],
   "source": []
  }
 ],
 "metadata": {
  "kernelspec": {
   "display_name": "base",
   "language": "python",
   "name": "python3"
  },
  "language_info": {
   "codemirror_mode": {
    "name": "ipython",
    "version": 3
   },
   "file_extension": ".py",
   "mimetype": "text/x-python",
   "name": "python",
   "nbconvert_exporter": "python",
   "pygments_lexer": "ipython3",
   "version": "3.12.7"
  }
 },
 "nbformat": 4,
 "nbformat_minor": 5
}
