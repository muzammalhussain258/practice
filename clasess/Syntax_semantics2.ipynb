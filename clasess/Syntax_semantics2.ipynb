{
 "cells": [
  {
   "cell_type": "markdown",
   "id": "6b5c061d-3fd4-4cc3-bb20-6994e6b766d8",
   "metadata": {},
   "source": [
    "### Indentation"
   ]
  },
  {
   "cell_type": "code",
   "execution_count": 46,
   "id": "64937cee-0a05-410c-8448-79ac9847d779",
   "metadata": {},
   "outputs": [
    {
     "name": "stdout",
     "output_type": "stream",
     "text": [
      "32\n"
     ]
    }
   ],
   "source": [
    "## Python uses indentation to define blocks of code. Consistent use of spaces ( commonly 4 spaces) or a tab is required.\n",
    "\n",
    "age = 32\n",
    "\n",
    "if age > 30 :\n",
    "    print(age)"
   ]
  },
  {
   "cell_type": "markdown",
   "id": "d5b52615-2aed-4f83-bd6b-2f6ae68841f8",
   "metadata": {},
   "source": [
    "### Single line comment"
   ]
  },
  {
   "cell_type": "code",
   "execution_count": 29,
   "id": "22511c4e-231d-416e-897f-72b371a68253",
   "metadata": {},
   "outputs": [
    {
     "name": "stdout",
     "output_type": "stream",
     "text": [
      "Hello World\n"
     ]
    }
   ],
   "source": [
    "## This is the comment for my code\n",
    "print(\"Hello World\")"
   ]
  },
  {
   "cell_type": "markdown",
   "id": "1f111746-9c49-426c-ac9e-6c4a3e962dfc",
   "metadata": {},
   "source": [
    "### Line Continuation"
   ]
  },
  {
   "cell_type": "code",
   "execution_count": 42,
   "id": "e955359f-012d-42b9-b540-93ba63c1cb4f",
   "metadata": {},
   "outputs": [
    {
     "data": {
      "text/plain": [
       "497"
      ]
     },
     "execution_count": 42,
     "metadata": {},
     "output_type": "execute_result"
    }
   ],
   "source": [
    "total  = 10 + 50 + 70 + 50 + 60 + \\\n",
    "90 + 100 + 4 + 6 + 7 \\\n",
    "+ 50\n",
    "\n",
    "\n",
    "total"
   ]
  },
  {
   "cell_type": "markdown",
   "id": "88ac3fd4-550a-4214-b64a-6857f0bd4981",
   "metadata": {},
   "source": [
    "##### Multiple Statements in one line"
   ]
  },
  {
   "cell_type": "code",
   "execution_count": 65,
   "id": "957db45b-7eb7-4cfb-9f5b-69f476f2b1ad",
   "metadata": {},
   "outputs": [],
   "source": [
    "x=5;y=10;z=x+y "
   ]
  },
  {
   "cell_type": "code",
   "execution_count": 67,
   "id": "3819a72a-a3a0-4944-9a91-210823041f8f",
   "metadata": {},
   "outputs": [
    {
     "data": {
      "text/plain": [
       "15"
      ]
     },
     "execution_count": 67,
     "metadata": {},
     "output_type": "execute_result"
    }
   ],
   "source": [
    "z"
   ]
  },
  {
   "cell_type": "code",
   "execution_count": 69,
   "id": "ecdd0039-5601-45c1-9498-518d8bf2ac01",
   "metadata": {},
   "outputs": [],
   "source": [
    "age = 32 \n",
    "# 32 is an integer \n",
    "# age is a variable"
   ]
  },
  {
   "cell_type": "code",
   "execution_count": 71,
   "id": "09b76655-f1db-4214-9a5a-eeaf2118dec2",
   "metadata": {},
   "outputs": [],
   "source": [
    "name  = \"Malik\"  ## name is a string"
   ]
  },
  {
   "cell_type": "code",
   "execution_count": 73,
   "id": "8364daa5-8e23-45b7-b99b-9603f1a2628c",
   "metadata": {},
   "outputs": [
    {
     "data": {
      "text/plain": [
       "int"
      ]
     },
     "execution_count": 73,
     "metadata": {},
     "output_type": "execute_result"
    }
   ],
   "source": [
    "type(age)"
   ]
  },
  {
   "cell_type": "code",
   "execution_count": 75,
   "id": "52c087e9-5431-4a4d-b468-04b1d51a90b7",
   "metadata": {},
   "outputs": [
    {
     "data": {
      "text/plain": [
       "str"
      ]
     },
     "execution_count": 75,
     "metadata": {},
     "output_type": "execute_result"
    }
   ],
   "source": [
    "type(name)"
   ]
  },
  {
   "cell_type": "code",
   "execution_count": 101,
   "id": "1aafe4e9-5d7c-417a-8bfa-27768ace8045",
   "metadata": {},
   "outputs": [],
   "source": [
    "a = 10 \n",
    "b = 10"
   ]
  },
  {
   "cell_type": "code",
   "execution_count": 103,
   "id": "302c216c-4191-451b-ae9a-57ca06102114",
   "metadata": {},
   "outputs": [],
   "source": [
    "a = b"
   ]
  },
  {
   "cell_type": "code",
   "execution_count": 87,
   "id": "b46fe5a4-6cd2-4b57-aefb-d9f0bc575bbe",
   "metadata": {},
   "outputs": [
    {
     "ename": "NameError",
     "evalue": "name 'c' is not defined",
     "output_type": "error",
     "traceback": [
      "\u001b[0;31m---------------------------------------------------------------------------\u001b[0m",
      "\u001b[0;31mNameError\u001b[0m                                 Traceback (most recent call last)",
      "Cell \u001b[0;32mIn[87], line 1\u001b[0m\n\u001b[0;32m----> 1\u001b[0m a \u001b[38;5;241m=\u001b[39m c\n",
      "\u001b[0;31mNameError\u001b[0m: name 'c' is not defined"
     ]
    }
   ],
   "source": [
    "a = c"
   ]
  },
  {
   "cell_type": "code",
   "execution_count": 95,
   "id": "181e87bd-3f6b-4815-8fb7-68b797178f72",
   "metadata": {},
   "outputs": [
    {
     "name": "stdout",
     "output_type": "stream",
     "text": [
      "Correct Indentation\n"
     ]
    }
   ],
   "source": [
    "if True:\n",
    "    print(\"Correct Indentation\")"
   ]
  },
  {
   "cell_type": "markdown",
   "id": "236ee925-c3d0-4654-8244-e81f8ccff125",
   "metadata": {},
   "source": [
    "####Conclusion\n",
    "\n",
    "Understanding the syntax and semantics of python is crucial for writing correct and meaingful program. Syntax ensures the code is properly structured, while semantics ensures the code behaves as expected"
   ]
  },
  {
   "cell_type": "markdown",
   "id": "fc4fb1f8-a99a-4885-ac4c-18c258b47f52",
   "metadata": {},
   "source": [
    "## Python Variables\n",
    "\n",
    "Variables\n",
    "\n",
    "It is used to store data that can be referenced as manipulated in a program."
   ]
  },
  {
   "cell_type": "code",
   "execution_count": 107,
   "id": "8b936649-4ee8-46d2-b65f-7539680f60b3",
   "metadata": {},
   "outputs": [
    {
     "data": {
      "text/plain": [
       "10"
      ]
     },
     "execution_count": 107,
     "metadata": {},
     "output_type": "execute_result"
    }
   ],
   "source": [
    "a = 10\n",
    "\n",
    "a"
   ]
  },
  {
   "cell_type": "code",
   "execution_count": 109,
   "id": "66e2bc7c-cbfd-4646-9c1e-da35bb7176ef",
   "metadata": {},
   "outputs": [
    {
     "data": {
      "text/plain": [
       "15"
      ]
     },
     "execution_count": 109,
     "metadata": {},
     "output_type": "execute_result"
    }
   ],
   "source": [
    "a = a + 5\n",
    "\n",
    "a"
   ]
  },
  {
   "cell_type": "code",
   "execution_count": 111,
   "id": "ea59d3bf-6017-442d-99e1-d7a1e361893d",
   "metadata": {},
   "outputs": [],
   "source": [
    "Wallet = 1000"
   ]
  },
  {
   "cell_type": "code",
   "execution_count": 119,
   "id": "f7cddb03-34ff-4262-8955-c1c2e3fd6212",
   "metadata": {},
   "outputs": [],
   "source": [
    "Wallet = Wallet - 500"
   ]
  },
  {
   "cell_type": "code",
   "execution_count": 121,
   "id": "df57f548-06f8-44d8-ab0f-171e3b4db434",
   "metadata": {},
   "outputs": [
    {
     "data": {
      "text/plain": [
       "500"
      ]
     },
     "execution_count": 121,
     "metadata": {},
     "output_type": "execute_result"
    }
   ],
   "source": [
    "Wallet"
   ]
  },
  {
   "cell_type": "code",
   "execution_count": 123,
   "id": "25d61258-edf3-437a-a30b-0e9926d50b29",
   "metadata": {},
   "outputs": [],
   "source": [
    "name = \"Malik\" "
   ]
  },
  {
   "cell_type": "code",
   "execution_count": 125,
   "id": "aa262810-b44b-4f7f-91dc-282f009a1e0c",
   "metadata": {},
   "outputs": [
    {
     "data": {
      "text/plain": [
       "'Malik'"
      ]
     },
     "execution_count": 125,
     "metadata": {},
     "output_type": "execute_result"
    }
   ],
   "source": [
    "name "
   ]
  },
  {
   "cell_type": "code",
   "execution_count": 127,
   "id": "8d02ed78-4a96-4d2f-9df4-c1e95b27e395",
   "metadata": {},
   "outputs": [],
   "source": [
    "height = 5.1 # floating number "
   ]
  },
  {
   "cell_type": "code",
   "execution_count": 129,
   "id": "ad3c2488-f274-402a-a8d8-d09c3990821b",
   "metadata": {},
   "outputs": [
    {
     "data": {
      "text/plain": [
       "5.1"
      ]
     },
     "execution_count": 129,
     "metadata": {},
     "output_type": "execute_result"
    }
   ],
   "source": [
    "height"
   ]
  },
  {
   "cell_type": "code",
   "execution_count": 131,
   "id": "b308e0c4-3138-4c41-8be0-e2c5b6fd0901",
   "metadata": {},
   "outputs": [],
   "source": [
    "isstudent = True"
   ]
  },
  {
   "cell_type": "code",
   "execution_count": 135,
   "id": "77561710-2c1b-44b2-a2cb-f3c280b9791a",
   "metadata": {},
   "outputs": [
    {
     "name": "stdout",
     "output_type": "stream",
     "text": [
      "My age is  32\n"
     ]
    }
   ],
   "source": [
    "print(\"My age is\", age)"
   ]
  },
  {
   "cell_type": "code",
   "execution_count": 137,
   "id": "bb535d3c-82f8-4207-aa29-0c39532e4c52",
   "metadata": {},
   "outputs": [],
   "source": [
    "data = 10"
   ]
  },
  {
   "cell_type": "code",
   "execution_count": 139,
   "id": "f5a14097-2586-4e18-b4c4-9bbbca5941be",
   "metadata": {},
   "outputs": [],
   "source": [
    "is_data = 40"
   ]
  },
  {
   "cell_type": "code",
   "execution_count": 141,
   "id": "99cef313-3055-4495-8afe-dcd7778994e5",
   "metadata": {},
   "outputs": [
    {
     "data": {
      "text/plain": [
       "40"
      ]
     },
     "execution_count": 141,
     "metadata": {},
     "output_type": "execute_result"
    }
   ],
   "source": [
    "is_data"
   ]
  },
  {
   "cell_type": "code",
   "execution_count": 143,
   "id": "15800b8a-0476-4745-a8ab-e8c207c5a217",
   "metadata": {},
   "outputs": [
    {
     "ename": "SyntaxError",
     "evalue": "invalid decimal literal (216223266.py, line 1)",
     "output_type": "error",
     "traceback": [
      "\u001b[0;36m  Cell \u001b[0;32mIn[143], line 1\u001b[0;36m\u001b[0m\n\u001b[0;31m    2age = 40\u001b[0m\n\u001b[0m    ^\u001b[0m\n\u001b[0;31mSyntaxError\u001b[0m\u001b[0;31m:\u001b[0m invalid decimal literal\n"
     ]
    }
   ],
   "source": [
    "2age = 40"
   ]
  },
  {
   "cell_type": "code",
   "execution_count": 145,
   "id": "d93ddc37-b6b3-4d4f-8149-d7d03f96d755",
   "metadata": {},
   "outputs": [
    {
     "ename": "SyntaxError",
     "evalue": "cannot assign to expression here. Maybe you meant '==' instead of '='? (4057077847.py, line 1)",
     "output_type": "error",
     "traceback": [
      "\u001b[0;36m  Cell \u001b[0;32mIn[145], line 1\u001b[0;36m\u001b[0m\n\u001b[0;31m    first-name = \"Malik\"\u001b[0m\n\u001b[0m    ^\u001b[0m\n\u001b[0;31mSyntaxError\u001b[0m\u001b[0;31m:\u001b[0m cannot assign to expression here. Maybe you meant '==' instead of '='?\n"
     ]
    }
   ],
   "source": [
    "first-name = \"Malik\""
   ]
  },
  {
   "cell_type": "code",
   "execution_count": 147,
   "id": "b9ac0c46-0d03-46ca-9797-d46a07049a58",
   "metadata": {},
   "outputs": [
    {
     "ename": "SyntaxError",
     "evalue": "invalid syntax. Maybe you meant '==' or ':=' instead of '='? (3978668062.py, line 1)",
     "output_type": "error",
     "traceback": [
      "\u001b[0;36m  Cell \u001b[0;32mIn[147], line 1\u001b[0;36m\u001b[0m\n\u001b[0;31m    @name = \"Malik\"\u001b[0m\n\u001b[0m     ^\u001b[0m\n\u001b[0;31mSyntaxError\u001b[0m\u001b[0;31m:\u001b[0m invalid syntax. Maybe you meant '==' or ':=' instead of '='?\n"
     ]
    }
   ],
   "source": [
    "@name = \"Malik\""
   ]
  },
  {
   "cell_type": "code",
   "execution_count": 157,
   "id": "1aeab629-2136-41a5-8027-ba3d61456310",
   "metadata": {},
   "outputs": [
    {
     "ename": "SyntaxError",
     "evalue": "invalid syntax (1007003872.py, line 1)",
     "output_type": "error",
     "traceback": [
      "\u001b[0;36m  Cell \u001b[0;32mIn[157], line 1\u001b[0;36m\u001b[0m\n\u001b[0;31m    Malik 21 = \"Khan\"\u001b[0m\n\u001b[0m          ^\u001b[0m\n\u001b[0;31mSyntaxError\u001b[0m\u001b[0;31m:\u001b[0m invalid syntax\n"
     ]
    }
   ],
   "source": [
    "Malik 21 = \"Khan\""
   ]
  },
  {
   "cell_type": "code",
   "execution_count": 161,
   "id": "2d91b936-5382-44c6-ab00-930053801ca5",
   "metadata": {},
   "outputs": [
    {
     "data": {
      "text/plain": [
       "'Malik'"
      ]
     },
     "execution_count": 161,
     "metadata": {},
     "output_type": "execute_result"
    }
   ],
   "source": [
    "Malik21 = \"Malik\"\n",
    "\n",
    "\n",
    "Malik21"
   ]
  },
  {
   "cell_type": "code",
   "execution_count": 153,
   "id": "4bb54712-880c-462c-92f7-23bfe4b6e1c0",
   "metadata": {},
   "outputs": [],
   "source": [
    "wejdsdss = 2343"
   ]
  },
  {
   "cell_type": "code",
   "execution_count": 155,
   "id": "1c65a3f8-19d2-41eb-9b05-6bf53ac58d61",
   "metadata": {},
   "outputs": [
    {
     "data": {
      "text/plain": [
       "2343"
      ]
     },
     "execution_count": 155,
     "metadata": {},
     "output_type": "execute_result"
    }
   ],
   "source": [
    "wejdsdss"
   ]
  },
  {
   "cell_type": "markdown",
   "id": "fb57d45e-edd5-43ac-a54f-392e9878c23d",
   "metadata": {},
   "source": [
    "# Assignment # 1 "
   ]
  },
  {
   "cell_type": "raw",
   "id": "aae24361-975b-468a-90cb-700009a1d9df",
   "metadata": {},
   "source": [
    "Skills  needed :\n",
    "\n",
    "1. How to create a variable \n",
    "2. How to calculate 2 numbers 2+2 a+a \n",
    "3. How to print a value print(\"Substraction : \",substract)\n",
    "\n",
    "Instruction :\n",
    "\n",
    "## We have to create a simple calculator \n",
    "\n",
    "1. create a variable num1 which have value  10\n",
    "2. create a variable num2 which have value 20\n",
    "\n",
    "3. Create a variable sum and in that add num1 and num2\n",
    "4. Create a variable divide and in that divide num1 and num2\n",
    "5. Create a variable multiply and in that multiply num1 and num2\n",
    "\n",
    "\n",
    "6. Print the value of variable sum\n",
    "7. Print the value of variable divide\n",
    "8. Print the value of variable multiply"
   ]
  },
  {
   "cell_type": "code",
   "execution_count": null,
   "id": "74e2ba70-5061-4edd-b782-afac661dba87",
   "metadata": {},
   "outputs": [],
   "source": []
  }
 ],
 "metadata": {
  "kernelspec": {
   "display_name": "Python [conda env:base] *",
   "language": "python",
   "name": "conda-base-py"
  },
  "language_info": {
   "codemirror_mode": {
    "name": "ipython",
    "version": 3
   },
   "file_extension": ".py",
   "mimetype": "text/x-python",
   "name": "python",
   "nbconvert_exporter": "python",
   "pygments_lexer": "ipython3",
   "version": "3.12.7"
  }
 },
 "nbformat": 4,
 "nbformat_minor": 5
}
