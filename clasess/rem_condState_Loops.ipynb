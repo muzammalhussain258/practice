{
 "cells": [
  {
   "cell_type": "markdown",
   "id": "ce41eed0",
   "metadata": {},
   "source": [
    "## Conditional Statements (Example 3)\n",
    "\n",
    "A simple user login system that checks the username and password"
   ]
  },
  {
   "cell_type": "code",
   "execution_count": null,
   "id": "0c2476ef",
   "metadata": {},
   "outputs": [
    {
     "name": "stdout",
     "output_type": "stream",
     "text": [
      "Login Successfully\n"
     ]
    }
   ],
   "source": [
    "# User login System\n",
    "\n",
    "\n",
    "# Predefined username and password\n",
    "\n",
    "stored_username = \"admin\"\n",
    "stored_password = \"password123\"\n",
    "\n",
    "# Take user Input\n",
    "username = input(\"Enter Username:\")\n",
    "password = input(\"Enter Password:\")\n",
    "\n",
    "\n",
    "# Check login credentials\n",
    "\n",
    "if username == stored_username:\n",
    "    if password == stored_password:\n",
    "        print(\"Login Successfully\")\n",
    "    else:\n",
    "        print(\"Incorrect Password.\")\n",
    "else:\n",
    "    print(\"Username not found\")\n",
    "\n"
   ]
  },
  {
   "cell_type": "markdown",
   "id": "6c52a1f1",
   "metadata": {},
   "source": [
    "# Loops"
   ]
  },
  {
   "cell_type": "markdown",
   "id": "f92aa471",
   "metadata": {},
   "source": [
    "Outline\n",
    "\n",
    "- Introduction to Loops\n",
    "- for Loop\n",
    "- Iterating over a range\n",
    "- Iterating over a string\n",
    "- while loop\n",
    "- Control Statements ( break, continue, pass )\n",
    "- Nested Loops\n",
    "- Practical Examples and Common Errors "
   ]
  },
  {
   "cell_type": "markdown",
   "id": "87620f50",
   "metadata": {},
   "source": [
    "  For Loop it iterates over the sequence of numbers"
   ]
  },
  {
   "cell_type": "code",
   "execution_count": 8,
   "id": "a76467fd",
   "metadata": {},
   "outputs": [
    {
     "data": {
      "text/plain": [
       "range(0, 5)"
      ]
     },
     "execution_count": 8,
     "metadata": {},
     "output_type": "execute_result"
    }
   ],
   "source": [
    "range(5)"
   ]
  },
  {
   "cell_type": "code",
   "execution_count": 9,
   "id": "8759a229",
   "metadata": {},
   "outputs": [
    {
     "name": "stdout",
     "output_type": "stream",
     "text": [
      "0\n",
      "1\n",
      "2\n",
      "3\n",
      "4\n"
     ]
    }
   ],
   "source": [
    "# for loop\n",
    "\n",
    "for i in range(5):\n",
    "    print(i)"
   ]
  },
  {
   "cell_type": "code",
   "execution_count": 10,
   "id": "12b13a8e",
   "metadata": {},
   "outputs": [
    {
     "name": "stdout",
     "output_type": "stream",
     "text": [
      "1\n",
      "2\n",
      "3\n",
      "4\n",
      "5\n"
     ]
    }
   ],
   "source": [
    "for i in range(1,6):\n",
    "    print(i)"
   ]
  },
  {
   "cell_type": "code",
   "execution_count": 12,
   "id": "4867ecdb",
   "metadata": {},
   "outputs": [
    {
     "name": "stdout",
     "output_type": "stream",
     "text": [
      "1\n",
      "3\n",
      "5\n",
      "7\n",
      "9\n"
     ]
    }
   ],
   "source": [
    "for i in range(1,10,2):\n",
    "    print(i)"
   ]
  },
  {
   "cell_type": "code",
   "execution_count": 15,
   "id": "90067c49",
   "metadata": {},
   "outputs": [
    {
     "name": "stdout",
     "output_type": "stream",
     "text": [
      "10\n",
      "9\n",
      "8\n",
      "7\n",
      "6\n",
      "5\n",
      "4\n",
      "3\n",
      "2\n"
     ]
    }
   ],
   "source": [
    "for i in range(10,1,-1):\n",
    "    print(i)"
   ]
  },
  {
   "cell_type": "code",
   "execution_count": 16,
   "id": "a7a7340c",
   "metadata": {},
   "outputs": [
    {
     "name": "stdout",
     "output_type": "stream",
     "text": [
      "10\n",
      "8\n",
      "6\n",
      "4\n",
      "2\n"
     ]
    }
   ],
   "source": [
    "for i in range(10,1,-2):\n",
    "    print(i)"
   ]
  },
  {
   "cell_type": "code",
   "execution_count": null,
   "id": "0d2b935d",
   "metadata": {},
   "outputs": [
    {
     "name": "stdout",
     "output_type": "stream",
     "text": [
      "M\n",
      "a\n",
      "l\n",
      "i\n",
      "k\n"
     ]
    }
   ],
   "source": [
    "## strings\n",
    "\n",
    "str = \"Malik\"\n",
    "\n",
    "for P in str:\n",
    "    print(P)"
   ]
  },
  {
   "cell_type": "code",
   "execution_count": 18,
   "id": "ee125df8",
   "metadata": {},
   "outputs": [
    {
     "name": "stdout",
     "output_type": "stream",
     "text": [
      "Sending confirmation email for Order1...\n",
      "Sending confirmation email for Order2...\n",
      "Sending confirmation email for Order3...\n",
      "Sending confirmation email for Order4...\n",
      "Sending confirmation email for Order5...\n"
     ]
    }
   ],
   "source": [
    "orders =  [\"Order1\", \"Order2\", \"Order3\",\"Order4\",\"Order5\"]\n",
    "\n",
    "for order in orders:\n",
    "    print(f\"Sending confirmation email for {order}...\")"
   ]
  },
  {
   "cell_type": "markdown",
   "id": "c7f80e4f",
   "metadata": {},
   "source": [
    "# Assignment 4 : Print Multiplication Table"
   ]
  },
  {
   "cell_type": "markdown",
   "id": "702812f9",
   "metadata": {},
   "source": [
    "Objective : Use a for loop to print the multiplication table for a number entered by a user"
   ]
  },
  {
   "cell_type": "markdown",
   "id": "8dec816e",
   "metadata": {},
   "source": [
    "instruction :\n",
    "\n",
    "1. Ask the user to enter the number\n",
    "2.  Use a for loop to print the multiplication from 1 to 10 for that number"
   ]
  },
  {
   "cell_type": "code",
   "execution_count": null,
   "id": "a9af2f03",
   "metadata": {},
   "outputs": [],
   "source": [
    "Example Output :\n",
    "\n",
    "Enter a number : 5 \n",
    "\n",
    "\n",
    "5 x 1 = 5\n",
    "5 x 2 = 10\n",
    ".\n",
    ".\n",
    "\n",
    ".\n",
    ".\n",
    ".\n",
    ".\n",
    ".\n",
    "5 x 10 = 50\n",
    "\n",
    "\n",
    "\n",
    "num = It should be integer + Input + \"Enter a number: \"\n",
    "\n",
    "\n",
    "for loop  (1,11)\n",
    "\n",
    "\n",
    "    print(f\" x {i} = \")"
   ]
  }
 ],
 "metadata": {
  "kernelspec": {
   "display_name": "Python 3",
   "language": "python",
   "name": "python3"
  },
  "language_info": {
   "codemirror_mode": {
    "name": "ipython",
    "version": 3
   },
   "file_extension": ".py",
   "mimetype": "text/x-python",
   "name": "python",
   "nbconvert_exporter": "python",
   "pygments_lexer": "ipython3",
   "version": "3.10.16"
  }
 },
 "nbformat": 4,
 "nbformat_minor": 5
}
