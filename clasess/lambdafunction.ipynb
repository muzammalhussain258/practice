{
 "cells": [
  {
   "cell_type": "markdown",
   "id": "b0fb457e",
   "metadata": {},
   "source": [
    "### Lambda Function in  python"
   ]
  },
  {
   "cell_type": "markdown",
   "id": "cc7a4282",
   "metadata": {},
   "source": [
    "Lambda functions are small anonymous functions defined using the lambda keyword. They can have any number of arguments but only one expression."
   ]
  },
  {
   "cell_type": "code",
   "execution_count": null,
   "id": "80e24dd3",
   "metadata": {},
   "outputs": [],
   "source": [
    "# syntax\n",
    "\n",
    "lambda arguments: expression"
   ]
  },
  {
   "cell_type": "code",
   "execution_count": null,
   "id": "1f0d3af6",
   "metadata": {},
   "outputs": [],
   "source": [
    "def addition(a,b):\n",
    "    return a+b\n",
    "\n",
    "addition(2,3)"
   ]
  },
  {
   "cell_type": "code",
   "execution_count": null,
   "id": "aff330ae",
   "metadata": {},
   "outputs": [],
   "source": [
    "addition = lambda a,b:a+b\n",
    "\n",
    "print(addition(2,3))"
   ]
  },
  {
   "cell_type": "code",
   "execution_count": null,
   "id": "c44765d4",
   "metadata": {},
   "outputs": [],
   "source": [
    "type(addition)"
   ]
  },
  {
   "cell_type": "code",
   "execution_count": null,
   "id": "2c5badf4",
   "metadata": {},
   "outputs": [],
   "source": [
    "def even(num):\n",
    "    if num%2==0:\n",
    "        return True\n",
    "\n",
    "\n",
    "even(26)"
   ]
  },
  {
   "cell_type": "code",
   "execution_count": null,
   "id": "0534a483",
   "metadata": {},
   "outputs": [],
   "source": [
    "even1 = lambda num:num%2==0\n",
    "\n",
    "even1(10)"
   ]
  },
  {
   "cell_type": "code",
   "execution_count": null,
   "id": "c1c10b6c",
   "metadata": {},
   "outputs": [],
   "source": [
    "def addition(x,y,z):\n",
    "    return x+y+z\n",
    "\n",
    "\n",
    "addition(12,13,14)"
   ]
  },
  {
   "cell_type": "code",
   "execution_count": null,
   "id": "09b5e696",
   "metadata": {},
   "outputs": [],
   "source": [
    "addition1 = lambda x,y,z:x+y+z\n",
    "\n",
    "\n",
    "addition1(5,10,15)"
   ]
  },
  {
   "cell_type": "markdown",
   "id": "2e8629e5",
   "metadata": {},
   "source": [
    "### Map Functions\n",
    "\n",
    "Map function applies a given function to all items in an input list (or any other iterable) and returns a map object."
   ]
  },
  {
   "cell_type": "code",
   "execution_count": null,
   "id": "d4df64c1",
   "metadata": {},
   "outputs": [],
   "source": [
    "# map() - applies a function to all items in the list\n",
    "\n",
    "numbers = [1,2,3,4,5,6]\n",
    "\n",
    "def square(numbers):\n",
    "    return numbers**2\n",
    "\n",
    "square(6)"
   ]
  },
  {
   "cell_type": "code",
   "execution_count": null,
   "id": "52a5d556",
   "metadata": {},
   "outputs": [],
   "source": [
    "list(map(lambda x:x**2,numbers))"
   ]
  },
  {
   "cell_type": "code",
   "execution_count": null,
   "id": "508bfc4f",
   "metadata": {},
   "outputs": [],
   "source": [
    "def square(x):\n",
    "    return x*x\n",
    "\n",
    "\n",
    "square(10)"
   ]
  },
  {
   "cell_type": "code",
   "execution_count": null,
   "id": "f8d3f497",
   "metadata": {},
   "outputs": [],
   "source": [
    "numbers = [1,2,3,4,5,6,7,8]\n",
    "\n",
    "list(map(square,numbers))"
   ]
  },
  {
   "cell_type": "code",
   "execution_count": null,
   "id": "49a9bc56",
   "metadata": {},
   "outputs": [],
   "source": [
    "## lambda function with map\n",
    "numbers = [1,2,3,4,5,6,7,8]\n",
    "list(map(lambda x:x*x,numbers))"
   ]
  },
  {
   "cell_type": "code",
   "execution_count": null,
   "id": "01c9b72e",
   "metadata": {},
   "outputs": [],
   "source": [
    "num1 = [1,2,3]\n",
    "\n",
    "num2 = [4,5,6]\n",
    "\n",
    "added_numbers = list(map(lambda x,y:x+y,num1,num2))\n",
    "\n",
    "print(added_numbers)"
   ]
  },
  {
   "cell_type": "code",
   "execution_count": null,
   "id": "dc8d75f2",
   "metadata": {},
   "outputs": [],
   "source": [
    "words = ['apple','banana','cherry']\n",
    "\n",
    "upper_word = list(map(str.upper,words))\n",
    "\n",
    "print(upper_word)"
   ]
  },
  {
   "cell_type": "code",
   "execution_count": null,
   "id": "4eeb7ecc",
   "metadata": {},
   "outputs": [],
   "source": [
    "def get_name(person):\n",
    "    return person['name']\n",
    "\n",
    "people = [\n",
    "    {'name':'Malik','age':30},\n",
    "    {'name':'Ali','age':26}\n",
    "]\n",
    "\n",
    "list(map(get_name,people))"
   ]
  },
  {
   "cell_type": "markdown",
   "id": "bc8eb02d",
   "metadata": {},
   "source": [
    "### The filter() function in python"
   ]
  },
  {
   "cell_type": "markdown",
   "id": "db7ceeae",
   "metadata": {},
   "source": [
    "The filter function constructs an iterator from elements of an iterable for which a fucntion returns true. It is used to filter out items from aa list based on the condition"
   ]
  },
  {
   "cell_type": "code",
   "execution_count": null,
   "id": "4d84acf9",
   "metadata": {},
   "outputs": [],
   "source": [
    "def even(num):\n",
    "    if num%2==0:\n",
    "        return True\n",
    "\n",
    "even(24)"
   ]
  },
  {
   "cell_type": "code",
   "execution_count": null,
   "id": "36efc277",
   "metadata": {},
   "outputs": [],
   "source": [
    "lst = [1,2,3,4,5,6,7,8,9,10,11,12]\n",
    "\n",
    "list(filter(even,lst))"
   ]
  },
  {
   "cell_type": "code",
   "execution_count": null,
   "id": "ba264a2a",
   "metadata": {},
   "outputs": [],
   "source": [
    "## filter with a lambda function\n",
    "\n",
    "numbers =[1,2,3,4,5,6,7,8,9]\n",
    "\n",
    "greater_than_five = list(filter(lambda x:x>5,numbers))\n",
    "\n",
    "print(greater_than_five)"
   ]
  },
  {
   "cell_type": "code",
   "execution_count": null,
   "id": "717ee747",
   "metadata": {},
   "outputs": [],
   "source": [
    "#Filter() to check if the age is greater than 25 in dictionaries\n",
    "\n",
    "\n",
    "people = [\n",
    "    {'name':'Malik','age':30},\n",
    "    {'name':'Ali','age':26},\n",
    "    {'name': 'Kashif','age':39}\n",
    "]\n",
    "\n",
    "def age_greater_than_25(person):\n",
    "    return person['age']>27\n",
    "\n",
    "list(filter(age_greater_than_25,people))"
   ]
  },
  {
   "cell_type": "markdown",
   "id": "8f6317e4",
   "metadata": {},
   "source": [
    "# Importing Modules in Python: Modules and Packages\n",
    "\n",
    "in python modules and packages help organizes and reuse the code."
   ]
  },
  {
   "cell_type": "code",
   "execution_count": null,
   "id": "fb684507",
   "metadata": {},
   "outputs": [],
   "source": [
    "import math\n",
    "\n",
    "math.sqrt(16)\n",
    "\n",
    "print(math.pi)"
   ]
  },
  {
   "cell_type": "code",
   "execution_count": null,
   "id": "65ac355b",
   "metadata": {},
   "outputs": [],
   "source": [
    "import numpy as np \n",
    "\n",
    "np.array([1,2,3,4])"
   ]
  },
  {
   "cell_type": "code",
   "execution_count": null,
   "id": "484f2fc2",
   "metadata": {},
   "outputs": [],
   "source": []
  },
  {
   "cell_type": "code",
   "execution_count": null,
   "id": "c78e952f",
   "metadata": {},
   "outputs": [],
   "source": []
  },
  {
   "cell_type": "code",
   "execution_count": null,
   "id": "8b7bc17b",
   "metadata": {},
   "outputs": [],
   "source": []
  },
  {
   "cell_type": "code",
   "execution_count": null,
   "id": "134a564b",
   "metadata": {},
   "outputs": [],
   "source": []
  },
  {
   "cell_type": "code",
   "execution_count": null,
   "id": "8a98e6e0",
   "metadata": {},
   "outputs": [],
   "source": []
  },
  {
   "cell_type": "markdown",
   "id": "e54725fd",
   "metadata": {},
   "source": []
  }
 ],
 "metadata": {
  "kernelspec": {
   "display_name": "nump",
   "language": "python",
   "name": "python3"
  },
  "language_info": {
   "codemirror_mode": {
    "name": "ipython",
    "version": 3
   },
   "file_extension": ".py",
   "mimetype": "text/x-python",
   "name": "python",
   "nbconvert_exporter": "python",
   "pygments_lexer": "ipython3",
   "version": "3.10.16"
  }
 },
 "nbformat": 4,
 "nbformat_minor": 5
}
