{
 "cells": [
  {
   "cell_type": "code",
   "execution_count": 4,
   "id": "dcf779cb",
   "metadata": {},
   "outputs": [
    {
     "name": "stdout",
     "output_type": "stream",
     "text": [
      "1\n",
      "2\n",
      "3\n",
      "4\n"
     ]
    }
   ],
   "source": [
    "# While Loops\n",
    "\n",
    "# The while loop continues to execute as long as the condition is True\n",
    "\n",
    "count = 1\n",
    "\n",
    "while count<5:\n",
    "    print(count)\n",
    "    count = count+1"
   ]
  },
  {
   "cell_type": "code",
   "execution_count": 6,
   "id": "5a34691a",
   "metadata": {},
   "outputs": [
    {
     "name": "stdout",
     "output_type": "stream",
     "text": [
      "0\n",
      "1\n",
      "2\n",
      "3\n",
      "4\n"
     ]
    }
   ],
   "source": [
    "## break / continue / pass\n",
    "\n",
    "# Loop control statements\n",
    "\n",
    "#break\n",
    "\n",
    "# The break statement exits the loop prematurely\n",
    "\n",
    "# break statement\n",
    "\n",
    "for i in range(10):\n",
    "    if i == 5:\n",
    "        break\n",
    "    print(i)"
   ]
  },
  {
   "cell_type": "code",
   "execution_count": 7,
   "id": "54b005a3",
   "metadata": {},
   "outputs": [
    {
     "name": "stdout",
     "output_type": "stream",
     "text": [
      "1\n",
      "3\n",
      "5\n",
      "7\n",
      "9\n"
     ]
    }
   ],
   "source": [
    "# The continue statement skip the current iteration and continue with the next.\n",
    "\n",
    "for i in range(10):\n",
    "    if i%2==0:\n",
    "        continue\n",
    "    print(i)\n"
   ]
  },
  {
   "cell_type": "code",
   "execution_count": 11,
   "id": "55afe35f",
   "metadata": {},
   "outputs": [
    {
     "name": "stdout",
     "output_type": "stream",
     "text": [
      "0\n",
      "1\n",
      "2\n",
      "The passed number is 3\n",
      "3\n",
      "4\n"
     ]
    }
   ],
   "source": [
    "# pass\n",
    "# The pass statement is a null operation\n",
    "# It does nothing\n",
    "\n",
    "for i in range(5):\n",
    "    if i == 3:\n",
    "        print(\"The passed number is\", i)\n",
    "        pass\n",
    "    print(i)"
   ]
  },
  {
   "cell_type": "code",
   "execution_count": 14,
   "id": "b5ee9672",
   "metadata": {},
   "outputs": [
    {
     "name": "stdout",
     "output_type": "stream",
     "text": [
      "I : 0 and j : 0\n",
      "I : 0 and j : 1\n",
      "I : 1 and j : 0\n",
      "I : 1 and j : 1\n",
      "I : 2 and j : 0\n",
      "I : 2 and j : 1\n"
     ]
    }
   ],
   "source": [
    "## Nested Loops\n",
    "\n",
    "# a loop inside a loop\n",
    "\n",
    "for i in range(3):\n",
    "    for j in range(2):\n",
    "        print(f\"I : {i} and j : {j}\")"
   ]
  },
  {
   "cell_type": "code",
   "execution_count": 15,
   "id": "e0ea6701",
   "metadata": {},
   "outputs": [
    {
     "name": "stdout",
     "output_type": "stream",
     "text": [
      "Sum of first 10 natural number:  55\n"
     ]
    }
   ],
   "source": [
    "# Example - Calculate the sum of first N natural numbers using a while and for loop\n",
    "\n",
    "n = 10\n",
    "sum = 0\n",
    "count = 1\n",
    "\n",
    "while count<=n:\n",
    "    sum =sum+count\n",
    "    count=count+1\n",
    "print(\"Sum of first 10 natural number: \", sum)"
   ]
  },
  {
   "cell_type": "markdown",
   "id": "6c62521e",
   "metadata": {},
   "source": [
    "### Nested Loop Assignment"
   ]
  },
  {
   "cell_type": "code",
   "execution_count": null,
   "id": "54634e81",
   "metadata": {},
   "outputs": [],
   "source": [
    " # Example - Please find the output showing Prime numbers between 1 and 100\n",
    "# These are the no. that are only divisible by 1 or the no. itself\n",
    "for agr num range main hai (1,101):\n",
    "    if number 1 se bara hai:\n",
    "        \n",
    "    \n"
   ]
  },
  {
   "cell_type": "markdown",
   "id": "129425fb",
   "metadata": {},
   "source": [
    "### Introduction to List\n",
    "\n",
    "- Lists are ordered\n",
    "- Mutable collection of items\n",
    "- They can contain items of different data types"
   ]
  },
  {
   "cell_type": "code",
   "execution_count": 16,
   "id": "c5a320f4",
   "metadata": {},
   "outputs": [
    {
     "name": "stdout",
     "output_type": "stream",
     "text": [
      "<class 'list'>\n"
     ]
    }
   ],
   "source": [
    "lst = []\n",
    "\n",
    "print(type(lst))"
   ]
  },
  {
   "cell_type": "code",
   "execution_count": 17,
   "id": "28acf605",
   "metadata": {},
   "outputs": [
    {
     "name": "stdout",
     "output_type": "stream",
     "text": [
      "['Malik', 'Ali', 'Qasim', 1, 2, 3, 4, 5, 6, 6.6]\n"
     ]
    }
   ],
   "source": [
    "names  = [\"Malik\",\"Ali\",\"Qasim\",1,2,3,4,5,6,6.6]\n",
    "\n",
    "print(names)"
   ]
  },
  {
   "cell_type": "code",
   "execution_count": 18,
   "id": "114c91da",
   "metadata": {},
   "outputs": [
    {
     "name": "stdout",
     "output_type": "stream",
     "text": [
      "[1, 'Hello', 3.14, True]\n"
     ]
    }
   ],
   "source": [
    "mixed_list = [1,\"Hello\",3.14,True]\n",
    "\n",
    "print(mixed_list)"
   ]
  },
  {
   "cell_type": "code",
   "execution_count": 19,
   "id": "a01dbe87",
   "metadata": {},
   "outputs": [],
   "source": [
    "# Accessing list elements \n",
    "\n",
    "fruits =  [\"apple\",\"banana\",\"cherry\",\"grapes\",\"mango\"]"
   ]
  },
  {
   "cell_type": "code",
   "execution_count": 20,
   "id": "ae22c1dc",
   "metadata": {},
   "outputs": [
    {
     "name": "stdout",
     "output_type": "stream",
     "text": [
      "apple\n"
     ]
    }
   ],
   "source": [
    "print(fruits[0])"
   ]
  },
  {
   "cell_type": "code",
   "execution_count": 21,
   "id": "ac55cb02",
   "metadata": {},
   "outputs": [
    {
     "name": "stdout",
     "output_type": "stream",
     "text": [
      "cherry\n"
     ]
    }
   ],
   "source": [
    "print(fruits[2])"
   ]
  },
  {
   "cell_type": "code",
   "execution_count": 23,
   "id": "d70f72e4",
   "metadata": {},
   "outputs": [
    {
     "name": "stdout",
     "output_type": "stream",
     "text": [
      "grapes\n"
     ]
    }
   ],
   "source": [
    "print(fruits[-2])"
   ]
  },
  {
   "cell_type": "code",
   "execution_count": 24,
   "id": "b2fd3461",
   "metadata": {},
   "outputs": [
    {
     "name": "stdout",
     "output_type": "stream",
     "text": [
      "['banana', 'cherry', 'grapes', 'mango']\n"
     ]
    }
   ],
   "source": [
    "print(fruits[1:])"
   ]
  },
  {
   "cell_type": "code",
   "execution_count": 25,
   "id": "c3362690",
   "metadata": {},
   "outputs": [
    {
     "name": "stdout",
     "output_type": "stream",
     "text": [
      "['banana', 'cherry']\n"
     ]
    }
   ],
   "source": [
    "print(fruits[1:3])"
   ]
  },
  {
   "cell_type": "code",
   "execution_count": 26,
   "id": "9aa6d6bf",
   "metadata": {},
   "outputs": [
    {
     "data": {
      "text/plain": [
       "['apple', 'banana', 'cherry', 'grapes', 'mango']"
      ]
     },
     "execution_count": 26,
     "metadata": {},
     "output_type": "execute_result"
    }
   ],
   "source": [
    "# Modifyinng the list elements\n",
    "\n",
    "fruits"
   ]
  },
  {
   "cell_type": "code",
   "execution_count": 27,
   "id": "435f1495",
   "metadata": {},
   "outputs": [
    {
     "name": "stdout",
     "output_type": "stream",
     "text": [
      "['apple', 'watermelon', 'cherry', 'grapes', 'mango']\n"
     ]
    }
   ],
   "source": [
    "fruits[1] = \"watermelon\"\n",
    "\n",
    "print(fruits)"
   ]
  },
  {
   "cell_type": "code",
   "execution_count": 28,
   "id": "8836d0ba",
   "metadata": {},
   "outputs": [
    {
     "data": {
      "text/plain": [
       "['apple', 'w', 'a', 't', 'e', 'r', 'm', 'e', 'l', 'o', 'n']"
      ]
     },
     "execution_count": 28,
     "metadata": {},
     "output_type": "execute_result"
    }
   ],
   "source": [
    "fruits[1:] = \"watermelon\"\n",
    "\n",
    "fruits"
   ]
  },
  {
   "cell_type": "code",
   "execution_count": 29,
   "id": "0644f97b",
   "metadata": {},
   "outputs": [],
   "source": [
    "fruits = ['apple', 'watermelon', 'cherry', 'grapes', 'mango']"
   ]
  },
  {
   "cell_type": "code",
   "execution_count": 30,
   "id": "1e8c6102",
   "metadata": {},
   "outputs": [
    {
     "name": "stdout",
     "output_type": "stream",
     "text": [
      "['apple', 'watermelon', 'cherry', 'grapes', 'mango', 'orange']\n"
     ]
    }
   ],
   "source": [
    "## List Methods\n",
    "\n",
    "fruits.append(\"orange\") #add an item to the end\n",
    "\n",
    "print(fruits)"
   ]
  },
  {
   "cell_type": "code",
   "execution_count": 31,
   "id": "2980f884",
   "metadata": {},
   "outputs": [
    {
     "name": "stdout",
     "output_type": "stream",
     "text": [
      "['apple', 'Banana', 'watermelon', 'cherry', 'grapes', 'mango', 'orange']\n"
     ]
    }
   ],
   "source": [
    "fruits.insert(1,\"Banana\")\n",
    "\n",
    "print(fruits)"
   ]
  },
  {
   "cell_type": "code",
   "execution_count": 33,
   "id": "85e71359",
   "metadata": {},
   "outputs": [
    {
     "data": {
      "text/plain": [
       "['apple',\n",
       " 'Banana',\n",
       " 'watermelon',\n",
       " 'cherry',\n",
       " 'grapes',\n",
       " 'mango',\n",
       " 'orange',\n",
       " 'Banana',\n",
       " 'Banana']"
      ]
     },
     "execution_count": 33,
     "metadata": {},
     "output_type": "execute_result"
    }
   ],
   "source": [
    "fruits.append(\"Banana\")\n",
    "\n",
    "fruits"
   ]
  },
  {
   "cell_type": "code",
   "execution_count": 39,
   "id": "a0efe0a4",
   "metadata": {},
   "outputs": [
    {
     "name": "stdout",
     "output_type": "stream",
     "text": [
      "['apple', 'cherry', 'grapes', 'mango', 'orange', 'watermelon']\n"
     ]
    }
   ],
   "source": [
    "fruits.remove(\"Banana\") # It removes first occurance of an itme\n",
    "\n",
    "print(fruits)"
   ]
  },
  {
   "cell_type": "code",
   "execution_count": 35,
   "id": "ee82e07e",
   "metadata": {},
   "outputs": [
    {
     "name": "stdout",
     "output_type": "stream",
     "text": [
      "Banana\n",
      "['apple', 'watermelon', 'cherry', 'grapes', 'mango', 'orange', 'Banana']\n"
     ]
    }
   ],
   "source": [
    "#Remove and return the last element\n",
    "\n",
    "popped_fruits = fruits.pop()\n",
    "\n",
    "print(popped_fruits)\n",
    "\n",
    "print(fruits)"
   ]
  },
  {
   "cell_type": "code",
   "execution_count": 43,
   "id": "5474c085",
   "metadata": {},
   "outputs": [
    {
     "data": {
      "text/plain": [
       "['apple',\n",
       " 'banana',\n",
       " 'banana',\n",
       " 'cherry',\n",
       " 'grapes',\n",
       " 'mango',\n",
       " 'orange',\n",
       " 'watermelon']"
      ]
     },
     "execution_count": 43,
     "metadata": {},
     "output_type": "execute_result"
    }
   ],
   "source": [
    "## Sort the list in ascending order\n",
    "\n",
    "\n",
    "fruits.sort()\n",
    "fruits"
   ]
  },
  {
   "cell_type": "code",
   "execution_count": 49,
   "id": "2d2fe99c",
   "metadata": {},
   "outputs": [
    {
     "name": "stdout",
     "output_type": "stream",
     "text": [
      "['apple', 'banana', 'banana', 'banana', 'banana', 'cherry', 'grapes', 'mango', 'orange', 'watermelon']\n"
     ]
    }
   ],
   "source": [
    "fruits.insert(2,\"banana\")\n",
    "\n",
    "print(fruits)"
   ]
  },
  {
   "cell_type": "code",
   "execution_count": 47,
   "id": "b77a50a8",
   "metadata": {},
   "outputs": [
    {
     "name": "stdout",
     "output_type": "stream",
     "text": [
      "['apple', 'cherry', 'grapes', 'mango', 'orange', 'watermelon']\n"
     ]
    }
   ],
   "source": [
    "\n",
    "\n",
    "to_remove = 'banana'\n",
    "\n",
    "new_list = [item for item in fruits if item != to_remove]\n",
    "\n",
    "print(new_list)"
   ]
  },
  {
   "cell_type": "code",
   "execution_count": 50,
   "id": "03821517",
   "metadata": {},
   "outputs": [
    {
     "data": {
      "text/plain": [
       "['apple',\n",
       " 'banana',\n",
       " 'banana',\n",
       " 'banana',\n",
       " 'banana',\n",
       " 'cherry',\n",
       " 'grapes',\n",
       " 'mango',\n",
       " 'orange',\n",
       " 'watermelon']"
      ]
     },
     "execution_count": 50,
     "metadata": {},
     "output_type": "execute_result"
    }
   ],
   "source": [
    "fruits"
   ]
  },
  {
   "cell_type": "code",
   "execution_count": 54,
   "id": "3178e5bd",
   "metadata": {},
   "outputs": [
    {
     "name": "stdout",
     "output_type": "stream",
     "text": [
      "['apple', 'cherry', 'grapes', 'mango', 'orange', 'watermelon']\n"
     ]
    }
   ],
   "source": [
    "fruits = ['apple','apple', 'cherry', 'grapes', 'mango', 'orange', 'watermelon']\n",
    "\n",
    "unique_fruits = []\n",
    "\n",
    "for fruit in fruits:\n",
    "    if fruit not in unique_fruits:\n",
    "        unique_fruits.append(fruit)\n",
    "print(unique_fruits)"
   ]
  },
  {
   "cell_type": "code",
   "execution_count": 55,
   "id": "3903dd5e",
   "metadata": {},
   "outputs": [
    {
     "data": {
      "text/plain": [
       "['apple', 'apple', 'cherry', 'grapes', 'mango', 'orange', 'watermelon']"
      ]
     },
     "execution_count": 55,
     "metadata": {},
     "output_type": "execute_result"
    }
   ],
   "source": [
    "fruits"
   ]
  },
  {
   "cell_type": "code",
   "execution_count": 56,
   "id": "ecd116d9",
   "metadata": {},
   "outputs": [],
   "source": [
    "fruits.sort()"
   ]
  },
  {
   "cell_type": "code",
   "execution_count": 58,
   "id": "e82a89bf",
   "metadata": {},
   "outputs": [],
   "source": [
    "fruits.reverse()"
   ]
  },
  {
   "cell_type": "code",
   "execution_count": 59,
   "id": "c01df8b3",
   "metadata": {},
   "outputs": [
    {
     "data": {
      "text/plain": [
       "['watermelon', 'orange', 'mango', 'grapes', 'cherry', 'apple', 'apple']"
      ]
     },
     "execution_count": 59,
     "metadata": {},
     "output_type": "execute_result"
    }
   ],
   "source": [
    "fruits"
   ]
  },
  {
   "cell_type": "code",
   "execution_count": 60,
   "id": "88048c4c",
   "metadata": {},
   "outputs": [],
   "source": [
    "fruits.clear() # removing all items from the list"
   ]
  },
  {
   "cell_type": "code",
   "execution_count": 61,
   "id": "fb64cf77",
   "metadata": {},
   "outputs": [
    {
     "data": {
      "text/plain": [
       "[]"
      ]
     },
     "execution_count": 61,
     "metadata": {},
     "output_type": "execute_result"
    }
   ],
   "source": [
    "fruits"
   ]
  },
  {
   "cell_type": "code",
   "execution_count": 62,
   "id": "bae7fd0e",
   "metadata": {},
   "outputs": [
    {
     "name": "stdout",
     "output_type": "stream",
     "text": [
      "[3, 4, 5]\n"
     ]
    }
   ],
   "source": [
    "# Slicing list\n",
    "\n",
    "numbers = [1,2,3,4,5,6,7,8,9,10]\n",
    "\n",
    "print(numbers[2:5])"
   ]
  },
  {
   "cell_type": "code",
   "execution_count": 63,
   "id": "a3db3d3a",
   "metadata": {},
   "outputs": [
    {
     "name": "stdout",
     "output_type": "stream",
     "text": [
      "[1, 2, 3, 4, 5]\n"
     ]
    }
   ],
   "source": [
    "print(numbers[:5])"
   ]
  },
  {
   "cell_type": "code",
   "execution_count": 64,
   "id": "f0289888",
   "metadata": {},
   "outputs": [
    {
     "name": "stdout",
     "output_type": "stream",
     "text": [
      "[6, 7, 8, 9, 10]\n"
     ]
    }
   ],
   "source": [
    "print(numbers[5:])"
   ]
  },
  {
   "cell_type": "markdown",
   "id": "f20439ca",
   "metadata": {},
   "source": [
    "### List Comprehension"
   ]
  },
  {
   "cell_type": "code",
   "execution_count": null,
   "id": "f0433bb3",
   "metadata": {},
   "outputs": [],
   "source": [
    "#Basic Syntax[expression for item in iterable]\n",
    "\n",
    "#with conditional logic[expression for item in iterable if condition]\n",
    "\n",
    "#Nested List Comprehension[expression for item1 in iterable1 for item 2 in iterable2]"
   ]
  },
  {
   "cell_type": "code",
   "execution_count": 65,
   "id": "9a446c8d",
   "metadata": {},
   "outputs": [
    {
     "name": "stdout",
     "output_type": "stream",
     "text": [
      "[0, 1, 4, 9, 16, 25, 36, 49, 64, 81]\n"
     ]
    }
   ],
   "source": [
    "## Basic List Comprehension\n",
    "\n",
    "square = [num ** 2 for num in range(10)]\n",
    "\n",
    "print(square)"
   ]
  },
  {
   "cell_type": "code",
   "execution_count": null,
   "id": "511e59f9",
   "metadata": {},
   "outputs": [
    {
     "name": "stdout",
     "output_type": "stream",
     "text": [
      "[0, 2, 4, 6, 8]\n"
     ]
    }
   ],
   "source": [
    "# List Comprehensionn with condition\n",
    "\n",
    "lst = []\n",
    "for i in range(10):\n",
    "    if i%2==0:\n",
    "        lst.append(i)\n",
    "print(lst)"
   ]
  },
  {
   "cell_type": "code",
   "execution_count": 67,
   "id": "bf634a80",
   "metadata": {},
   "outputs": [
    {
     "name": "stdout",
     "output_type": "stream",
     "text": [
      "[0, 2, 4, 6, 8]\n"
     ]
    }
   ],
   "source": [
    "even_num = [num for num in range(10) if num%2==0]\n",
    "\n",
    "print(even_num)"
   ]
  },
  {
   "cell_type": "markdown",
   "id": "1b813ffb",
   "metadata": {},
   "source": [
    "Example 1 : Manage a to do list (Assignment)\n",
    "Example 2 :Orgaanizing Student Grades\n",
    "Example 3 :Managing an inventory\n",
    "Example 4 : Collecting user feedback"
   ]
  },
  {
   "cell_type": "markdown",
   "id": "16ad3476",
   "metadata": {},
   "source": [
    "### Assignment : Manage a to do list"
   ]
  },
  {
   "cell_type": "code",
   "execution_count": null,
   "id": "9ed7c362",
   "metadata": {},
   "outputs": [],
   "source": [
    "1. create a variable with to_do_list name\n",
    "2. inside this variable add few list of tasks (\"Buy Food\", \"go for walk\") add atleast 4 task\n",
    "3. Adding few tasks (\"Schedule a meeting\",\"Go for a run\")\n",
    "4. Remove Buy Food from the list\n",
    "\n",
    "5. Create if statement\n",
    "\n",
    "agr \"Buy Food\" in to_do_list:\n",
    "print(\"\")\n",
    "\n",
    "print to do list"
   ]
  },
  {
   "cell_type": "code",
   "execution_count": 77,
   "id": "f3c99ce8",
   "metadata": {},
   "outputs": [
    {
     "data": {
      "text/plain": [
       "[86, 90, 50, 100, 35, 95]"
      ]
     },
     "execution_count": 77,
     "metadata": {},
     "output_type": "execute_result"
    }
   ],
   "source": [
    "# Example 2 : Organizing Student Grades\n",
    "# Create a list to store and calculate average grades for students\n",
    "\n",
    "# Organizing student grades\n",
    "\n",
    "grades  = [86,90,50,100,35]\n",
    "\n",
    "# adding new grades\n",
    "\n",
    "grades.append(95)\n",
    "\n",
    "grades\n",
    "\n"
   ]
  },
  {
   "cell_type": "code",
   "execution_count": 78,
   "id": "0bbc2318",
   "metadata": {},
   "outputs": [
    {
     "name": "stdout",
     "output_type": "stream",
     "text": [
      "Highest Grade : 100\n",
      "Lowest Grade : 35\n"
     ]
    }
   ],
   "source": [
    "highest_grade = max(grades)\n",
    "lowest_grade = min(grades)\n",
    "\n",
    "print(f\"Highest Grade : {highest_grade}\")\n",
    "print(f\"Lowest Grade : {lowest_grade}\")\n"
   ]
  },
  {
   "cell_type": "code",
   "execution_count": 79,
   "id": "6226620a",
   "metadata": {},
   "outputs": [
    {
     "data": {
      "text/plain": [
       "['watermelon', 'orange', 'mango', 'grapes', 'cherry', 'apple', 'strawberries']"
      ]
     },
     "execution_count": 79,
     "metadata": {},
     "output_type": "execute_result"
    }
   ],
   "source": [
    "# Example 3 : Managing an inventory\n",
    "\n",
    "# Use a list to manage inventory items in a store\n",
    "\n",
    "inventory = ['watermelon', 'orange', 'mango', 'grapes', 'cherry', 'apple']\n",
    "\n",
    "\n",
    "# Adding a new item \n",
    "inventory.append(\"strawberries\")\n",
    "\n",
    "inventory\n"
   ]
  },
  {
   "cell_type": "code",
   "execution_count": 80,
   "id": "a23daaf8",
   "metadata": {},
   "outputs": [
    {
     "data": {
      "text/plain": [
       "['watermelon', 'mango', 'grapes', 'cherry', 'apple', 'strawberries']"
      ]
     },
     "execution_count": 80,
     "metadata": {},
     "output_type": "execute_result"
    }
   ],
   "source": [
    "inventory.remove(\"orange\")\n",
    "\n",
    "inventory"
   ]
  },
  {
   "cell_type": "code",
   "execution_count": 86,
   "id": "8ee115cb",
   "metadata": {},
   "outputs": [
    {
     "name": "stdout",
     "output_type": "stream",
     "text": [
      "apple is in the stock.\n"
     ]
    }
   ],
   "source": [
    "## checking if an item is in the stock\n",
    "\n",
    "item = \"apple\"\n",
    "\n",
    "if item in inventory:\n",
    "    print(f\"{item} is in the stock.\")\n",
    "else:\n",
    "    print(f\"{item} is out of stock.\")"
   ]
  },
  {
   "cell_type": "code",
   "execution_count": null,
   "id": "550526a2",
   "metadata": {},
   "outputs": [],
   "source": [
    "next : Tupes -> Dictionaries ->"
   ]
  }
 ],
 "metadata": {
  "kernelspec": {
   "display_name": "Python 3",
   "language": "python",
   "name": "python3"
  },
  "language_info": {
   "codemirror_mode": {
    "name": "ipython",
    "version": 3
   },
   "file_extension": ".py",
   "mimetype": "text/x-python",
   "name": "python",
   "nbconvert_exporter": "python",
   "pygments_lexer": "ipython3",
   "version": "3.10.16"
  }
 },
 "nbformat": 4,
 "nbformat_minor": 5
}
