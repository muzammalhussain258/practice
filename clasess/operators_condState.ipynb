{
 "cells": [
  {
   "cell_type": "markdown",
   "id": "4615b10b",
   "metadata": {},
   "source": [
    "# Deep Dive into Operators"
   ]
  },
  {
   "cell_type": "markdown",
   "id": "094bfd84",
   "metadata": {},
   "source": [
    "outline :\n",
    "\n",
    "1. Intro\n",
    "2. Arthmetic Operators (+ , - ,* , / ,% ,modulus, exponentiation)\n",
    "3. Comparison Operators (== , not equal to, greater than,less than)\n",
    "4. Logical operators (AND, OR , NOT)\n",
    "5. Practical Examples and Common Error"
   ]
  },
  {
   "cell_type": "code",
   "execution_count": null,
   "id": "50b846ca",
   "metadata": {},
   "outputs": [
    {
     "data": {
      "text/plain": [
       "False"
      ]
     },
     "execution_count": 1,
     "metadata": {},
     "output_type": "execute_result"
    }
   ],
   "source": [
    "a=10\n",
    "b=5\n",
    "\n",
    "a == b"
   ]
  },
  {
   "cell_type": "code",
   "execution_count": 2,
   "id": "0af2d1da",
   "metadata": {},
   "outputs": [
    {
     "name": "stdout",
     "output_type": "stream",
     "text": [
      "15\n",
      "5\n",
      "50\n",
      "2.0\n",
      "2\n",
      "0\n",
      "100000\n"
     ]
    }
   ],
   "source": [
    "## Arthmetic Operators\n",
    "\n",
    "a = 10 \n",
    "b= 5\n",
    "\n",
    "add = a + b\n",
    "sub = a - b \n",
    "mult = a *b\n",
    "div  = a/b\n",
    "floor_div = a//b\n",
    "modulus = a%b\n",
    "exponent = a**b \n",
    "\n",
    "print(add)\n",
    "print(sub)\n",
    "print(mult)\n",
    "print(div)\n",
    "print(floor_div)\n",
    "print(modulus)\n",
    "print(exponent)\n"
   ]
  },
  {
   "cell_type": "code",
   "execution_count": null,
   "id": "4e804c13",
   "metadata": {},
   "outputs": [
    {
     "data": {
      "text/plain": [
       "True"
      ]
     },
     "execution_count": 3,
     "metadata": {},
     "output_type": "execute_result"
    }
   ],
   "source": [
    "# Comparison Operators\n",
    "\n",
    "##  == \n",
    "\n",
    "a= 10\n",
    "b= 10\n",
    "\n",
    "a == b"
   ]
  },
  {
   "cell_type": "code",
   "execution_count": 5,
   "id": "5b22acea",
   "metadata": {},
   "outputs": [
    {
     "data": {
      "text/plain": [
       "True"
      ]
     },
     "execution_count": 5,
     "metadata": {},
     "output_type": "execute_result"
    }
   ],
   "source": [
    "str1 = \"Malik\"\n",
    "\n",
    "str2 = \"Malik\"\n",
    "\n",
    "str1 == str2 "
   ]
  },
  {
   "cell_type": "code",
   "execution_count": 7,
   "id": "e529a7ca",
   "metadata": {},
   "outputs": [
    {
     "data": {
      "text/plain": [
       "False"
      ]
     },
     "execution_count": 7,
     "metadata": {},
     "output_type": "execute_result"
    }
   ],
   "source": [
    "str3 = \"Malik\"\n",
    "\n",
    "str4 = \"Malik\"\n",
    "\n",
    "str3 != str4 "
   ]
  },
  {
   "cell_type": "code",
   "execution_count": 8,
   "id": "1811c816",
   "metadata": {},
   "outputs": [
    {
     "data": {
      "text/plain": [
       "False"
      ]
     },
     "execution_count": 8,
     "metadata": {},
     "output_type": "execute_result"
    }
   ],
   "source": [
    "# greater than > \n",
    "\n",
    "num1 = 45\n",
    "num2 = 55\n",
    "\n",
    "num1 > num2"
   ]
  },
  {
   "cell_type": "code",
   "execution_count": 11,
   "id": "e60f286a",
   "metadata": {},
   "outputs": [
    {
     "data": {
      "text/plain": [
       "False"
      ]
     },
     "execution_count": 11,
     "metadata": {},
     "output_type": "execute_result"
    }
   ],
   "source": [
    "# greater than or equal to\n",
    "\n",
    "num3 = 50\n",
    "num4 = 56 \n",
    "\n",
    "num3 >= num4 "
   ]
  },
  {
   "cell_type": "code",
   "execution_count": 14,
   "id": "b384dfd3",
   "metadata": {},
   "outputs": [],
   "source": [
    "# Logical Operators\n",
    "\n",
    "# AND , Not , OR\n",
    "\n",
    "X = False\n",
    "Y = True \n",
    "\n",
    "result = X and Y\n",
    "\n"
   ]
  },
  {
   "cell_type": "code",
   "execution_count": 15,
   "id": "8b9afff5",
   "metadata": {},
   "outputs": [
    {
     "name": "stdout",
     "output_type": "stream",
     "text": [
      "False\n"
     ]
    }
   ],
   "source": [
    "print(result)"
   ]
  },
  {
   "cell_type": "code",
   "execution_count": 16,
   "id": "db8f48e6",
   "metadata": {},
   "outputs": [
    {
     "name": "stdout",
     "output_type": "stream",
     "text": [
      "False\n"
     ]
    }
   ],
   "source": [
    "# OR \n",
    "\n",
    "X = False \n",
    "Y = False \n",
    "\n",
    "result = X or Y \n",
    "\n",
    "print(result)\n"
   ]
  },
  {
   "cell_type": "code",
   "execution_count": 17,
   "id": "74b52d07",
   "metadata": {},
   "outputs": [
    {
     "data": {
      "text/plain": [
       "True"
      ]
     },
     "execution_count": 17,
     "metadata": {},
     "output_type": "execute_result"
    }
   ],
   "source": [
    "X = False\n",
    "\n",
    "not X"
   ]
  },
  {
   "cell_type": "code",
   "execution_count": 21,
   "id": "8cadbc2f",
   "metadata": {},
   "outputs": [
    {
     "name": "stdout",
     "output_type": "stream",
     "text": [
      "Eligible for Loan\n"
     ]
    }
   ],
   "source": [
    "age  = 19\n",
    "\n",
    "income = 20000\n",
    "\n",
    "if age > 18 or income > 50000:\n",
    "    print(\"Eligible for Loan\")\n",
    "else:\n",
    "    print(\"Not Eligible\")"
   ]
  },
  {
   "cell_type": "code",
   "execution_count": 23,
   "id": "0832bb19",
   "metadata": {},
   "outputs": [
    {
     "name": "stdout",
     "output_type": "stream",
     "text": [
      "Addition :  50.0\n",
      "Subtraction :  -30.0\n",
      "multiplication :  400.0\n",
      "floor_division :  0.0\n",
      "exponentiation :  1e+40\n"
     ]
    }
   ],
   "source": [
    "## Simple Calculator\n",
    "\n",
    "num1 = float(input(\"Enter first number : \"))\n",
    "num2 = float(input(\"Enter Second number :\"))\n",
    "\n",
    "\n",
    "# Performing arthmetic operations\n",
    "\n",
    "addition = num1 + num2\n",
    "subtraction = num1 - num2 \n",
    "multiplication = num1 * num2 \n",
    "floor_division = num1 // num2\n",
    "expon  = num1 ** num2\n",
    "\n",
    "# Display Results\n",
    "\n",
    "print ( \"Addition : \", addition)\n",
    "print ( \"Subtraction : \", subtraction)\n",
    "print ( \"multiplication : \", multiplication)\n",
    "print ( \"floor_division : \", floor_division)\n",
    "print ( \"exponentiation : \", expon)"
   ]
  },
  {
   "cell_type": "code",
   "execution_count": 24,
   "id": "10d546c7",
   "metadata": {},
   "outputs": [
    {
     "data": {
      "text/plain": [
       "3.3333333333333335"
      ]
     },
     "execution_count": 24,
     "metadata": {},
     "output_type": "execute_result"
    }
   ],
   "source": [
    "X = 10/3\n",
    "\n",
    "X "
   ]
  },
  {
   "cell_type": "code",
   "execution_count": 25,
   "id": "58ba58be",
   "metadata": {},
   "outputs": [
    {
     "data": {
      "text/plain": [
       "3"
      ]
     },
     "execution_count": 25,
     "metadata": {},
     "output_type": "execute_result"
    }
   ],
   "source": [
    "X = 10 // 3 \n",
    "\n",
    "X "
   ]
  },
  {
   "cell_type": "code",
   "execution_count": 27,
   "id": "c1f01f7a",
   "metadata": {},
   "outputs": [
    {
     "data": {
      "text/plain": [
       "-4"
      ]
     },
     "execution_count": 27,
     "metadata": {},
     "output_type": "execute_result"
    }
   ],
   "source": [
    "X = -10 // 3 \n",
    "\n",
    "X"
   ]
  },
  {
   "cell_type": "code",
   "execution_count": 29,
   "id": "fcaabc64",
   "metadata": {},
   "outputs": [
    {
     "data": {
      "text/plain": [
       "3.0"
      ]
     },
     "execution_count": 29,
     "metadata": {},
     "output_type": "execute_result"
    }
   ],
   "source": [
    "7.5 // 2"
   ]
  },
  {
   "cell_type": "code",
   "execution_count": 30,
   "id": "4e3fd59c",
   "metadata": {},
   "outputs": [
    {
     "name": "stdout",
     "output_type": "stream",
     "text": [
      "8\n"
     ]
    }
   ],
   "source": [
    "print(2 ** 3)"
   ]
  },
  {
   "cell_type": "markdown",
   "id": "a7dd704c",
   "metadata": {},
   "source": [
    "# Conditional Statements (IF , ELIF, ELSE)"
   ]
  },
  {
   "cell_type": "code",
   "execution_count": 7,
   "id": "1b4e0431",
   "metadata": {},
   "outputs": [
    {
     "name": "stdout",
     "output_type": "stream",
     "text": [
      "You are allowed to vote in the election\n"
     ]
    }
   ],
   "source": [
    "## IF statement\n",
    "\n",
    "age = 19\n",
    "\n",
    "# if statement evaluates the condition and execute the block of code if the condition is true.\n",
    "\n",
    "if age >= 18:\n",
    "    print(\"You are allowed to vote in the election\")\n"
   ]
  },
  {
   "cell_type": "code",
   "execution_count": null,
   "id": "d05f1a3c",
   "metadata": {},
   "outputs": [
    {
     "name": "stdout",
     "output_type": "stream",
     "text": [
      "You are a child\n"
     ]
    }
   ],
   "source": [
    "## else statement\n",
    "\n",
    "age = 16\n",
    "\n",
    "# else statement evaluates the condition and execute the block of code if the condition is Fasle.\n",
    "\n",
    "if age >= 18:\n",
    "    print(\"You are eligible for voting \")\n",
    "else:\n",
    "    print(\"You are a child\")"
   ]
  },
  {
   "cell_type": "markdown",
   "id": "16bd3fa0",
   "metadata": {},
   "source": [
    "- child : younger than 13\n",
    "- teenager : <= 19\n",
    "- adult : >= 20 "
   ]
  },
  {
   "cell_type": "code",
   "execution_count": null,
   "id": "d266c43f",
   "metadata": {},
   "outputs": [
    {
     "name": "stdout",
     "output_type": "stream",
     "text": [
      "You are an adult\n"
     ]
    }
   ],
   "source": [
    "# elif \"else if\"\n",
    "# The elif statement allows you to check multiple conditions. \n",
    "\n",
    "age  = int(input(\"What am I by my age?\"))\n",
    "\n",
    "if age <= 13 :\n",
    "    print(\"You are a Child\")\n",
    "elif age <= 19:\n",
    "    print(\"You are a teenager\")\n",
    "else:\n",
    "    print(\"You are an adult\")\n"
   ]
  },
  {
   "cell_type": "code",
   "execution_count": 16,
   "id": "52359b88",
   "metadata": {},
   "outputs": [
    {
     "name": "stdout",
     "output_type": "stream",
     "text": [
      "The number is positive\n",
      "This number is even\n"
     ]
    }
   ],
   "source": [
    "## Nested Conditional Statement \n",
    "# You can place one or more if , elif, else statement inside another if, elif, else statement to create nested conditional statement.\n",
    "\n",
    "# Example number even, odd, negative\n",
    "\n",
    "num = int(input(\"Enter the number\"))\n",
    "\n",
    "if num > 0:\n",
    "    print(\"The number is positive\")\n",
    "    if num%2==0:\n",
    "        print(\"This number is even\")\n",
    "    else:\n",
    "        print(\"This number is odd\")\n",
    "else:\n",
    "    print(\"The number is either 0 or negative\")\n"
   ]
  },
  {
   "cell_type": "markdown",
   "id": "d1331557",
   "metadata": {},
   "source": [
    "# Examples we will work on\n",
    "\n",
    "- Ticket Pricing System # Assignment 3\n",
    "- Employee Bonus System\n",
    "- Determine leap Year\n",
    "- User Login System"
   ]
  },
  {
   "cell_type": "markdown",
   "id": "3e4b9800",
   "metadata": {},
   "source": [
    "# Employee Bonus System\n",
    "\n",
    "if rating  >= 4.5 \n",
    "    if yos > 10 = 20%\n",
    "    elif > 5 = 15%\n",
    "    else : 10%\n",
    "\n",
    "elif rating >= 3.5\n",
    "    if yos > 10 = 15%\n",
    "    elif > 5 = 10%\n",
    "    else : 5%\n",
    "    \n",
    "else:\n",
    "    bonus : 0 "
   ]
  },
  {
   "cell_type": "code",
   "execution_count": 28,
   "id": "e4ec223a",
   "metadata": {},
   "outputs": [
    {
     "name": "stdout",
     "output_type": "stream",
     "text": [
      "10\n",
      "Bonus Amount: Rs.32.10\n"
     ]
    }
   ],
   "source": [
    "years_of_service = int(input(\"Enter years of service: \"))\n",
    "performance_rating = float(input(\"Enter performance rating (1.0 - 5.0) :\"))\n",
    "\n",
    "# Determine bonus percentage\n",
    "if performance_rating >= 4.5:\n",
    "    if years_of_service > 10:\n",
    "        bonus_percentage = 20 \n",
    "    elif years_of_service > 5:\n",
    "        bonus_percentage = 15\n",
    "    else:\n",
    "        bonus_percentage = 10\n",
    "elif performance_rating >= 3.5:\n",
    "    if years_of_service > 10:\n",
    "        bonus_percentage = 15 \n",
    "    elif years_of_service > 5:\n",
    "        bonus_percentage = 10\n",
    "    else:\n",
    "        bonus_percentage = 5\n",
    "else:\n",
    "    bonus_percentage = 0\n",
    "\n",
    "#calculate bonus amount\n",
    "salary = float(input(\"Enter Current salary:\"))\n",
    "\n",
    "bonus_amount = salary * bonus_percentage / 100\n",
    "\n",
    "print(bonus_percentage)\n",
    "print(\"Bonus Amount: Rs.{:.2f}\".format(bonus_amount))"
   ]
  },
  {
   "cell_type": "markdown",
   "id": "1a2aad5c",
   "metadata": {},
   "source": [
    "# Assignment # 3 "
   ]
  },
  {
   "cell_type": "code",
   "execution_count": null,
   "id": "7baecf19",
   "metadata": {},
   "outputs": [],
   "source": [
    "## Determine the ticket price based on age and whether the person is student\n",
    "# Ticket price should be based on age and status\n",
    "\n",
    "# 1 Take user input\n",
    "\n",
    "# age =\n",
    "# is_student = .....  .lower()\n",
    "\n",
    "\n",
    "# agr age 5 se kam hai tou ticket free \n",
    "\n",
    "# ya phir 12 se kam hai tou 10 rupay\n",
    "\n",
    "# ya phir 17 se kam hai # nested\n",
    "    # or wo student  \n",
    "    # tou phir 12 rupay \n",
    "    # warna 15 rupay \n",
    "\n",
    "# ya phir 64 se kam haai \n",
    "    # or wo student hai\n",
    "    # to phir 18\n",
    "    # warna 25\n",
    "\n",
    "# Warna :\n",
    "    # 20 \n",
    "\n",
    "\n",
    "\n",
    "print(\"Ticket Price :\", price)\n",
    "\n",
    "\n",
    "\n"
   ]
  }
 ],
 "metadata": {
  "kernelspec": {
   "display_name": "Python 3",
   "language": "python",
   "name": "python3"
  },
  "language_info": {
   "codemirror_mode": {
    "name": "ipython",
    "version": 3
   },
   "file_extension": ".py",
   "mimetype": "text/x-python",
   "name": "python",
   "nbconvert_exporter": "python",
   "pygments_lexer": "ipython3",
   "version": "3.10.16"
  }
 },
 "nbformat": 4,
 "nbformat_minor": 5
}
