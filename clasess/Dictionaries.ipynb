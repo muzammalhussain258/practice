{
 "cells": [
  {
   "cell_type": "markdown",
   "id": "0a762ed4",
   "metadata": {},
   "source": [
    "### Dictionaries"
   ]
  },
  {
   "cell_type": "code",
   "execution_count": 1,
   "id": "5319246d",
   "metadata": {},
   "outputs": [],
   "source": [
    "student = {\"name\":\"Malik\",\"age\":30,\"grade\":90}"
   ]
  },
  {
   "cell_type": "code",
   "execution_count": 2,
   "id": "975b5ad2",
   "metadata": {},
   "outputs": [
    {
     "name": "stdout",
     "output_type": "stream",
     "text": [
      "dict_keys(['name', 'age', 'grade'])\n"
     ]
    }
   ],
   "source": [
    "keys = student.keys() # get all keys\n",
    "\n",
    "print(keys)"
   ]
  },
  {
   "cell_type": "code",
   "execution_count": 3,
   "id": "cb5b61b8",
   "metadata": {},
   "outputs": [
    {
     "name": "stdout",
     "output_type": "stream",
     "text": [
      "dict_values(['Malik', 30, 90])\n"
     ]
    }
   ],
   "source": [
    "values = student.values() # get all values\n",
    "\n",
    "print(values)"
   ]
  },
  {
   "cell_type": "code",
   "execution_count": 4,
   "id": "78a44cc6",
   "metadata": {},
   "outputs": [
    {
     "name": "stdout",
     "output_type": "stream",
     "text": [
      "dict_items([('name', 'Malik'), ('age', 30), ('grade', 90)])\n"
     ]
    }
   ],
   "source": [
    "items = student.items() #get all items\n",
    "\n",
    "print(items)\n"
   ]
  },
  {
   "cell_type": "code",
   "execution_count": 5,
   "id": "d0a5704d",
   "metadata": {},
   "outputs": [
    {
     "name": "stdout",
     "output_type": "stream",
     "text": [
      "{'name': 'Malik', 'age': 30, 'grade': 90}\n",
      "{'name': 'Malik', 'age': 30, 'grade': 90}\n"
     ]
    }
   ],
   "source": [
    "# Shallow copy \n",
    "\n",
    "student_copy = student\n",
    "\n",
    "print(student)\n",
    "\n",
    "print(student_copy)"
   ]
  },
  {
   "cell_type": "code",
   "execution_count": 6,
   "id": "b6598f9b",
   "metadata": {},
   "outputs": [
    {
     "name": "stdout",
     "output_type": "stream",
     "text": [
      "{'name': 'Shahzeb', 'age': 30, 'grade': 90}\n",
      "{'name': 'Shahzeb', 'age': 30, 'grade': 90}\n"
     ]
    }
   ],
   "source": [
    "student[\"name\"] = 'Shahzeb'\n",
    "\n",
    "\n",
    "print(student)\n",
    "\n",
    "print(student_copy)"
   ]
  },
  {
   "cell_type": "code",
   "execution_count": 7,
   "id": "e56ea6f0",
   "metadata": {},
   "outputs": [
    {
     "name": "stdout",
     "output_type": "stream",
     "text": [
      "{'name': 'Shahzeb', 'age': 30, 'grade': 90}\n",
      "{'name': 'Shahzeb', 'age': 30, 'grade': 90}\n"
     ]
    }
   ],
   "source": [
    "student_copy1 = student.copy() #shallow copy\n",
    "\n",
    "print(student_copy1)\n",
    "print(student)"
   ]
  },
  {
   "cell_type": "code",
   "execution_count": 8,
   "id": "6e0f93dd",
   "metadata": {},
   "outputs": [
    {
     "name": "stdout",
     "output_type": "stream",
     "text": [
      "{'name': 'Shahzeb', 'age': 30, 'grade': 90}\n",
      "{'name': 'Malik', 'age': 30, 'grade': 90}\n"
     ]
    }
   ],
   "source": [
    "student[\"name\"] = \"Malik\"\n",
    "\n",
    "print(student_copy1)\n",
    "print(student)\n"
   ]
  },
  {
   "cell_type": "code",
   "execution_count": 9,
   "id": "ac7e2532",
   "metadata": {},
   "outputs": [
    {
     "name": "stdout",
     "output_type": "stream",
     "text": [
      "Malik\n",
      "30\n",
      "90\n"
     ]
    }
   ],
   "source": [
    "#iterate over values\n",
    "\n",
    "for value in student.values():\n",
    "    print(value)\n",
    "    "
   ]
  },
  {
   "cell_type": "code",
   "execution_count": 11,
   "id": "2d7a337f",
   "metadata": {},
   "outputs": [
    {
     "name": "stdout",
     "output_type": "stream",
     "text": [
      "name: Malik\n",
      "age: 30\n",
      "grade: 90\n"
     ]
    }
   ],
   "source": [
    "#iterate over pairs\n",
    "\n",
    "for key,value in student.items():\n",
    "    print(f\"{key}: {value}\")\n",
    "    "
   ]
  },
  {
   "cell_type": "code",
   "execution_count": 12,
   "id": "ae3ea24e",
   "metadata": {},
   "outputs": [
    {
     "name": "stdout",
     "output_type": "stream",
     "text": [
      "{'student1': {'name': 'Malik', 'age': 32}, 'student2': {'name': 'Khan', 'age': 30}}\n"
     ]
    }
   ],
   "source": [
    "## nested dictionaries \n",
    "\n",
    "students = {\n",
    "    \"student1\":{\"name\":\"Malik\",\"age\":32},\n",
    "    \"student2\" : {\"name\":\"Khan\",\"age\":30}\n",
    "}\n",
    "\n",
    "print(students)"
   ]
  },
  {
   "cell_type": "code",
   "execution_count": 13,
   "id": "8f895f41",
   "metadata": {},
   "outputs": [
    {
     "name": "stdout",
     "output_type": "stream",
     "text": [
      "Khan\n"
     ]
    }
   ],
   "source": [
    "## access nested dictionaries elements\n",
    "\n",
    "print(students[\"student2\"][\"name\"])"
   ]
  },
  {
   "cell_type": "code",
   "execution_count": 14,
   "id": "5c9c4610",
   "metadata": {},
   "outputs": [
    {
     "name": "stdout",
     "output_type": "stream",
     "text": [
      "{0: 0, 1: 1, 2: 4, 3: 9, 4: 16}\n"
     ]
    }
   ],
   "source": [
    "#Dictionary Comprehension\n",
    "\n",
    "squares  = {x:x**2 for x in range(5)}\n",
    "\n",
    "print(squares)"
   ]
  },
  {
   "cell_type": "code",
   "execution_count": 15,
   "id": "5d5d4025",
   "metadata": {},
   "outputs": [
    {
     "name": "stdout",
     "output_type": "stream",
     "text": [
      "{0: 0, 2: 4, 4: 16, 6: 36, 8: 64}\n"
     ]
    }
   ],
   "source": [
    "evens = {x:x**2 for x in range(10) if x%2==0}\n",
    "\n",
    "print(evens)"
   ]
  },
  {
   "cell_type": "markdown",
   "id": "0261f1d0",
   "metadata": {},
   "source": [
    "### Assignment # 7 "
   ]
  },
  {
   "cell_type": "code",
   "execution_count": null,
   "id": "c33f0712",
   "metadata": {},
   "outputs": [],
   "source": [
    "# Practical Example # Assignment \n",
    "\n",
    "# Use a dictionary to count the frequency of elements in list\n",
    "# use comprehension way or the normal one but identify this.\n",
    "# Outcome I am expecting {1:1,2:2,3:3,4:4}\n",
    "# Use for loop and create dictionary \n",
    "\n"
   ]
  },
  {
   "cell_type": "code",
   "execution_count": 16,
   "id": "3cf27bce",
   "metadata": {},
   "outputs": [],
   "source": [
    "my_list = {'name': 'Shahzeb'}"
   ]
  },
  {
   "cell_type": "code",
   "execution_count": 17,
   "id": "17b3ea93",
   "metadata": {},
   "outputs": [
    {
     "name": "stdout",
     "output_type": "stream",
     "text": [
      "{'name': 'Shahzeb', 'age': 29}\n"
     ]
    }
   ],
   "source": [
    "my_list['age'] = 29\n",
    "\n",
    "print(my_list)"
   ]
  },
  {
   "cell_type": "code",
   "execution_count": 18,
   "id": "59a99c9b",
   "metadata": {},
   "outputs": [],
   "source": [
    "my_dict = {'fruits': ['apple','banana']}"
   ]
  },
  {
   "cell_type": "code",
   "execution_count": 20,
   "id": "b85d4e78",
   "metadata": {},
   "outputs": [
    {
     "name": "stdout",
     "output_type": "stream",
     "text": [
      "{'fruits': ['apple', 'banana', 'orange']}\n"
     ]
    }
   ],
   "source": [
    "my_dict['fruits'].append('orange')\n",
    "\n",
    "print(my_dict)"
   ]
  },
  {
   "cell_type": "markdown",
   "id": "fc6cd7e8",
   "metadata": {},
   "source": [
    "### Function "
   ]
  },
  {
   "cell_type": "markdown",
   "id": "1ec1a26c",
   "metadata": {},
   "source": [
    "- Intro to functions \n",
    "- Defining functions\n",
    "- Calling functions\n",
    "- Function parameters\n",
    "- Default parameters\n",
    "- Variable length arguments\n",
    "- return statements"
   ]
  },
  {
   "cell_type": "code",
   "execution_count": null,
   "id": "a88840be",
   "metadata": {},
   "outputs": [],
   "source": [
    "# A function is a block of code that performs a specific task. Functions help in organizing code, reusuing code and improving readability.\n",
    "\n",
    "## syntax\n",
    "\n",
    "def function_name(parameters):\n",
    "    '''Docstring'''\n",
    "    # function body\n",
    "    return expression\n"
   ]
  },
  {
   "cell_type": "code",
   "execution_count": 21,
   "id": "21d19dca",
   "metadata": {},
   "outputs": [
    {
     "name": "stdout",
     "output_type": "stream",
     "text": [
      "the number is even\n"
     ]
    }
   ],
   "source": [
    "num= 24\n",
    "\n",
    "if num%2==0:\n",
    "    print(\"the number is even\")\n",
    "else:\n",
    "    print(\"the number is odd\")"
   ]
  },
  {
   "cell_type": "code",
   "execution_count": 27,
   "id": "0b022875",
   "metadata": {},
   "outputs": [],
   "source": [
    "def even_or_odd(num):\n",
    "    '''This function finds even or odd'''\n",
    "    if num%2==0:\n",
    "        print(\"the number is even\")\n",
    "    else:\n",
    "        print(\"the number is odd\")\n"
   ]
  },
  {
   "cell_type": "code",
   "execution_count": 28,
   "id": "487a69d9",
   "metadata": {},
   "outputs": [
    {
     "name": "stdout",
     "output_type": "stream",
     "text": [
      "the number is odd\n"
     ]
    }
   ],
   "source": [
    "# this is how you call a function\n",
    "even_or_odd(7)"
   ]
  },
  {
   "cell_type": "code",
   "execution_count": 29,
   "id": "38eee677",
   "metadata": {},
   "outputs": [],
   "source": [
    "## function with multiple parameters\n",
    "\n",
    "def add(a,b):\n",
    "    return a+b"
   ]
  },
  {
   "cell_type": "code",
   "execution_count": 30,
   "id": "ac93e7f6",
   "metadata": {},
   "outputs": [
    {
     "name": "stdout",
     "output_type": "stream",
     "text": [
      "6\n"
     ]
    }
   ],
   "source": [
    "result = add(2,4)\n",
    "\n",
    "print(result)"
   ]
  },
  {
   "cell_type": "code",
   "execution_count": 31,
   "id": "8c72bf9b",
   "metadata": {},
   "outputs": [],
   "source": [
    "# Default parameters\n",
    "\n",
    "def greet(name):\n",
    "    print(f\"Hello {name} Welcome to the Tecrix GenAI Batch02 Class\")"
   ]
  },
  {
   "cell_type": "code",
   "execution_count": 32,
   "id": "94db66dd",
   "metadata": {},
   "outputs": [
    {
     "name": "stdout",
     "output_type": "stream",
     "text": [
      "Hello Malik Welcome to the Tecrix GenAI Batch02 Class\n"
     ]
    }
   ],
   "source": [
    "greet(\"Malik\")"
   ]
  },
  {
   "cell_type": "code",
   "execution_count": 35,
   "id": "cca46dd8",
   "metadata": {},
   "outputs": [
    {
     "name": "stdout",
     "output_type": "stream",
     "text": [
      "Hello Guest Welcome to the Tecrix GenAI Batch02 Class\n"
     ]
    }
   ],
   "source": [
    "def greet(name=\"Guest\"):\n",
    "    print(f\"Hello {name} Welcome to the Tecrix GenAI Batch02 Class\")\n",
    "\n",
    "greet()"
   ]
  },
  {
   "cell_type": "code",
   "execution_count": 37,
   "id": "d3594fd5",
   "metadata": {},
   "outputs": [
    {
     "name": "stdout",
     "output_type": "stream",
     "text": [
      "1\n",
      "2\n",
      "3\n",
      "4\n",
      "5\n",
      "6\n",
      "7\n",
      "8\n",
      "Shahzeb\n"
     ]
    }
   ],
   "source": [
    "## Variable length argument\n",
    "\n",
    "# positional and keyword arguments\n",
    "\n",
    "\n",
    "def print_numbers(*malik):\n",
    "    for number in malik:\n",
    "        print(number)\n",
    "\n",
    "\n",
    "print_numbers(1,2,3,4,5,6,7,8,\"Shahzeb\")\n",
    "    \n"
   ]
  },
  {
   "cell_type": "code",
   "execution_count": 38,
   "id": "8d08b103",
   "metadata": {},
   "outputs": [
    {
     "name": "stdout",
     "output_type": "stream",
     "text": [
      "1\n",
      "2\n",
      "3\n",
      "4\n",
      "5\n",
      "6\n",
      "7\n",
      "8\n",
      "Shahzeb\n"
     ]
    }
   ],
   "source": [
    "\n",
    "def print_numbers(*args):\n",
    "    for number in args:\n",
    "        print(number)\n",
    "\n",
    "\n",
    "print_numbers(1,2,3,4,5,6,7,8,\"Shahzeb\")\n",
    "    \n"
   ]
  },
  {
   "cell_type": "code",
   "execution_count": 45,
   "id": "f7a9e9fd",
   "metadata": {},
   "outputs": [],
   "source": [
    "# Keywords arguments\n",
    "\n",
    "def print_details(**kwargs):\n",
    "    for key,value in kwargs.items():\n",
    "        print(f\"{key}: {value}\")"
   ]
  },
  {
   "cell_type": "code",
   "execution_count": 46,
   "id": "e0deab86",
   "metadata": {},
   "outputs": [
    {
     "name": "stdout",
     "output_type": "stream",
     "text": [
      "Name: Malik\n",
      "Age: 32\n",
      "Country: pakistan\n"
     ]
    }
   ],
   "source": [
    "print_details(Name=\"Malik\",Age=\"32\",Country=\"pakistan\")"
   ]
  },
  {
   "cell_type": "code",
   "execution_count": null,
   "id": "80ca36bd",
   "metadata": {},
   "outputs": [],
   "source": []
  },
  {
   "cell_type": "code",
   "execution_count": 47,
   "id": "fada7988",
   "metadata": {},
   "outputs": [
    {
     "data": {
      "text/plain": [
       "6"
      ]
     },
     "execution_count": 47,
     "metadata": {},
     "output_type": "execute_result"
    }
   ],
   "source": [
    "## return statements\n",
    "\n",
    "def multiple(a,b):\n",
    "    return a*b\n",
    "\n",
    "\n",
    "multiple(2,3)"
   ]
  },
  {
   "cell_type": "code",
   "execution_count": 48,
   "id": "838c16ea",
   "metadata": {},
   "outputs": [
    {
     "data": {
      "text/plain": [
       "(6, 2)"
      ]
     },
     "execution_count": 48,
     "metadata": {},
     "output_type": "execute_result"
    }
   ],
   "source": [
    "## return statements\n",
    "\n",
    "def multiple(a,b):\n",
    "    return a*b,a\n",
    "\n",
    "\n",
    "multiple(2,3)"
   ]
  },
  {
   "cell_type": "markdown",
   "id": "05bdf816",
   "metadata": {},
   "source": [
    "### Example 1 Temperature Conversion"
   ]
  },
  {
   "cell_type": "code",
   "execution_count": 49,
   "id": "789f96e5",
   "metadata": {},
   "outputs": [],
   "source": [
    "def convert_temperature(temp,unit):\n",
    "    '''This function converts temperature between celsius and Fahrenheit'''\n",
    "    if unit=='C':\n",
    "        return temp * 9/5 +32 # celsius to fahrenheit\n",
    "    elif unit ==\"F\":\n",
    "        return(temp-32)* 5/9 # Fahrenheit to Celsius\n",
    "    else:\n",
    "        return None"
   ]
  },
  {
   "cell_type": "code",
   "execution_count": 50,
   "id": "6b35c3b0",
   "metadata": {},
   "outputs": [
    {
     "name": "stdout",
     "output_type": "stream",
     "text": [
      "77.0\n"
     ]
    }
   ],
   "source": [
    "print(convert_temperature(25,'C'))"
   ]
  },
  {
   "cell_type": "code",
   "execution_count": 51,
   "id": "b6bd54cf",
   "metadata": {},
   "outputs": [
    {
     "name": "stdout",
     "output_type": "stream",
     "text": [
      "25.0\n"
     ]
    }
   ],
   "source": [
    "print(convert_temperature(77,'F'))"
   ]
  },
  {
   "cell_type": "code",
   "execution_count": 52,
   "id": "0ce89092",
   "metadata": {},
   "outputs": [
    {
     "name": "stdout",
     "output_type": "stream",
     "text": [
      "33.8\n"
     ]
    }
   ],
   "source": [
    "print(convert_temperature(1,'C'))"
   ]
  },
  {
   "cell_type": "markdown",
   "id": "00568043",
   "metadata": {},
   "source": [
    "### Example 2 Password Strength Checker"
   ]
  },
  {
   "cell_type": "code",
   "execution_count": 53,
   "id": "3c9ffa4a",
   "metadata": {},
   "outputs": [],
   "source": [
    "def is_Strong_password(password):\n",
    "    \"\"\"This function checks if the password is strong or not\"\"\"\n",
    "    if len(password)<8:\n",
    "        return False\n",
    "    if not any(char.isdigit() for char in password):\n",
    "        return False\n",
    "    if not any(char.islower() for char in password):\n",
    "        return False\n",
    "    if not any(char.isupper() for char in password):\n",
    "        return False\n",
    "    if not any(char in '!@#$%^&*()_+' for char in password):\n",
    "        return False\n",
    "    return True\n",
    "    \n",
    "    "
   ]
  },
  {
   "cell_type": "code",
   "execution_count": 54,
   "id": "89755c71",
   "metadata": {},
   "outputs": [
    {
     "name": "stdout",
     "output_type": "stream",
     "text": [
      "False\n"
     ]
    }
   ],
   "source": [
    "## calling the function \n",
    "\n",
    "print(is_Strong_password(\"WeakPwd\"))"
   ]
  },
  {
   "cell_type": "code",
   "execution_count": 55,
   "id": "0ae917f8",
   "metadata": {},
   "outputs": [
    {
     "name": "stdout",
     "output_type": "stream",
     "text": [
      "True\n"
     ]
    }
   ],
   "source": [
    "print(is_Strong_password(\"Str0ngPwd!\"))"
   ]
  },
  {
   "cell_type": "markdown",
   "id": "84dbc0d2",
   "metadata": {},
   "source": [
    "## Example 3 Assignment 8 Functions"
   ]
  },
  {
   "cell_type": "code",
   "execution_count": 57,
   "id": "e15665a4",
   "metadata": {},
   "outputs": [],
   "source": [
    "# Calcuate the total Cost of Items in a shopping cart\n",
    "\n",
    "# Define a function name it calculate_total_cart and set cart as the only parameter\n",
    "# Inside first create total_cost empty variable  = 0 \n",
    "# create for loop (iteration)\n",
    "# Do the incremental calculation of every product price * quantity\n",
    "# return total_cost"
   ]
  },
  {
   "cell_type": "code",
   "execution_count": 56,
   "id": "1996c148",
   "metadata": {},
   "outputs": [],
   "source": [
    "cart = [\n",
    "    {\"name\": 'Apple','price': 200, 'quantity':4},\n",
    "    {\"name\": 'Banana','price': 300, 'quantity':14},\n",
    "    {\"name\": 'Orange','price': 100, 'quantity':44}\n",
    "]"
   ]
  },
  {
   "cell_type": "code",
   "execution_count": null,
   "id": "d058a9ac",
   "metadata": {},
   "outputs": [],
   "source": [
    "## calling the function\n",
    "\n",
    "total_cost = calculate_total_cost(cart)\n",
    "\n",
    "print(total_cost)\n",
    "\n",
    "output = 2323"
   ]
  },
  {
   "cell_type": "markdown",
   "id": "47da1379",
   "metadata": {},
   "source": [
    "### Lambda Functions in Python\n",
    "\n",
    "# Lambda functions are small anonymous\n"
   ]
  },
  {
   "cell_type": "code",
   "execution_count": null,
   "id": "dc056be1",
   "metadata": {},
   "outputs": [],
   "source": []
  },
  {
   "cell_type": "code",
   "execution_count": null,
   "id": "49973380",
   "metadata": {},
   "outputs": [],
   "source": []
  },
  {
   "cell_type": "code",
   "execution_count": null,
   "id": "962c6016",
   "metadata": {},
   "outputs": [],
   "source": []
  },
  {
   "cell_type": "code",
   "execution_count": null,
   "id": "b7c43e58",
   "metadata": {},
   "outputs": [],
   "source": []
  },
  {
   "cell_type": "code",
   "execution_count": null,
   "id": "95fa3a96",
   "metadata": {},
   "outputs": [],
   "source": []
  },
  {
   "cell_type": "code",
   "execution_count": null,
   "id": "46474204",
   "metadata": {},
   "outputs": [],
   "source": []
  },
  {
   "cell_type": "code",
   "execution_count": null,
   "id": "6e49ce81",
   "metadata": {},
   "outputs": [],
   "source": []
  },
  {
   "cell_type": "code",
   "execution_count": null,
   "id": "fcd9b74c",
   "metadata": {},
   "outputs": [],
   "source": []
  },
  {
   "cell_type": "markdown",
   "id": "d3b2c37e",
   "metadata": {},
   "source": []
  }
 ],
 "metadata": {
  "kernelspec": {
   "display_name": "Python 3",
   "language": "python",
   "name": "python3"
  },
  "language_info": {
   "codemirror_mode": {
    "name": "ipython",
    "version": 3
   },
   "file_extension": ".py",
   "mimetype": "text/x-python",
   "name": "python",
   "nbconvert_exporter": "python",
   "pygments_lexer": "ipython3",
   "version": "3.10.16"
  }
 },
 "nbformat": 4,
 "nbformat_minor": 5
}
