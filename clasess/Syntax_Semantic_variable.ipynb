{
 "cells": [
  {
   "cell_type": "markdown",
   "id": "2a5a050e-5c93-4dba-a6d6-8929f200984b",
   "metadata": {},
   "source": [
    "## Syntax and Semantics in Python"
   ]
  },
  {
   "cell_type": "markdown",
   "id": "08037c1a-2699-48ea-9bb3-129ac11173bb",
   "metadata": {},
   "source": [
    "outline: \n",
    "\n",
    "- Single line comments and multiline comments\n",
    "- Definition of Syntax and Semantics\n",
    "- Basic Syntax Rules in Python\n",
    "- Understanding Semantics in Python\n",
    "- Common syntax errors and how to avoid them\n",
    "- Practical Code Examples\n"
   ]
  },
  {
   "cell_type": "code",
   "execution_count": 9,
   "id": "df01b387-17c6-4e1b-a483-065f9ab535ea",
   "metadata": {},
   "outputs": [
    {
     "data": {
      "text/plain": [
       "' \\n\\nthis is \\nmultiline\\ncomment\\n\\n\\n\\n'"
      ]
     },
     "execution_count": 9,
     "metadata": {},
     "output_type": "execute_result"
    }
   ],
   "source": [
    "# X = 10\n",
    "\n",
    "''' \n",
    "this is \n",
    "multiline\n",
    "comment\n",
    "'''"
   ]
  },
  {
   "cell_type": "code",
   "execution_count": 23,
   "id": "204eb84d-daf1-45eb-8f9f-846e68f5d012",
   "metadata": {},
   "outputs": [],
   "source": [
    "## Basic Syntax Rules in python\n",
    "\n",
    "## Case Sensitive - Python is case sensitive\n",
    "\n",
    "name = \"Malik\"\n",
    "\n",
    "Name = \"Shahzeb\""
   ]
  },
  {
   "cell_type": "code",
   "execution_count": 25,
   "id": "781c9403-588b-433c-8929-b864adff08f1",
   "metadata": {},
   "outputs": [
    {
     "name": "stdout",
     "output_type": "stream",
     "text": [
      "Malik\n"
     ]
    }
   ],
   "source": [
    "print(name)"
   ]
  },
  {
   "cell_type": "code",
   "execution_count": 35,
   "id": "f6e23650-e4fb-4d0e-a296-fcc46502f2bb",
   "metadata": {},
   "outputs": [],
   "source": [
    "# I have written this code for printing Name\n",
    "\n",
    "'''\n",
    "khajlwdjklhqwjdklhaw\n",
    "ascknn\n",
    "as\n",
    "xcakskcxsa\n",
    "\n",
    "saclm,asc\n",
    "print(Name)\n",
    "print(Shahzeb)\n",
    "Y=6\n",
    "'''\n",
    "\n",
    "    \n",
    "X = 10"
   ]
  },
  {
   "cell_type": "code",
   "execution_count": null,
   "id": "93c5f748-5bc8-4cd2-9116-9ca9140b3d8c",
   "metadata": {},
   "outputs": [],
   "source": []
  }
 ],
 "metadata": {
  "kernelspec": {
   "display_name": "Python [conda env:base] *",
   "language": "python",
   "name": "conda-base-py"
  },
  "language_info": {
   "codemirror_mode": {
    "name": "ipython",
    "version": 3
   },
   "file_extension": ".py",
   "mimetype": "text/x-python",
   "name": "python",
   "nbconvert_exporter": "python",
   "pygments_lexer": "ipython3",
   "version": "3.12.7"
  }
 },
 "nbformat": 4,
 "nbformat_minor": 5
}
