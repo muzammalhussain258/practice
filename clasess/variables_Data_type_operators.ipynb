{
 "cells": [
  {
   "cell_type": "markdown",
   "id": "de3c50b9",
   "metadata": {},
   "source": [
    "# Data Types\n",
    "\n",
    "- Data types determine the types of operations that can be performed on the data, the value that the data can take and the amount of memory needed to store the data.\n",
    "\n",
    "- Data type ensures that data is stored in an efficient way"
   ]
  },
  {
   "cell_type": "markdown",
   "id": "8933bc78",
   "metadata": {},
   "source": [
    "# Outline \n",
    "\n",
    "- Intro to data types\n",
    "- Improtantance of data type\n",
    "- Basic Data Types\n",
    "- Advance data types\n",
    "- Tyep Convrsion\n",
    "- Practical Examples"
   ]
  },
  {
   "cell_type": "code",
   "execution_count": null,
   "id": "7efc2bdf",
   "metadata": {},
   "outputs": [],
   "source": [
    "# integer example\n",
    "age = 35"
   ]
  },
  {
   "cell_type": "code",
   "execution_count": 2,
   "id": "b194f194",
   "metadata": {},
   "outputs": [
    {
     "data": {
      "text/plain": [
       "int"
      ]
     },
     "execution_count": 2,
     "metadata": {},
     "output_type": "execute_result"
    }
   ],
   "source": [
    "type(age)"
   ]
  },
  {
   "cell_type": "code",
   "execution_count": null,
   "id": "1a4120d5",
   "metadata": {},
   "outputs": [
    {
     "data": {
      "text/plain": [
       "float"
      ]
     },
     "execution_count": 3,
     "metadata": {},
     "output_type": "execute_result"
    }
   ],
   "source": [
    "# floating point\n",
    "height = 5.11\n",
    "\n",
    "type(height)"
   ]
  },
  {
   "cell_type": "code",
   "execution_count": null,
   "id": "a0bb89f1",
   "metadata": {},
   "outputs": [
    {
     "data": {
      "text/plain": [
       "str"
      ]
     },
     "execution_count": 4,
     "metadata": {},
     "output_type": "execute_result"
    }
   ],
   "source": [
    "# string type\n",
    "name = \"Malik\"\n",
    "\n",
    "type(name)"
   ]
  },
  {
   "cell_type": "code",
   "execution_count": 5,
   "id": "daf316f9",
   "metadata": {},
   "outputs": [
    {
     "data": {
      "text/plain": [
       "str"
      ]
     },
     "execution_count": 5,
     "metadata": {},
     "output_type": "execute_result"
    }
   ],
   "source": [
    "text = \"my name is shahzeb and I am professor at Tecrix\"\n",
    "\n",
    "type(text)"
   ]
  },
  {
   "cell_type": "code",
   "execution_count": 6,
   "id": "0fe1f649",
   "metadata": {},
   "outputs": [
    {
     "data": {
      "text/plain": [
       "bool"
      ]
     },
     "execution_count": 6,
     "metadata": {},
     "output_type": "execute_result"
    }
   ],
   "source": [
    "## Boolean data type\n",
    "\n",
    "is_true = True \n",
    "\n",
    "type(is_true)"
   ]
  },
  {
   "cell_type": "code",
   "execution_count": 9,
   "id": "b7085290",
   "metadata": {},
   "outputs": [
    {
     "data": {
      "text/plain": [
       "bool"
      ]
     },
     "execution_count": 9,
     "metadata": {},
     "output_type": "execute_result"
    }
   ],
   "source": [
    "a = 10\n",
    "\n",
    "b = 9\n",
    "\n",
    "type(a==b)"
   ]
  },
  {
   "cell_type": "code",
   "execution_count": 10,
   "id": "359a5309",
   "metadata": {},
   "outputs": [
    {
     "data": {
      "text/plain": [
       "False"
      ]
     },
     "execution_count": 10,
     "metadata": {},
     "output_type": "execute_result"
    }
   ],
   "source": [
    "a==b"
   ]
  },
  {
   "cell_type": "code",
   "execution_count": 11,
   "id": "f2548f7d",
   "metadata": {},
   "outputs": [
    {
     "ename": "TypeError",
     "evalue": "can only concatenate str (not \"int\") to str",
     "output_type": "error",
     "traceback": [
      "\u001b[0;31m---------------------------------------------------------------------------\u001b[0m",
      "\u001b[0;31mTypeError\u001b[0m                                 Traceback (most recent call last)",
      "Cell \u001b[0;32mIn[11], line 3\u001b[0m\n\u001b[1;32m      1\u001b[0m \u001b[38;5;66;03m## Common errors\u001b[39;00m\n\u001b[0;32m----> 3\u001b[0m result  \u001b[38;5;241m=\u001b[39m \u001b[38;5;124;43m\"\u001b[39;49m\u001b[38;5;124;43mHello\u001b[39;49m\u001b[38;5;124;43m\"\u001b[39;49m\u001b[43m \u001b[49m\u001b[38;5;241;43m+\u001b[39;49m\u001b[43m \u001b[49m\u001b[38;5;241;43m5\u001b[39;49m\n",
      "\u001b[0;31mTypeError\u001b[0m: can only concatenate str (not \"int\") to str"
     ]
    }
   ],
   "source": [
    "## Common errors\n",
    "\n",
    "result  = \"Hello\" + 5"
   ]
  },
  {
   "cell_type": "code",
   "execution_count": 12,
   "id": "6bfa16d4",
   "metadata": {},
   "outputs": [
    {
     "name": "stdout",
     "output_type": "stream",
     "text": [
      "Hello5\n"
     ]
    }
   ],
   "source": [
    "result = \"Hello\" + str(5)\n",
    "\n",
    "print(result)"
   ]
  },
  {
   "cell_type": "markdown",
   "id": "8e9d8c56",
   "metadata": {},
   "source": [
    "# Variable \n",
    "\n",
    "Variable is used to store datan that can be referenced and manipulated in program. Variables are created when you assign a value to them. "
   ]
  },
  {
   "cell_type": "code",
   "execution_count": 17,
   "id": "7a3eedef",
   "metadata": {},
   "outputs": [
    {
     "name": "stdout",
     "output_type": "stream",
     "text": [
      "My Age is : 32\n",
      "Height : 6.1\n",
      "Name : Khan\n"
     ]
    }
   ],
   "source": [
    "age = 32\n",
    "height = 6.1\n",
    "name = \"Khan\"\n",
    "\n",
    "\n",
    "print(\"My Age is :\" ,age)\n",
    "print(\"Height :\" ,height)\n",
    "print(\"Name :\" ,name)"
   ]
  },
  {
   "cell_type": "code",
   "execution_count": 18,
   "id": "a423c393",
   "metadata": {},
   "outputs": [],
   "source": [
    "name = \"Malik\"\n",
    " \n",
    "\n",
    "name_Cast = \"Malik Awan\"\n",
    "\n"
   ]
  },
  {
   "cell_type": "code",
   "execution_count": 20,
   "id": "987fd7ad",
   "metadata": {},
   "outputs": [
    {
     "ename": "NameError",
     "evalue": "name 'name_cast' is not defined",
     "output_type": "error",
     "traceback": [
      "\u001b[0;31m---------------------------------------------------------------------------\u001b[0m",
      "\u001b[0;31mNameError\u001b[0m                                 Traceback (most recent call last)",
      "Cell \u001b[0;32mIn[20], line 1\u001b[0m\n\u001b[0;32m----> 1\u001b[0m \u001b[43mname_cast\u001b[49m\n",
      "\u001b[0;31mNameError\u001b[0m: name 'name_cast' is not defined"
     ]
    }
   ],
   "source": [
    "name_cast"
   ]
  },
  {
   "cell_type": "code",
   "execution_count": null,
   "id": "8f8f2029",
   "metadata": {},
   "outputs": [
    {
     "ename": "SyntaxError",
     "evalue": "invalid syntax. Maybe you meant '==' or ':=' instead of '='? (1106917188.py, line 1)",
     "output_type": "error",
     "traceback": [
      "\u001b[0;36m  Cell \u001b[0;32mIn[21], line 1\u001b[0;36m\u001b[0m\n\u001b[0;31m    @name  =\"Malik\"\u001b[0m\n\u001b[0m     ^\u001b[0m\n\u001b[0;31mSyntaxError\u001b[0m\u001b[0;31m:\u001b[0m invalid syntax. Maybe you meant '==' or ':=' instead of '='?\n"
     ]
    }
   ],
   "source": [
    "@name  = \"Malik\""
   ]
  },
  {
   "cell_type": "code",
   "execution_count": 22,
   "id": "959fd010",
   "metadata": {},
   "outputs": [
    {
     "ename": "SyntaxError",
     "evalue": "cannot assign to expression here. Maybe you meant '==' instead of '='? (4057077847.py, line 1)",
     "output_type": "error",
     "traceback": [
      "\u001b[0;36m  Cell \u001b[0;32mIn[22], line 1\u001b[0;36m\u001b[0m\n\u001b[0;31m    first-name = \"Malik\"\u001b[0m\n\u001b[0m    ^\u001b[0m\n\u001b[0;31mSyntaxError\u001b[0m\u001b[0;31m:\u001b[0m cannot assign to expression here. Maybe you meant '==' instead of '='?\n"
     ]
    }
   ],
   "source": [
    "first-name = \"Malik\""
   ]
  },
  {
   "cell_type": "code",
   "execution_count": 23,
   "id": "04b5f8b8",
   "metadata": {},
   "outputs": [],
   "source": [
    "Muzammil_height = 6.1"
   ]
  },
  {
   "cell_type": "code",
   "execution_count": 24,
   "id": "090e663c",
   "metadata": {},
   "outputs": [
    {
     "data": {
      "text/plain": [
       "6.1"
      ]
     },
     "execution_count": 24,
     "metadata": {},
     "output_type": "execute_result"
    }
   ],
   "source": [
    "Muzammil_height"
   ]
  },
  {
   "cell_type": "code",
   "execution_count": 25,
   "id": "d7eab2ef",
   "metadata": {},
   "outputs": [
    {
     "data": {
      "text/plain": [
       "float"
      ]
     },
     "execution_count": 25,
     "metadata": {},
     "output_type": "execute_result"
    }
   ],
   "source": [
    "type(Muzammil_height)"
   ]
  },
  {
   "cell_type": "code",
   "execution_count": 26,
   "id": "ec208273",
   "metadata": {},
   "outputs": [],
   "source": [
    "name = 10"
   ]
  },
  {
   "cell_type": "code",
   "execution_count": 38,
   "id": "0ba59236",
   "metadata": {},
   "outputs": [],
   "source": [
    "# Setting Input\n",
    "\n",
    "Pin = int(input(\"Please enter your 4 digit Pin\"))"
   ]
  },
  {
   "cell_type": "code",
   "execution_count": 36,
   "id": "56351cd9",
   "metadata": {},
   "outputs": [
    {
     "data": {
      "text/plain": [
       "5454"
      ]
     },
     "execution_count": 36,
     "metadata": {},
     "output_type": "execute_result"
    }
   ],
   "source": [
    "Pin"
   ]
  },
  {
   "cell_type": "code",
   "execution_count": 37,
   "id": "d01b7dea",
   "metadata": {},
   "outputs": [
    {
     "data": {
      "text/plain": [
       "int"
      ]
     },
     "execution_count": 37,
     "metadata": {},
     "output_type": "execute_result"
    }
   ],
   "source": [
    "type(Pin)"
   ]
  },
  {
   "cell_type": "markdown",
   "id": "3fde01b7",
   "metadata": {},
   "source": [
    "## Assignment 1 ( Simple Calculator )\n",
    "\n",
    "I want you to build a basic calculator that can take 2 numbers as input and then do the addition , subtraction, multiplication and division."
   ]
  },
  {
   "cell_type": "code",
   "execution_count": null,
   "id": "a2f8f09c",
   "metadata": {},
   "outputs": [],
   "source": [
    "num1 = this should be float and you have to give option to use \"Enter first number\"\n",
    "\n",
    "num2 = this should be float and you have to give option to use \"Enter second number\"\n",
    "\n",
    "\n",
    "\n",
    "sum = num1 num2\n",
    "subtraction = \n",
    "multiply = \n",
    "division = \n",
    "\n",
    "\n",
    "print sum\n",
    "\n",
    "print subtraction \n",
    "\n",
    "print multiply\n",
    "\n",
    "print division"
   ]
  },
  {
   "cell_type": "code",
   "execution_count": null,
   "id": "05264799",
   "metadata": {},
   "outputs": [],
   "source": [
    "Sum : 342423\n",
    "Subtraction : 32432\n",
    ".\n",
    ".\n",
    ".\n",
    "\n"
   ]
  }
 ],
 "metadata": {
  "kernelspec": {
   "display_name": "pyth",
   "language": "python",
   "name": "python3"
  },
  "language_info": {
   "codemirror_mode": {
    "name": "ipython",
    "version": 3
   },
   "file_extension": ".py",
   "mimetype": "text/x-python",
   "name": "python",
   "nbconvert_exporter": "python",
   "pygments_lexer": "ipython3",
   "version": "3.10.16"
  }
 },
 "nbformat": 4,
 "nbformat_minor": 5
}
