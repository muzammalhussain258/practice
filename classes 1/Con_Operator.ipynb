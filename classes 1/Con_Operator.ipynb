{
 "cells": [
  {
   "cell_type": "code",
   "execution_count": 1,
   "id": "bcceee0e-a940-4cb5-ba8f-fbf3d0a22620",
   "metadata": {},
   "outputs": [
    {
     "name": "stdout",
     "output_type": "stream",
     "text": [
      "Addition: 13\n",
      "Subtraction: 7\n",
      "Product: 30\n",
      "Division: 3.3333333333333335\n",
      "Floor Division: 3\n",
      "Modulus: 1\n",
      "Exponentiation: 1000\n"
     ]
    }
   ],
   "source": [
    "a = 10\n",
    "b = 3\n",
    "print(\"Addition:\" , a+b)\n",
    "print(\"Subtraction:\" , a-b)\n",
    "print(\"Product:\" , a*b)\n",
    "print(\"Division:\" , a/b)\n",
    "print(\"Floor Division:\" , a//b)\n",
    "print(\"Modulus:\" , a % b)\n",
    "print(\"Exponentiation:\" , a**b)"
   ]
  },
  {
   "cell_type": "code",
   "execution_count": 2,
   "id": "0d6a58c4-003f-4af2-b5de-3862540bee51",
   "metadata": {},
   "outputs": [
    {
     "name": "stdout",
     "output_type": "stream",
     "text": [
      "Equal: False\n",
      "Not Equal: True\n",
      "Greater than: False\n",
      "Less Than: True\n",
      "Greater or Equal: False\n",
      "Less or Equal: True\n"
     ]
    }
   ],
   "source": [
    "a = 5 \n",
    "b = 7\n",
    "print(\"Equal:\", a == b)\n",
    "print(\"Not Equal:\", a != b)\n",
    "print(\"Greater than:\", a > b)\n",
    "print(\"Less Than:\", a < b)\n",
    "print(\"Greater or Equal:\", a >= b)\n",
    "print(\"Less or Equal:\", a <= b)"
   ]
  },
  {
   "cell_type": "code",
   "execution_count": 3,
   "id": "60e27a47-5b74-4596-ab8f-68ec29378668",
   "metadata": {},
   "outputs": [
    {
     "name": "stdout",
     "output_type": "stream",
     "text": [
      "x > 5 and x < 10: True\n",
      "x > 5 or x < 3: True\n",
      "not(x > 5) False\n"
     ]
    }
   ],
   "source": [
    "x = 8 \n",
    "print(\"x > 5 and x < 10:\" , x > 5 and x < 10)\n",
    "print(\"x > 5 or x < 3:\" , x > 5 or x < 3)\n",
    "print(\"not(x > 5)\" , not(x > 5))"
   ]
  },
  {
   "cell_type": "code",
   "execution_count": 6,
   "id": "93b7269b-50d2-4468-9151-2765907124f3",
   "metadata": {},
   "outputs": [
    {
     "name": "stdout",
     "output_type": "stream",
     "text": [
      "Fail\n"
     ]
    }
   ],
   "source": [
    "Marks = 33 \n",
    "if Marks >= 90:\n",
    "    print(\"Grade: A\")\n",
    "elif Marks >= 70:\n",
    "    print(\"Grade: B\")\n",
    "elif Marks >= 50:\n",
    "    print(\"Grade: C\")\n",
    "else:\n",
    "    print(\"Fail\")"
   ]
  },
  {
   "cell_type": "code",
   "execution_count": 9,
   "id": "8ecfcf54-f0e2-439b-85e6-9621b41654a3",
   "metadata": {},
   "outputs": [
    {
     "name": "stdout",
     "output_type": "stream",
     "text": [
      "Odd\n"
     ]
    }
   ],
   "source": [
    "num = 67\n",
    "if num % 2 == 0:\n",
    "    print(\"Even\")\n",
    "else:\n",
    "    print(\"Odd\")\n"
   ]
  },
  {
   "cell_type": "code",
   "execution_count": 10,
   "id": "8b43be88-cc19-46ad-8b23-64e8e109a41e",
   "metadata": {},
   "outputs": [
    {
     "name": "stdout",
     "output_type": "stream",
     "text": [
      "Welcome Sir!\n"
     ]
    }
   ],
   "source": [
    "user = \"admin\" \n",
    "logged_in = True\n",
    "\n",
    "if user == \"admin\":\n",
    "    if logged_in:\n",
    "        print(\"Welcome Sir!\")"
   ]
  },
  {
   "cell_type": "code",
   "execution_count": 11,
   "id": "c72cd052-9222-4274-a727-8bb1223aa7b8",
   "metadata": {},
   "outputs": [
    {
     "name": "stdout",
     "output_type": "stream",
     "text": [
      "You can enter exam? False\n"
     ]
    }
   ],
   "source": [
    "is_student = True\n",
    "has_RN = False\n",
    "print(\"You can enter exam?\", is_student and has_RN)"
   ]
  },
  {
   "cell_type": "code",
   "execution_count": 13,
   "id": "247d34d7-2d33-45cc-8354-e370141dbea4",
   "metadata": {},
   "outputs": [
    {
     "name": "stdin",
     "output_type": "stream",
     "text": [
      "Enter your 4-digit ATM PIN:  1234\n"
     ]
    },
    {
     "name": "stdout",
     "output_type": "stream",
     "text": [
      "Access granted. welcome!\n"
     ]
    }
   ],
   "source": [
    "correct_pin = \"1234\"\n",
    "attempts = 0\n",
    "max_attempts = 3\n",
    "while attempts < max_attempts:\n",
    "    pin = input(\"Enter your 4-digit ATM PIN: \")\n",
    "    if pin == correct_pin:\n",
    "        print(\"Access granted. welcome!\")\n",
    "        break\n",
    "    else:\n",
    "        print(\"Incorrect PIN.\")\n",
    "        attempts += 1\n",
    "if attempts == max_attempts:\n",
    "    print(\"Too many wrong attempts. Card Blocked.\")"
   ]
  },
  {
   "cell_type": "code",
   "execution_count": 18,
   "id": "d84f01b7-bdc5-4f5b-8655-787187a27dad",
   "metadata": {},
   "outputs": [
    {
     "name": "stdin",
     "output_type": "stream",
     "text": [
      "Enter temperature in Celsius:  60\n"
     ]
    },
    {
     "name": "stdout",
     "output_type": "stream",
     "text": [
      "it's too much Hot!\n"
     ]
    }
   ],
   "source": [
    "temp = float(input(\"Enter temperature in Celsius: \"))\n",
    "if temp < 0:\n",
    "    print(\"Freezing weather!\")\n",
    "elif temp <= 20:\n",
    "    print(\"it's cold.\")\n",
    "elif temp <= 30:\n",
    "    print(\"nice and warm.\")\n",
    "else:\n",
    "    print(\"it's too much Hot!\")"
   ]
  },
  {
   "cell_type": "code",
   "execution_count": 21,
   "id": "030da93a-4e6d-41e3-ae0f-60c53e5dc629",
   "metadata": {},
   "outputs": [
    {
     "name": "stdin",
     "output_type": "stream",
     "text": [
      "Username: Rimsha\n",
      "Password: RimshaAkhuwat1\n"
     ]
    },
    {
     "name": "stdout",
     "output_type": "stream",
     "text": [
      "Invalid credentials.\n"
     ]
    }
   ],
   "source": [
    "username = \"Hamza\"\n",
    "Password = \"Hamza2214689\"\n",
    "input_user = input(\"Username:\")\n",
    "input_pass = input(\"Password:\")\n",
    "if input_user == username and input_pass == Password:\n",
    "     print(\"Login Successfully!\")\n",
    "else:\n",
    "     print(\"Invalid credentials.\")\n",
    "     "
   ]
  },
  {
   "cell_type": "code",
   "execution_count": null,
   "id": "83cba71c-7e14-430d-856b-44cdc86556bb",
   "metadata": {},
   "outputs": [],
   "source": []
  }
 ],
 "metadata": {
  "kernelspec": {
   "display_name": "Python 3 (ipykernel)",
   "language": "python",
   "name": "python3"
  },
  "language_info": {
   "codemirror_mode": {
    "name": "ipython",
    "version": 3
   },
   "file_extension": ".py",
   "mimetype": "text/x-python",
   "name": "python",
   "nbconvert_exporter": "python",
   "pygments_lexer": "ipython3",
   "version": "3.12.7"
  }
 },
 "nbformat": 4,
 "nbformat_minor": 5
}
