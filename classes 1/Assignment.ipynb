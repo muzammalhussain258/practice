{
 "cells": [
  {
   "cell_type": "markdown",
   "id": "eb03dfe0",
   "metadata": {},
   "source": [
    "# Practice"
   ]
  },
  {
   "cell_type": "code",
   "execution_count": 1,
   "id": "52acb0e8",
   "metadata": {},
   "outputs": [
    {
     "name": "stdout",
     "output_type": "stream",
     "text": [
      "Login successful\n"
     ]
    }
   ],
   "source": [
    "# create a login page\n",
    "\n",
    "stord_username = \"admin\"\n",
    "stord_password = \"password\"\n",
    "\n",
    "username= input(\"Enter username: \")\n",
    "password= input(\"Enter password: \")\n",
    "\n",
    "if username == stord_username and password == stord_password:\n",
    "    print(\"Login successful\")\n",
    "else:\n",
    "    print(\"Login failed\")\n",
    "    "
   ]
  },
  {
   "cell_type": "code",
   "execution_count": 2,
   "id": "7784dcb9",
   "metadata": {},
   "outputs": [
    {
     "data": {
      "text/plain": [
       "range(0, 5)"
      ]
     },
     "execution_count": 2,
     "metadata": {},
     "output_type": "execute_result"
    }
   ],
   "source": [
    "range (5)\n"
   ]
  },
  {
   "cell_type": "code",
   "execution_count": 2,
   "id": "1bbe5bf4",
   "metadata": {},
   "outputs": [
    {
     "name": "stdout",
     "output_type": "stream",
     "text": [
      "0\n",
      "1\n",
      "2\n",
      "3\n",
      "4\n"
     ]
    }
   ],
   "source": [
    "for i in range(5):\n",
    "    print(i)"
   ]
  },
  {
   "cell_type": "code",
   "execution_count": 9,
   "id": "9fdb7309",
   "metadata": {},
   "outputs": [],
   "source": [
    "for i in range(18,-1):\n",
    "    print(i)"
   ]
  },
  {
   "cell_type": "code",
   "execution_count": 10,
   "id": "ebb806fb",
   "metadata": {},
   "outputs": [
    {
     "name": "stdout",
     "output_type": "stream",
     "text": [
      "1\n",
      "2\n",
      "3\n",
      "4\n",
      "5\n"
     ]
    }
   ],
   "source": [
    "for i in range(1,6):\n",
    "    print(i)"
   ]
  },
  {
   "cell_type": "code",
   "execution_count": null,
   "id": "22911353",
   "metadata": {},
   "outputs": [
    {
     "name": "stdout",
     "output_type": "stream",
     "text": [
      "M\n",
      "u\n",
      "z\n",
      "a\n",
      "m\n",
      "m\n",
      "l\n"
     ]
    }
   ],
   "source": [
    "age = 'Muzamml'\n",
    "for i in :\n",
    "    print(i)"
   ]
  },
  {
   "cell_type": "code",
   "execution_count": 8,
   "id": "00ca2656",
   "metadata": {},
   "outputs": [
    {
     "name": "stdout",
     "output_type": "stream",
     "text": [
      "10\n",
      "8\n",
      "6\n",
      "4\n",
      "2\n"
     ]
    }
   ],
   "source": [
    "for i in range(10,1,-2):\n",
    "    print(i)"
   ]
  },
  {
   "cell_type": "code",
   "execution_count": 14,
   "id": "fed33580",
   "metadata": {},
   "outputs": [
    {
     "name": "stdout",
     "output_type": "stream",
     "text": [
      "0\n",
      "1\n",
      "2\n",
      "3\n",
      "4\n",
      "5\n",
      "6\n",
      "7\n",
      "8\n",
      "9\n",
      "10\n",
      "11\n",
      "12\n",
      "13\n",
      "14\n",
      "15\n",
      "16\n",
      "17\n",
      "18\n",
      "19\n",
      "20\n",
      "21\n",
      "22\n",
      "23\n",
      "24\n",
      "25\n",
      "26\n",
      "27\n",
      "28\n",
      "29\n",
      "30\n",
      "31\n",
      "32\n",
      "33\n",
      "34\n",
      "35\n",
      "36\n",
      "37\n",
      "38\n",
      "39\n",
      "40\n",
      "41\n",
      "42\n",
      "43\n",
      "44\n",
      "45\n",
      "46\n",
      "47\n",
      "48\n",
      "49\n",
      "50\n",
      "51\n",
      "52\n",
      "53\n",
      "54\n",
      "55\n",
      "56\n",
      "57\n",
      "58\n",
      "59\n",
      "60\n",
      "61\n",
      "62\n",
      "63\n",
      "64\n",
      "65\n",
      "66\n"
     ]
    }
   ],
   "source": [
    "# for loop use in floating\n",
    "age = 67.786\n",
    "for i in range(int(age)):\n",
    "    print(i)"
   ]
  },
  {
   "cell_type": "code",
   "execution_count": 15,
   "id": "56e60289",
   "metadata": {},
   "outputs": [
    {
     "name": "stdout",
     "output_type": "stream",
     "text": [
      "seanding confirmission oders oder1....\n",
      "seanding confirmission oders order2....\n",
      "seanding confirmission oders order3....\n",
      "seanding confirmission oders order4....\n",
      "seanding confirmission oders order5....\n"
     ]
    }
   ],
   "source": [
    "oder= [\"oder1\", \"order2\", \"order3\", \"order4\", \"order5\"]\n",
    "for i in oder:\n",
    "    print(f\"seanding confirmission oders {i}....\")\n"
   ]
  },
  {
   "cell_type": "code",
   "execution_count": 22,
   "id": "68ff8cd7",
   "metadata": {},
   "outputs": [
    {
     "name": "stdout",
     "output_type": "stream",
     "text": [
      "0\n",
      "1\n",
      "2\n",
      "3\n",
      "4\n",
      "5\n"
     ]
    }
   ],
   "source": [
    "count= 0\n",
    "while count <= 5:\n",
    "    print(count)\n",
    "\n",
    "    count += 1\n",
    "    "
   ]
  },
  {
   "cell_type": "code",
   "execution_count": 8,
   "id": "9128781d",
   "metadata": {},
   "outputs": [
    {
     "name": "stdout",
     "output_type": "stream",
     "text": [
      "0\n",
      "1\n",
      "2\n",
      "3\n",
      "4\n"
     ]
    }
   ],
   "source": [
    "# brack/ continue/ pass\n",
    "# loop control statement\n",
    "# break\n",
    "\n",
    "for i in range(100):\n",
    "    if i == 5:\n",
    "        break\n",
    "    print(i)"
   ]
  },
  {
   "cell_type": "code",
   "execution_count": 12,
   "id": "7931ed0e",
   "metadata": {},
   "outputs": [
    {
     "name": "stdout",
     "output_type": "stream",
     "text": [
      "1\n",
      "3\n",
      "5\n",
      "7\n",
      "9\n"
     ]
    }
   ],
   "source": [
    "#cobtinue\n",
    "for i in range(10):\n",
    "    if i%2 == 0:\n",
    "        continue\n",
    "    print(i)"
   ]
  },
  {
   "cell_type": "code",
   "execution_count": 14,
   "id": "b2c96c70",
   "metadata": {},
   "outputs": [
    {
     "name": "stdout",
     "output_type": "stream",
     "text": [
      "i = 0 and j = 0\n",
      "i = 0 and j = 1\n",
      "i = 1 and j = 0\n",
      "i = 1 and j = 1\n",
      "i = 2 and j = 0\n",
      "i = 2 and j = 1\n",
      "i = 3 and j = 0\n",
      "i = 3 and j = 1\n",
      "i = 4 and j = 0\n",
      "i = 4 and j = 1\n"
     ]
    }
   ],
   "source": [
    "#nested loop\n",
    "# a loop inside a loop\n",
    "for i in range(5):\n",
    "    for j in range(2):\n",
    "        print(f\"i = {i} and j = {j}\")"
   ]
  },
  {
   "cell_type": "code",
   "execution_count": 15,
   "id": "f1a3247b",
   "metadata": {},
   "outputs": [
    {
     "name": "stdout",
     "output_type": "stream",
     "text": [
      "The sum of first 10 natural numbers is 55\n"
     ]
    }
   ],
   "source": [
    "n= 10\n",
    "sum = 0\n",
    "count = 1\n",
    "while count <= n:\n",
    "    sum += count\n",
    "    count += 1\n",
    "print(f\"The sum of first {n} natural numbers is {sum}\")"
   ]
  },
  {
   "cell_type": "code",
   "execution_count": 18,
   "id": "47d55332",
   "metadata": {},
   "outputs": [
    {
     "name": "stdout",
     "output_type": "stream",
     "text": [
      "2 is Prime number\n",
      "3 is Prime number\n",
      "5 is Prime number\n",
      "7 is Prime number\n",
      "11 is Prime number\n",
      "13 is Prime number\n",
      "17 is Prime number\n",
      "19 is Prime number\n",
      "23 is Prime number\n",
      "29 is Prime number\n",
      "31 is Prime number\n",
      "37 is Prime number\n",
      "41 is Prime number\n",
      "43 is Prime number\n",
      "47 is Prime number\n",
      "53 is Prime number\n",
      "59 is Prime number\n",
      "61 is Prime number\n",
      "67 is Prime number\n",
      "71 is Prime number\n",
      "73 is Prime number\n",
      "79 is Prime number\n",
      "83 is Prime number\n",
      "89 is Prime number\n",
      "97 is Prime number\n"
     ]
    }
   ],
   "source": [
    "# find prime number\n",
    "# prime number is a number that is only divisible by 1 and itself\n",
    "for i in range(1,101):\n",
    "    if i > 1:\n",
    "        for j in range(2, i):\n",
    "            if i % j == 0:\n",
    "                break\n",
    "        else:\n",
    "            print(f\"{i} is Prime number\")"
   ]
  },
  {
   "cell_type": "code",
   "execution_count": null,
   "id": "e087551e",
   "metadata": {},
   "outputs": [
    {
     "name": "stdout",
     "output_type": "stream",
     "text": [
      " Prime Numbers from 1 to 101 \n",
      "\n",
      "2 is Prime\n",
      "3 is Prime\n",
      "5 is Prime\n",
      "7 is Prime\n",
      "11 is Prime\n",
      "13 is Prime\n",
      "17 is Prime\n",
      "19 is Prime\n",
      "23 is Prime\n",
      "29 is Prime\n",
      "31 is Prime\n",
      "37 is Prime\n",
      "41 is Prime\n",
      "43 is Prime\n",
      "47 is Prime\n",
      "53 is Prime\n",
      "59 is Prime\n",
      "61 is Prime\n",
      "67 is Prime\n",
      "71 is Prime\n",
      "73 is Prime\n",
      "79 is Prime\n",
      "83 is Prime\n",
      "89 is Prime\n",
      "97 is Prime\n",
      "101 is Prime\n"
     ]
    }
   ],
   "source": [
    "print(\" Prime Numbers from 1 to 101 \\n\")\n",
    "\n",
    "for num in range(2, 101):\n",
    "    is_prime = True\n",
    "    for i in range(2, num):\n",
    "        if num % i == 0:\n",
    "            is_prime = False\n",
    "            break\n",
    "    if is_prime:\n",
    "        print(f\"{num} is Prime\")"
   ]
  },
  {
   "cell_type": "code",
   "execution_count": 3,
   "id": "28adc5e6",
   "metadata": {},
   "outputs": [
    {
     "name": "stdout",
     "output_type": "stream",
     "text": [
      "[2, 4, 6, 8]\n"
     ]
    }
   ],
   "source": [
    "lst = []\n",
    "for i in range(1, 10):\n",
    "    if i % 2 == 0:\n",
    "        lst.append(i)\n",
    "print(lst)\n"
   ]
  },
  {
   "cell_type": "code",
   "execution_count": 4,
   "id": "869dd720",
   "metadata": {},
   "outputs": [
    {
     "name": "stdout",
     "output_type": "stream",
     "text": [
      "morning\n",
      "afternoon\n",
      "night\n"
     ]
    }
   ],
   "source": [
    "shift = [\"morning\", \"afternoon\", \"night\"]\n",
    "for i in shift:\n",
    "    print(i)"
   ]
  },
  {
   "cell_type": "code",
   "execution_count": 12,
   "id": "b30d3585",
   "metadata": {},
   "outputs": [
    {
     "name": "stdout",
     "output_type": "stream",
     "text": [
      "morning\n",
      "afternoon\n",
      "night\n"
     ]
    }
   ],
   "source": [
    "shift = [\"morning\", \"afternoon\", \"night\"]\n",
    "for i in shift:\n",
    "    print(i)"
   ]
  },
  {
   "cell_type": "code",
   "execution_count": 1,
   "id": "d1adfd90",
   "metadata": {},
   "outputs": [
    {
     "name": "stdout",
     "output_type": "stream",
     "text": [
      "['morning', 'night']\n"
     ]
    }
   ],
   "source": [
    "lst= [\"morning\", \"afternoon\", \"night\"]\n",
    "shift = [num for num in lst if num != \"afternoon\"]\n",
    "print(shift)"
   ]
  },
  {
   "cell_type": "code",
   "execution_count": null,
   "id": "61c7e281",
   "metadata": {},
   "outputs": [],
   "source": [
    "muz = [\"morning\", \"afternoon\", \"night\"]\n"
   ]
  },
  {
   "cell_type": "code",
   "execution_count": 2,
   "id": "8bca0df0",
   "metadata": {},
   "outputs": [
    {
     "name": "stdout",
     "output_type": "stream",
     "text": [
      "7 is odd\n"
     ]
    }
   ],
   "source": [
    "num =7 \n",
    "if num % 2 == 0:\n",
    "    print(f\"{num} is even\")\n",
    "else:\n",
    "    print(f\"{num} is odd\")"
   ]
  },
  {
   "cell_type": "code",
   "execution_count": 6,
   "id": "6583b92f",
   "metadata": {},
   "outputs": [
    {
     "name": "stdout",
     "output_type": "stream",
     "text": [
      "Login successful\n"
     ]
    }
   ],
   "source": [
    "admin=\"admin\"\n",
    "login = True\n",
    "\n",
    "if admin == admin:\n",
    "   if login:\n",
    "         print(\"Login successful\")\n",
    "         "
   ]
  },
  {
   "cell_type": "code",
   "execution_count": null,
   "id": "153301cc",
   "metadata": {},
   "outputs": [
    {
     "name": "stdout",
     "output_type": "stream",
     "text": [
      "yo can enter the class: False\n"
     ]
    }
   ],
   "source": [
    "is_student = True\n",
    "has_notebook = False\n",
    "print(f\"yo can enter the class: {is_student and has_notebook}\")"
   ]
  },
  {
   "cell_type": "code",
   "execution_count": 9,
   "id": "ccc4047b",
   "metadata": {},
   "outputs": [
    {
     "name": "stdout",
     "output_type": "stream",
     "text": [
      "Access granted. Welcome!\n"
     ]
    }
   ],
   "source": [
    "corect_pin =\"1234\"\n",
    "attempt = 0\n",
    "max_attempt = 3\n",
    "while attempt < max_attempt:\n",
    "    pin = input(\"Enter your pin: \")\n",
    "    if pin == corect_pin:\n",
    "        print(\"Access granted. Welcome!\")\n",
    "        break\n",
    "    else:\n",
    "        print(\"Incorrect pin. Please try again.\")\n",
    "        attempt += 1\n",
    "if attempt == max_attempt:\n",
    "    print(\"Max attempts reached. you are locked out.\")"
   ]
  },
  {
   "cell_type": "code",
   "execution_count": 12,
   "id": "c1d53a97",
   "metadata": {},
   "outputs": [
    {
     "name": "stdout",
     "output_type": "stream",
     "text": [
      "It's warm!\n"
     ]
    }
   ],
   "source": [
    "temp = float(input(\"Enter the temperature in Celsius: \"))\n",
    "if temp < 0:\n",
    "    print(\"It's freezing!\")\n",
    "elif temp <= 10:\n",
    "    print(\"It's cold!\")\n",
    "elif temp <= 20:\n",
    "    print(\"It's warm!\")\n",
    "elif temp <= 30:\n",
    "    print(\"It's hot!\")\n",
    "elif temp <= 40:\n",
    "    print(\"It's very hot!\")\n",
    "else:\n",
    "    print(\"It's extremely hot!\")"
   ]
  },
  {
   "cell_type": "code",
   "execution_count": 15,
   "id": "5c1353cf",
   "metadata": {},
   "outputs": [
    {
     "name": "stdout",
     "output_type": "stream",
     "text": [
      "Login failed\n"
     ]
    }
   ],
   "source": [
    "username = \"Muzammal\"\n",
    "password = \"1234\"\n",
    "input_username = input(\"Enter your username: \").title()\n",
    "input_password = input(\"Enter your password: \")\n",
    "if input_username == username and input_password == password:\n",
    "    print(\"Login successful\")\n",
    "else:\n",
    "    print(\"Login failed\")"
   ]
  },
  {
   "cell_type": "code",
   "execution_count": 17,
   "id": "ed9699b7",
   "metadata": {},
   "outputs": [
    {
     "name": "stdout",
     "output_type": "stream",
     "text": [
      "apple\n",
      "banana\n",
      "cherry\n"
     ]
    }
   ],
   "source": [
    "fruits = [\"apple\", \"banana\", \"cherry\"]\n",
    "for fruit in fruits:\n",
    "    print(fruit)"
   ]
  },
  {
   "cell_type": "code",
   "execution_count": 20,
   "id": "f8aa53b8",
   "metadata": {},
   "outputs": [
    {
     "name": "stdout",
     "output_type": "stream",
     "text": [
      "2 X 1 = 2\n",
      "2 X 2 = 4\n",
      "2 X 3 = 6\n",
      "2 X 4 = 8\n",
      "2 X 5 = 10\n",
      "2 X 6 = 12\n",
      "2 X 7 = 14\n",
      "2 X 8 = 16\n",
      "2 X 9 = 18\n",
      "2 X 10 = 20\n",
      "-----\n",
      "3 X 1 = 3\n",
      "3 X 2 = 6\n",
      "3 X 3 = 9\n",
      "3 X 4 = 12\n",
      "3 X 5 = 15\n",
      "3 X 6 = 18\n",
      "3 X 7 = 21\n",
      "3 X 8 = 24\n",
      "3 X 9 = 27\n",
      "3 X 10 = 30\n",
      "-----\n",
      "5 X 1 = 5\n",
      "5 X 2 = 10\n",
      "5 X 3 = 15\n",
      "5 X 4 = 20\n",
      "5 X 5 = 25\n",
      "5 X 6 = 30\n",
      "5 X 7 = 35\n",
      "5 X 8 = 40\n",
      "5 X 9 = 45\n",
      "5 X 10 = 50\n",
      "-----\n",
      "7 X 1 = 7\n",
      "7 X 2 = 14\n",
      "7 X 3 = 21\n",
      "7 X 4 = 28\n",
      "7 X 5 = 35\n",
      "7 X 6 = 42\n",
      "7 X 7 = 49\n",
      "7 X 8 = 56\n",
      "7 X 9 = 63\n",
      "7 X 10 = 70\n",
      "-----\n"
     ]
    }
   ],
   "source": [
    "prime = [2, 3, 5, 7]\n",
    "for i in prime:\n",
    "    for j in range(1, 11):\n",
    "        print(f\"{i} X {j} = {i*j}\")\n",
    "    print(\"-----\")"
   ]
  },
  {
   "cell_type": "code",
   "execution_count": 21,
   "id": "a5f6c1cd",
   "metadata": {},
   "outputs": [
    {
     "name": "stdout",
     "output_type": "stream",
     "text": [
      "Student: Muzammal\n",
      " - Python\n",
      " - Java\n",
      "Student: Ali\n",
      " - C++\n",
      " - JavaScript\n",
      "Student: Sara\n",
      " - HTML\n",
      " - CSS\n",
      "Student: John\n",
      " - Ruby\n",
      " - PHP\n"
     ]
    }
   ],
   "source": [
    "students = {\n",
    "    \"Muzammal\": [\"Python\", \"Java\"],\n",
    "    \"Ali\": [\"C++\", \"JavaScript\"],\n",
    "    \"Sara\": [\"HTML\", \"CSS\"],\n",
    "    \"John\": [\"Ruby\", \"PHP\"]\n",
    "}\n",
    "for student, subjects in students.items():\n",
    "    print(f\"Student: {student}\")\n",
    "    for subject in subjects:\n",
    "        print(f\" - {subject}\")"
   ]
  },
  {
   "cell_type": "code",
   "execution_count": 22,
   "id": "1757a551",
   "metadata": {},
   "outputs": [
    {
     "name": "stdout",
     "output_type": "stream",
     "text": [
      "    * \n",
      "   * * \n",
      "  * * * \n",
      " * * * * \n",
      "* * * * * \n"
     ]
    }
   ],
   "source": [
    "row = 5\n",
    "for i in range(1, row + 1):\n",
    "    print(\" \" * (row - i) + \"* \" * i)"
   ]
  },
  {
   "cell_type": "code",
   "execution_count": 2,
   "id": "3fd69293",
   "metadata": {},
   "outputs": [
    {
     "name": "stdout",
     "output_type": "stream",
     "text": [
      "   *     *       *         *     *   *\n",
      " *   *   *       *       *   *   *   *\n",
      " *   *   *       *       *   *   *   *\n",
      " *****   *       *       *****   *****\n",
      " *   *   *       *       *   *   *   *\n",
      " *   *   *****   *****   *   *   *   *\n"
     ]
    }
   ],
   "source": [
    "write = [\n",
    "    \"   *     *       *         *     *   *\",\n",
    "    \" *   *   *       *       *   *   *   *\",\n",
    "    \" *   *   *       *       *   *   *   *\",\n",
    "    \" *****   *       *       *****   *****\",\n",
    "    \" *   *   *       *       *   *   *   *\",\n",
    "    \" *   *   *****   *****   *   *   *   *\",\n",
    "]\n",
    "\n",
    "for ALLAH in write:\n",
    "    print(ALLAH)"
   ]
  },
  {
   "cell_type": "code",
   "execution_count": 25,
   "id": "38767940",
   "metadata": {},
   "outputs": [
    {
     "name": "stdout",
     "output_type": "stream",
     "text": [
      "The sum of first 10 natural numbers is 55\n"
     ]
    }
   ],
   "source": [
    "total =  0\n",
    "for i in range(1, 11):\n",
    "    total += i\n",
    "print(f\"The sum of first 10 natural numbers is {total}\")"
   ]
  },
  {
   "cell_type": "code",
   "execution_count": 26,
   "id": "f0ae1e94",
   "metadata": {},
   "outputs": [
    {
     "name": "stdout",
     "output_type": "stream",
     "text": [
      "1\n",
      "2\n",
      "3\n",
      "4\n",
      "5\n",
      "6\n",
      "7\n",
      "8\n",
      "9\n",
      "10\n"
     ]
    }
   ],
   "source": [
    "for i in range(1, 11):\n",
    "    print(i)"
   ]
  },
  {
   "cell_type": "code",
   "execution_count": 31,
   "id": "75fb65f2",
   "metadata": {},
   "outputs": [
    {
     "name": "stdout",
     "output_type": "stream",
     "text": [
      "Muzammal's Average: 84.33 - Good\n",
      "Ali's Average: 86.67 - Good\n",
      "Sara's Average: 90.00 - Excellent\n",
      "John's Average: 75.00 - Average\n"
     ]
    }
   ],
   "source": [
    "students = {\n",
    "    \"Muzammal\": [85, 90, 78],\n",
    "    \"Ali\": [88, 92, 80],\n",
    "    \"Sara\": [90, 95, 85],\n",
    "    \"John\": [75, 80, 70],\n",
    "}\n",
    "for student, marks in students.items():\n",
    "    total = 0\n",
    "    for mark in marks:\n",
    "        total += mark\n",
    "    average = total / len(marks)\n",
    "    if average >= 90:\n",
    "        grade = \"Excellent\"\n",
    "    elif average >= 80:\n",
    "        grade = \"Good\"\n",
    "    elif average >= 70:\n",
    "        grade = \"Average\"\n",
    "    elif average >= 60:\n",
    "        grade = \"Pass\"\n",
    "    elif average < 60:\n",
    "        grade = \"Need to improve\"\n",
    "    else:\n",
    "        grade = \"Poor\"\n",
    "    print(f\"{student}'s Average: {average:.2f} - {grade}\")\n"
   ]
  },
  {
   "cell_type": "code",
   "execution_count": 35,
   "id": "893c45d5",
   "metadata": {},
   "outputs": [
    {
     "name": "stdout",
     "output_type": "stream",
     "text": [
      "\n",
      "Student: Muzammal\n",
      "Subject: Python: 85\n",
      "Subject: Java: 90\n",
      "Subject: C++: 78\n",
      "Total Marks: 253\n",
      "Percentage: 84.33%\n",
      "Grade: A\n",
      "------------------\n",
      "Status: Good performance\n",
      "\n",
      "Student: Ali\n",
      "Subject: Python: 88\n",
      "Subject: Java: 92\n",
      "Subject: C++: 80\n",
      "Total Marks: 260\n",
      "Percentage: 86.67%\n",
      "Grade: A\n",
      "------------------\n",
      "Status: Good performance\n",
      "\n",
      "Student: Sara\n",
      "Subject: Python: 90\n",
      "Subject: Java: 95\n",
      "Subject: C++: 85\n",
      "Total Marks: 270\n",
      "Percentage: 90.00%\n",
      "Grade: A+\n",
      "------------------\n",
      "Excellent! Top performer!\n",
      "\n",
      "Student: Fatima\n",
      "Subject: Python: 88\n",
      "Subject: Java: 90\n",
      "Subject: C++: 92\n",
      "Total Marks: 270\n",
      "Percentage: 90.00%\n",
      "Grade: A+\n",
      "------------------\n",
      "Excellent! Top performer!\n"
     ]
    }
   ],
   "source": [
    "students = [\n",
    "    {\"name\": \"Muzammal\", \"marks\": {\"Python\": 85, \"Java\": 90, \"C++\": 78}},\n",
    "    {\"name\": \"Ali\", \"marks\": {\"Python\": 88, \"Java\": 92, \"C++\": 80}},\n",
    "    {\"name\": \"Sara\", \"marks\": {\"Python\": 90, \"Java\": 95, \"C++\": 85}},\n",
    "    {\"name\": \"Fatima\", \"marks\": {\"Python\": 88, \"Java\": 90, \"C++\": 92}},\n",
    "]\n",
    "def get_grade(percentage):\n",
    "    if percentage >= 90:\n",
    "        return \"A+\"\n",
    "    elif percentage >= 80:\n",
    "        return \"A\"\n",
    "    elif percentage >= 70:\n",
    "        return \"B+\"\n",
    "    elif percentage >= 60:\n",
    "        return \"B\"\n",
    "    elif percentage >= 50:\n",
    "        return \"C+\"\n",
    "    elif percentage >= 40:\n",
    "        return \"C\"\n",
    "    else:\n",
    "        return \"F\"\n",
    "for student in students:\n",
    "    name = student[\"name\"]\n",
    "    marks = student[\"marks\"]\n",
    "    total = 0\n",
    "    fail_flag = False\n",
    "    \n",
    "    print(f\"\\nStudent: {name}\")\n",
    "    for subject, mark in marks.items():\n",
    "        print(f\"Subject: {subject}: {mark}\")\n",
    "        total += mark\n",
    "        if mark < 40:\n",
    "            fail_flag = True\n",
    "    percentage = total / len(marks)\n",
    "    grade = get_grade(percentage)\n",
    "    \n",
    "    print(f\"Total Marks: {total}\")\n",
    "\n",
    "    print(f\"Percentage: {percentage:.2f}%\")\n",
    "    \n",
    "    print(f\"Grade: {grade}\")\n",
    "    print(\"------------------\")\n",
    "    if fail_flag:\n",
    "        print(\"Status: Failed in one or more subjects\")\n",
    "    elif grade == \"A+\":\n",
    "        print(\"Excellent! Top performer!\")\n",
    "    elif grade in [\"A\", \"B+\"]:\n",
    "        print(\"Status: Good performance\")\n",
    "    else:\n",
    "        print(\"Status: Needs Improvement\")"
   ]
  },
  {
   "cell_type": "code",
   "execution_count": null,
   "id": "b34e862b",
   "metadata": {},
   "outputs": [],
   "source": []
  }
 ],
 "metadata": {
  "kernelspec": {
   "display_name": "Python 3",
   "language": "python",
   "name": "python3"
  },
  "language_info": {
   "codemirror_mode": {
    "name": "ipython",
    "version": 3
   },
   "file_extension": ".py",
   "mimetype": "text/x-python",
   "name": "python",
   "nbconvert_exporter": "python",
   "pygments_lexer": "ipython3",
   "version": "3.13.3"
  }
 },
 "nbformat": 4,
 "nbformat_minor": 5
}
