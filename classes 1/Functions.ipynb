{
 "cells": [
  {
   "cell_type": "markdown",
   "id": "81c66784-8002-4d51-839f-02cf7653ea07",
   "metadata": {},
   "source": [
    "A block of reusable code.\n",
    "\n",
    "Specific piece of your program call it whenever it is require.\n",
    "\n",
    "\n",
    "\n"
   ]
  },
  {
   "cell_type": "markdown",
   "id": "b091a3dc-ace6-468b-aa4e-19a8e7d44db5",
   "metadata": {},
   "source": [
    "A Function is a block of reusable code that performs a specific task.\n",
    "\n",
    "Why use functions?\n",
    " - Avoid code repetition\n",
    " - Make code Modular\n",
    " - Increase Readability"
   ]
  },
  {
   "cell_type": "markdown",
   "id": "837eed05-854a-4d7e-935e-5ba42a855374",
   "metadata": {},
   "source": [
    "Package\n",
    "Packages are same as a directory containing other sub-packages and modules in a structured way. Easy to access."
   ]
  },
  {
   "cell_type": "markdown",
   "id": "163d8a7d-867c-44de-b2f9-63d013816118",
   "metadata": {},
   "source": [
    "Ecosystem \n",
    "\n",
    "An Ecosystem includes everything from libraries and frameworks to tools and documentation, supporting a complete development enviroment."
   ]
  },
  {
   "cell_type": "code",
   "execution_count": 5,
   "id": "83f1642c-ebf6-4b8f-87ec-5b262d9fb623",
   "metadata": {},
   "outputs": [
    {
     "name": "stdout",
     "output_type": "stream",
     "text": [
      "Paragraphs are groups of sentences that share a common idea. They are all written about a certain topic, just like friends usually share a common interest. Paragraphs often include examples or evidence to support a topic, idea, or opinion.\n",
      "Paragraphs are groups of sentences that share a common idea. They are all written about a certain topic, just like friends usually share a common interest. Paragraphs often include examples or evidence to support a topic, idea, or opinion.\n",
      "Paragraphs are groups of sentences that share a common idea. They are all written about a certain topic, just like friends usually share a common interest. Paragraphs often include examples or evidence to support a topic, idea, or opinion.\n"
     ]
    }
   ],
   "source": [
    "# Basic functions code.\n",
    "\n",
    "def say_hello():\n",
    "    print(\"Paragraphs are groups of sentences that share a common idea. They are all written about a certain topic, just like friends usually share a common interest. Paragraphs often include examples or evidence to support a topic, idea, or opinion.\")\n",
    "\n",
    "say_hello()\n",
    "say_hello()\n",
    "say_hello()"
   ]
  },
  {
   "cell_type": "code",
   "execution_count": 6,
   "id": "ed350809-0965-49a9-8c1d-ac524277a87a",
   "metadata": {},
   "outputs": [
    {
     "name": "stdout",
     "output_type": "stream",
     "text": [
      "Hello, Abdullah ! Welcome.\n",
      "Hello, Moaavia ! Welcome.\n"
     ]
    }
   ],
   "source": [
    "def greet_user(name):\n",
    "    print(f\"Hello, {name} ! Welcome.\")\n",
    "\n",
    "greet_user(\"Abdullah\")\n",
    "greet_user(\"Moaavia\")"
   ]
  },
  {
   "cell_type": "code",
   "execution_count": 7,
   "id": "f751bd15-2bc6-41c8-921d-fbafa5cb003f",
   "metadata": {},
   "outputs": [
    {
     "name": "stdout",
     "output_type": "stream",
     "text": [
      "Sum is: 8\n"
     ]
    }
   ],
   "source": [
    "def add(a, b):\n",
    "    return a + b \n",
    "\n",
    "result = add(5, 3)\n",
    "print(\"Sum is:\", result)"
   ]
  },
  {
   "cell_type": "code",
   "execution_count": 9,
   "id": "5ef46f00-e444-46a6-a67e-29b4f98688f1",
   "metadata": {},
   "outputs": [
    {
     "name": "stdout",
     "output_type": "stream",
     "text": [
      "Name: Laiba, Age: 20\n"
     ]
    }
   ],
   "source": [
    "def student_info(name, age):\n",
    "    print(f\"Name: {name}, Age: {age}\")\n",
    "\n",
    "student_info(age=20, name=\"Laiba\")"
   ]
  },
  {
   "cell_type": "code",
   "execution_count": 10,
   "id": "cbee6aa6-d919-459d-a2df-1ccabe68ce27",
   "metadata": {},
   "outputs": [
    {
     "name": "stdout",
     "output_type": "stream",
     "text": [
      "1\n",
      "2\n",
      "3\n",
      "4\n",
      "5\n"
     ]
    }
   ],
   "source": [
    "def print_numbers(*nums):\n",
    "    for num in nums:\n",
    "        print(num)\n",
    "print_numbers(1, 2, 3, 4, 5)"
   ]
  },
  {
   "cell_type": "code",
   "execution_count": 11,
   "id": "7e2c9314-f5e0-490a-9c58-4bbf1198c44b",
   "metadata": {},
   "outputs": [
    {
     "name": "stdout",
     "output_type": "stream",
     "text": [
      "name: Siddiq\n",
      "Age: 22\n",
      "city: Lahore\n"
     ]
    }
   ],
   "source": [
    "def print_profile(**kwargs):\n",
    "    for key, value in kwargs.items():\n",
    "        print(f\"{key}: {value}\")\n",
    "\n",
    "print_profile(name=\"Siddiq\", Age=22, city=\"Lahore\")"
   ]
  },
  {
   "cell_type": "code",
   "execution_count": 13,
   "id": "59a3e39b-9a21-4c10-9d5b-495c8bf2145c",
   "metadata": {},
   "outputs": [
    {
     "name": "stdout",
     "output_type": "stream",
     "text": [
      "This is outer function\n"
     ]
    }
   ],
   "source": [
    "# Nested Function.\n",
    "def outer():\n",
    "    def inner():\n",
    "        print(\"This is inner function\")\n",
    "    print(\"This is outer function\")\n",
    "    inner()\n",
    "    \n",
    "outer()"
   ]
  },
  {
   "cell_type": "code",
   "execution_count": 14,
   "id": "08a839f1-5632-4087-af9a-5ff427c1e2fa",
   "metadata": {},
   "outputs": [],
   "source": [
    "def word_frequency(text):\n",
    "    \"\"\"\n",
    "    counts word frequency in a sentence and returns sorted result.\n",
    "    parameters:\n",
    "        text(str): the input sentence.\n",
    "    Returns:\n",
    "        List of tuples: (word, count), sorted by count descending.\n",
    "        \"\"\"\n",
    "    words = text.lower().split()\n",
    "    frequency = {}\n",
    "    for word in words:\n",
    "        word = word.strip(\". , ! ?\")\n",
    "        frequency[word] = frequency.get(word, 0) + 1\n",
    "    sorted_words = sorted(frequency.items(), key = lambda item: item[1], reverse = True)\n",
    "\n",
    "    return sorted_words"
   ]
  },
  {
   "cell_type": "code",
   "execution_count": 16,
   "id": "ae40eb50-666f-44a1-83b7-6d82b28e456d",
   "metadata": {},
   "outputs": [
    {
     "name": "stdout",
     "output_type": "stream",
     "text": [
      "[('a', 4), ('paragraphs', 2), ('are', 2), ('share', 2), ('common', 2), ('idea', 2), ('topic', 2), ('or', 2), ('groups', 1), ('of', 1), ('sentences', 1), ('that', 1), ('they', 1), ('all', 1), ('written', 1), ('about', 1), ('certain', 1), ('just', 1), ('like', 1), ('friends', 1), ('usually', 1), ('interest', 1), ('often', 1), ('include', 1), ('examples', 1), ('evidence', 1), ('to', 1), ('support', 1), ('opinion', 1)]\n"
     ]
    }
   ],
   "source": [
    "sentence = \" Paragraphs are groups of sentences that share a common idea. They are all written about a certain topic, just like friends usually share a common interest. Paragraphs often include examples or evidence to support a topic, idea, or opinion.\"\n",
    "print(word_frequency(sentence))"
   ]
  },
  {
   "cell_type": "code",
   "execution_count": 20,
   "id": "6c6379cf-4088-48d2-ad7a-297d73a47644",
   "metadata": {},
   "outputs": [],
   "source": [
    "def greet_user(role):\n",
    "    def admin_greeting():\n",
    "        return \" Welcome, Admin! You have full access.\"\n",
    "    def guest_greeting():\n",
    "        return \" Welcome, Guest! You have limited access.\"\n",
    "    def unknown_greeting():\n",
    "        return \"Hello! , please log in.\"\n",
    "\n",
    "    if role.lower() == \"admin\":\n",
    "        return admin_greeting()\n",
    "    elif role.lower() == \"guest\":\n",
    "        return guest_greeting()\n",
    "    else:\n",
    "        return unknown_greeting()\n",
    "        "
   ]
  },
  {
   "cell_type": "code",
   "execution_count": 21,
   "id": "a4b15723-36e9-4f7f-95c5-036480ff2235",
   "metadata": {},
   "outputs": [
    {
     "name": "stdout",
     "output_type": "stream",
     "text": [
      "Hello! , please log in.\n"
     ]
    }
   ],
   "source": [
    "print(greet_user(\"student\"))"
   ]
  },
  {
   "cell_type": "code",
   "execution_count": 22,
   "id": "b94cb027-c092-4505-a34c-14e441742ac2",
   "metadata": {},
   "outputs": [
    {
     "name": "stdout",
     "output_type": "stream",
     "text": [
      " Welcome, Guest! You have limited access.\n"
     ]
    }
   ],
   "source": [
    "print(greet_user(\"guest\"))"
   ]
  },
  {
   "cell_type": "code",
   "execution_count": 23,
   "id": "6b872ecd-aa77-4beb-b570-b47267f833ea",
   "metadata": {},
   "outputs": [
    {
     "name": "stdout",
     "output_type": "stream",
     "text": [
      " Welcome, Admin! You have full access.\n"
     ]
    }
   ],
   "source": [
    "print(greet_user(\"admin\"))"
   ]
  },
  {
   "cell_type": "code",
   "execution_count": 24,
   "id": "7c891b01-628c-460f-bdc1-a8aaa2e24f9f",
   "metadata": {},
   "outputs": [],
   "source": [
    "def currency_converter(amount, rate, round_to=2):\n",
    "    \"\"\"\n",
    "    Convert currency using a given exchange rate.\n",
    "    parameters:\n",
    "        amount (float): The amount of money to convert.\n",
    "        rate (float) : The conversion rate (e.g., USD to PKR).\n",
    "        round_to (int): Decimal places to round result. Default is 2.\n",
    "    Returns:\n",
    "        float: Converted amount.\n",
    "    \"\"\"\n",
    "    converted = amount * rate\n",
    "    return round(converted, round_to)"
   ]
  },
  {
   "cell_type": "code",
   "execution_count": 25,
   "id": "035334ba-bf25-425c-ab7e-6d110b51f6e0",
   "metadata": {},
   "outputs": [
    {
     "name": "stdout",
     "output_type": "stream",
     "text": [
      "10 USD is 2785.0 PKR\n"
     ]
    }
   ],
   "source": [
    "usd_to_pkr_rate = 278.50\n",
    "amount_in_usd = 10 \n",
    "\n",
    "converted_amount = currency_converter(amount_in_usd, usd_to_pkr_rate)\n",
    "print(f\"{amount_in_usd} USD is {converted_amount} PKR\")"
   ]
  },
  {
   "cell_type": "code",
   "execution_count": 30,
   "id": "5ad09e13-5f8b-474a-a922-c2882cc613e3",
   "metadata": {},
   "outputs": [],
   "source": [
    "def is_email(email):\n",
    "    \"\"\"\n",
    "    Checks if the provided email is in a valid format\n",
    "    A very basic check for '@' and '.' symbols.\n",
    "    \"\"\"\n",
    "    if \"@\" not in email or \".\" not in email:\n",
    "        return False\n",
    "    if email.startswith(\"@\") or email.endswith(\".\"):\n",
    "        return False\n",
    "    if email.count(\"@\") != 1:\n",
    "        return False\n",
    "    return True"
   ]
  },
  {
   "cell_type": "code",
   "execution_count": 31,
   "id": "1f4e6296-03db-40d6-adcd-5bb3b8261d4e",
   "metadata": {},
   "outputs": [
    {
     "name": "stdout",
     "output_type": "stream",
     "text": [
      "True\n",
      "False\n",
      "True\n",
      "False\n"
     ]
    }
   ],
   "source": [
    "print(is_email(\"john@example.com\"))\n",
    "print(is_email(\"johnxample.com\"))\n",
    "print(is_email(\"john@.com\"))\n",
    "print(is_email(\"john@examplecom\"))"
   ]
  },
  {
   "cell_type": "code",
   "execution_count": null,
   "id": "67f70f98-341b-488e-908c-707999304158",
   "metadata": {},
   "outputs": [],
   "source": []
  }
 ],
 "metadata": {
  "kernelspec": {
   "display_name": "Python 3 (ipykernel)",
   "language": "python",
   "name": "python3"
  },
  "language_info": {
   "codemirror_mode": {
    "name": "ipython",
    "version": 3
   },
   "file_extension": ".py",
   "mimetype": "text/x-python",
   "name": "python",
   "nbconvert_exporter": "python",
   "pygments_lexer": "ipython3",
   "version": "3.12.7"
  }
 },
 "nbformat": 4,
 "nbformat_minor": 5
}
