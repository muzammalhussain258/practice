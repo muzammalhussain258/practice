{
 "cells": [
  {
   "cell_type": "markdown",
   "id": "b7bc5d86-b269-41ed-9bc3-6a0b3286f154",
   "metadata": {},
   "source": [
    "While loop\n",
    "\n",
    "A while loop executes a block of code as long as a condition is True.\n",
    "\n",
    "Sytax\n",
    "\n",
    "while condition: \n",
    "\n",
    "     block of code"
   ]
  },
  {
   "cell_type": "code",
   "execution_count": 2,
   "id": "6bc90d0f-3f9b-4fc8-b53d-94b6da8c1fa9",
   "metadata": {},
   "outputs": [
    {
     "name": "stdout",
     "output_type": "stream",
     "text": [
      "1\n",
      "2\n",
      "3\n",
      "4\n"
     ]
    }
   ],
   "source": [
    "count = 1\n",
    "while count < 5:\n",
    "     print(count)\n",
    "     count += 1"
   ]
  },
  {
   "cell_type": "code",
   "execution_count": 4,
   "id": "5a7a1aff-1e8f-4bca-9cfb-725db1027556",
   "metadata": {},
   "outputs": [
    {
     "name": "stdin",
     "output_type": "stream",
     "text": [
      "Type 'exit' to quit: no\n",
      "Type 'exit' to quit: no\n",
      "Type 'exit' to quit: yes\n",
      "Type 'exit' to quit: ok\n",
      "Type 'exit' to quit: bhai mera sar chor do\n",
      "Type 'exit' to quit: ni chor rehy\n",
      "Type 'exit' to quit: kiya chahty ho\n",
      "Type 'exit' to quit: kese maaf kro gy\n",
      "Type 'exit' to quit: exit likho chor do gy \n",
      "Type 'exit' to quit: ok\n",
      "Type 'exit' to quit: likhta hoo\n",
      "Type 'exit' to quit: exit\n"
     ]
    }
   ],
   "source": [
    "user_input =\"\"\n",
    "while user_input.lower() != \"exit\":\n",
    "    user_input = input(\"Type 'exit' to quit:\")"
   ]
  },
  {
   "cell_type": "markdown",
   "id": "c025a130-5823-49c5-b75f-47176d7d839e",
   "metadata": {},
   "source": [
    "break Statement\n",
    " - break is used to exit the loop immediately."
   ]
  },
  {
   "cell_type": "code",
   "execution_count": 5,
   "id": "feabfb54-63f9-4c83-82f1-ca726fed5480",
   "metadata": {},
   "outputs": [
    {
     "name": "stdout",
     "output_type": "stream",
     "text": [
      "0\n",
      "1\n",
      "2\n",
      "3\n",
      "4\n"
     ]
    }
   ],
   "source": [
    "for i in range(10):\n",
    "    if i == 5:\n",
    "        break \n",
    "    print(i)"
   ]
  },
  {
   "cell_type": "markdown",
   "id": "e172f16e-4f0d-4c7a-981e-e85330e09a42",
   "metadata": {},
   "source": [
    "continue Statement \n",
    " - continue skips the current iteration and moves to the next."
   ]
  },
  {
   "cell_type": "code",
   "execution_count": 6,
   "id": "3ff76c8b-12ca-4778-a513-3707bea7be65",
   "metadata": {},
   "outputs": [
    {
     "name": "stdout",
     "output_type": "stream",
     "text": [
      "1\n",
      "3\n",
      "5\n",
      "7\n",
      "9\n"
     ]
    }
   ],
   "source": [
    "for i in range(10):\n",
    "    if i % 2 == 0:\n",
    "        continue\n",
    "    print(i)"
   ]
  },
  {
   "cell_type": "markdown",
   "id": "fbab6c17-47f2-4234-ae0f-ed05cb428fbb",
   "metadata": {},
   "source": [
    "pass Statement\n",
    " - pass does nothing; used as a placeholder\n"
   ]
  },
  {
   "cell_type": "code",
   "execution_count": 7,
   "id": "0e1ae6c2-8326-468d-9a97-63b60f03cc57",
   "metadata": {},
   "outputs": [
    {
     "name": "stdout",
     "output_type": "stream",
     "text": [
      "0\n",
      "1\n",
      "2\n",
      "3\n",
      "4\n"
     ]
    }
   ],
   "source": [
    "for i in range(5):\n",
    "    if i == 3:\n",
    "        pass\n",
    "    print(i)"
   ]
  },
  {
   "cell_type": "code",
   "execution_count": null,
   "id": "e3c15b2b-6e9f-4e20-b029-fffcb1152946",
   "metadata": {},
   "outputs": [],
   "source": [
    "Nested loops\n",
    " - A loop inside another loop.\n"
   ]
  },
  {
   "cell_type": "code",
   "execution_count": 8,
   "id": "f735f0bb-e665-4ed3-92a8-adf62eeb7993",
   "metadata": {},
   "outputs": [
    {
     "name": "stdout",
     "output_type": "stream",
     "text": [
      "I: 0, J: 0\n",
      "I: 0, J: 1\n",
      "I: 1, J: 0\n",
      "I: 1, J: 1\n",
      "I: 2, J: 0\n",
      "I: 2, J: 1\n"
     ]
    }
   ],
   "source": [
    "for i in range(3):\n",
    "    for j in range(2):\n",
    "        print(f\"I: {i}, J: {j}\")"
   ]
  },
  {
   "cell_type": "code",
   "execution_count": 10,
   "id": "f4aa7ff2-bde2-4fcb-a1a6-560a3fd914b6",
   "metadata": {},
   "outputs": [
    {
     "name": "stdout",
     "output_type": "stream",
     "text": [
      "I: 0, J: 0\n",
      "I: 0, J: 1\n",
      "I: 0, J: 2\n",
      "I: 0, J: 3\n",
      "I: 0, J: 4\n",
      "I: 0, J: 5\n",
      "I: 0, J: 6\n",
      "I: 1, J: 0\n",
      "I: 1, J: 1\n",
      "I: 1, J: 2\n",
      "I: 1, J: 3\n",
      "I: 1, J: 4\n",
      "I: 1, J: 5\n",
      "I: 1, J: 6\n",
      "I: 2, J: 0\n",
      "I: 2, J: 1\n",
      "I: 2, J: 2\n",
      "I: 2, J: 3\n",
      "I: 2, J: 4\n",
      "I: 2, J: 5\n",
      "I: 2, J: 6\n",
      "I: 3, J: 0\n",
      "I: 3, J: 1\n",
      "I: 3, J: 2\n",
      "I: 3, J: 3\n",
      "I: 3, J: 4\n",
      "I: 3, J: 5\n",
      "I: 3, J: 6\n",
      "I: 4, J: 0\n",
      "I: 4, J: 1\n",
      "I: 4, J: 2\n",
      "I: 4, J: 3\n",
      "I: 4, J: 4\n",
      "I: 4, J: 5\n",
      "I: 4, J: 6\n",
      "I: 5, J: 0\n",
      "I: 5, J: 1\n",
      "I: 5, J: 2\n",
      "I: 5, J: 3\n",
      "I: 5, J: 4\n",
      "I: 5, J: 5\n",
      "I: 5, J: 6\n",
      "I: 6, J: 0\n",
      "I: 6, J: 1\n",
      "I: 6, J: 2\n",
      "I: 6, J: 3\n",
      "I: 6, J: 4\n",
      "I: 6, J: 5\n",
      "I: 6, J: 6\n",
      "I: 7, J: 0\n",
      "I: 7, J: 1\n",
      "I: 7, J: 2\n",
      "I: 7, J: 3\n",
      "I: 7, J: 4\n",
      "I: 7, J: 5\n",
      "I: 7, J: 6\n",
      "I: 8, J: 0\n",
      "I: 8, J: 1\n",
      "I: 8, J: 2\n",
      "I: 8, J: 3\n",
      "I: 8, J: 4\n",
      "I: 8, J: 5\n",
      "I: 8, J: 6\n",
      "I: 9, J: 0\n",
      "I: 9, J: 1\n",
      "I: 9, J: 2\n",
      "I: 9, J: 3\n",
      "I: 9, J: 4\n",
      "I: 9, J: 5\n",
      "I: 9, J: 6\n"
     ]
    }
   ],
   "source": [
    "for i in range(10):\n",
    "    for j in range(7):\n",
    "        print(f\"I: {i}, J: {j}\")    "
   ]
  },
  {
   "cell_type": "code",
   "execution_count": 12,
   "id": "24d3c04b-32b7-41bd-b1e6-3705e3f91479",
   "metadata": {},
   "outputs": [
    {
     "name": "stdout",
     "output_type": "stream",
     "text": [
      "1 x 1 = 1\n",
      "1 x 2 = 2\n",
      "1 x 3 = 3\n",
      "1 x 4 = 4\n",
      "1 x 5 = 5\n",
      "----\n",
      "2 x 1 = 2\n",
      "2 x 2 = 4\n",
      "2 x 3 = 6\n",
      "2 x 4 = 8\n",
      "2 x 5 = 10\n",
      "----\n",
      "3 x 1 = 3\n",
      "3 x 2 = 6\n",
      "3 x 3 = 9\n",
      "3 x 4 = 12\n",
      "3 x 5 = 15\n",
      "----\n"
     ]
    }
   ],
   "source": [
    "i = 1 \n",
    "while i <= 3:\n",
    "    j = 1\n",
    "    while j <= 5:\n",
    "        print(f\"{i} x {j} = {i*j}\")\n",
    "        j += 1\n",
    "    i += 1\n",
    "    print(\"----\")"
   ]
  },
  {
   "cell_type": "code",
   "execution_count": 13,
   "id": "065fc7fb-73e8-4dcb-848c-177454f516ed",
   "metadata": {},
   "outputs": [
    {
     "name": "stdout",
     "output_type": "stream",
     "text": [
      "\n",
      "Menu\n",
      "1. Greet\n",
      "2. Exit\n"
     ]
    },
    {
     "name": "stdin",
     "output_type": "stream",
     "text": [
      "Enter your choice:  3\n"
     ]
    },
    {
     "name": "stdout",
     "output_type": "stream",
     "text": [
      "Invalid Choice. Try again.\n",
      "\n",
      "Menu\n",
      "1. Greet\n",
      "2. Exit\n"
     ]
    },
    {
     "name": "stdin",
     "output_type": "stream",
     "text": [
      "Enter your choice:  5\n"
     ]
    },
    {
     "name": "stdout",
     "output_type": "stream",
     "text": [
      "Invalid Choice. Try again.\n",
      "\n",
      "Menu\n",
      "1. Greet\n",
      "2. Exit\n"
     ]
    },
    {
     "name": "stdin",
     "output_type": "stream",
     "text": [
      "Enter your choice:  1\n"
     ]
    },
    {
     "name": "stdout",
     "output_type": "stream",
     "text": [
      "Hello! Welcome to the Menu System.\n",
      "\n",
      "Menu\n",
      "1. Greet\n",
      "2. Exit\n"
     ]
    },
    {
     "name": "stdin",
     "output_type": "stream",
     "text": [
      "Enter your choice:  2\n"
     ]
    },
    {
     "name": "stdout",
     "output_type": "stream",
     "text": [
      "Exiting...\n"
     ]
    }
   ],
   "source": [
    "while True:\n",
    "    print(\"\\nMenu\")\n",
    "    print(\"1. Greet\")\n",
    "    print(\"2. Exit\")\n",
    "    choice = input(\"Enter your choice: \")\n",
    "    if choice == \"1\":\n",
    "        print(\"Hello! Welcome to the Menu System.\")\n",
    "    elif choice == \"2\":\n",
    "        print(\"Exiting...\")\n",
    "        break\n",
    "    else:\n",
    "        print(\"Invalid Choice. Try again.\")\n",
    "        "
   ]
  },
  {
   "cell_type": "markdown",
   "id": "45ebe0df-7941-4b0f-900f-51cb975d8ee1",
   "metadata": {},
   "source": [
    "-------------------------------------------------------------------------------------------------------------------------------"
   ]
  },
  {
   "cell_type": "markdown",
   "id": "f7e7a4fa-f16d-4269-a962-264dc9087515",
   "metadata": {},
   "source": [
    "A tuple is a collection which is ordered and immutable(cannot be changed). Tuples are used to store multiple items in a single variable.\n",
    "\n",
    "Sytax\n",
    "\n",
    "My_tuple = (item1, item2,.........)\n"
   ]
  },
  {
   "cell_type": "code",
   "execution_count": 16,
   "id": "c24a6d5e-d95f-4058-9b29-f4d32aabc0db",
   "metadata": {},
   "outputs": [
    {
     "name": "stdout",
     "output_type": "stream",
     "text": [
      "() <class 'tuple'>\n",
      "(1, 'hello', 3.14, True)\n"
     ]
    }
   ],
   "source": [
    "empty_tuple = ()\n",
    "print(empty_tuple, type(empty_tuple))\n",
    "\n",
    "\n",
    "mixed_tuple = (1, 'hello', 3.14, True)\n",
    "print(mixed_tuple)"
   ]
  },
  {
   "cell_type": "code",
   "execution_count": 17,
   "id": "135cdf4b-d30e-40e8-b29d-17af05ee170a",
   "metadata": {},
   "outputs": [
    {
     "name": "stdout",
     "output_type": "stream",
     "text": [
      "1\n",
      "True\n"
     ]
    }
   ],
   "source": [
    "print(mixed_tuple[0])\n",
    "print(mixed_tuple[-1])"
   ]
  },
  {
   "cell_type": "code",
   "execution_count": 19,
   "id": "75f18f15-3041-4892-a92e-bd88d2e27bae",
   "metadata": {},
   "outputs": [
    {
     "name": "stdout",
     "output_type": "stream",
     "text": [
      "(1, 2, 3, 4, 5)\n",
      "(1, 2, 3, 1, 2, 3)\n"
     ]
    }
   ],
   "source": [
    "numbers = (1, 2, 3)\n",
    "more_numbers = (4, 5)\n",
    "\n",
    "# Concatenation\n",
    "\n",
    "print(numbers + more_numbers)\n",
    "\n",
    "print(numbers*2)"
   ]
  },
  {
   "cell_type": "code",
   "execution_count": 21,
   "id": "8b37368e-5779-4b27-8c88-620963a62e59",
   "metadata": {},
   "outputs": [
    {
     "name": "stdout",
     "output_type": "stream",
     "text": [
      "[99, 2, 3]\n"
     ]
    },
    {
     "ename": "TypeError",
     "evalue": "'tuple' object does not support item assignment",
     "output_type": "error",
     "traceback": [
      "\u001b[1;31m---------------------------------------------------------------------------\u001b[0m",
      "\u001b[1;31mTypeError\u001b[0m                                 Traceback (most recent call last)",
      "Cell \u001b[1;32mIn[21], line 6\u001b[0m\n\u001b[0;32m      3\u001b[0m \u001b[38;5;28mprint\u001b[39m(my_list)\n\u001b[0;32m      5\u001b[0m my_tuple \u001b[38;5;241m=\u001b[39m (\u001b[38;5;241m1\u001b[39m, \u001b[38;5;241m2\u001b[39m, \u001b[38;5;241m3\u001b[39m)\n\u001b[1;32m----> 6\u001b[0m my_tuple[\u001b[38;5;241m0\u001b[39m] \u001b[38;5;241m=\u001b[39m \u001b[38;5;241m99\u001b[39m\n",
      "\u001b[1;31mTypeError\u001b[0m: 'tuple' object does not support item assignment"
     ]
    }
   ],
   "source": [
    "my_list = [1, 2, 3]\n",
    "my_list[0] = 99\n",
    "print(my_list)\n",
    "\n",
    "my_tuple = (1, 2, 3)\n",
    "my_tuple[0] = 99"
   ]
  },
  {
   "cell_type": "code",
   "execution_count": 23,
   "id": "18395f5d-f159-4de1-b570-e847182ffe90",
   "metadata": {},
   "outputs": [
    {
     "name": "stdout",
     "output_type": "stream",
     "text": [
      "1\n",
      "2\n"
     ]
    }
   ],
   "source": [
    "numbers = (1, 2, 3)\n",
    "print(numbers.count(2))\n",
    "print(numbers.index(3))"
   ]
  },
  {
   "cell_type": "code",
   "execution_count": 24,
   "id": "5236456c-614c-41b3-9a7f-52d87ecd4771",
   "metadata": {},
   "outputs": [
    {
     "name": "stdout",
     "output_type": "stream",
     "text": [
      "1 AI 7.5\n"
     ]
    }
   ],
   "source": [
    "packed = 1, 'AI', 7.5\n",
    "\n",
    "x, y, z = packed\n",
    "print(x, y, z)"
   ]
  },
  {
   "cell_type": "markdown",
   "id": "c59a3fdd-2b26-4e66-98bb-55d8f9912d0c",
   "metadata": {},
   "source": [
    "Assignment\n",
    " - Create a tuple of 5 fruits. Access the second fruit and try to replace it."
   ]
  },
  {
   "cell_type": "markdown",
   "id": "33dd2304-e424-4f7b-acd2-ec67b3518faf",
   "metadata": {},
   "source": [
    "Dictonaries\n",
    " - A dictonary is a collection which is ordered, mutable, and stored in key-value pairs.\n",
    "\n",
    "Sytax\n",
    " - my_dict = {'key1' : value1, 'key2' : value2}\n"
   ]
  },
  {
   "cell_type": "code",
   "execution_count": 25,
   "id": "960b6e92-f132-406a-913b-514ca0dbe0a6",
   "metadata": {},
   "outputs": [
    {
     "name": "stdout",
     "output_type": "stream",
     "text": [
      "{'Name': 'Omar', 'age': 21, 'grade': 'A'}\n"
     ]
    }
   ],
   "source": [
    "empty_dict ={}\n",
    "student = {'Name' : 'Omar', 'age' : 21, 'grade' : 'A' }\n",
    "print(student)"
   ]
  },
  {
   "cell_type": "code",
   "execution_count": 26,
   "id": "874a55f6-205c-4394-8414-4868d920ee35",
   "metadata": {},
   "outputs": [
    {
     "name": "stdout",
     "output_type": "stream",
     "text": [
      "Omar\n"
     ]
    }
   ],
   "source": [
    "print(student['Name'])"
   ]
  },
  {
   "cell_type": "code",
   "execution_count": 27,
   "id": "37803cbe-2964-4388-9e72-1f04f982c4eb",
   "metadata": {},
   "outputs": [
    {
     "name": "stdout",
     "output_type": "stream",
     "text": [
      "21\n"
     ]
    }
   ],
   "source": [
    "print(student['age'])"
   ]
  },
  {
   "cell_type": "code",
   "execution_count": 28,
   "id": "63a0abeb-fcb9-4618-ba3e-c6f4b33d5af1",
   "metadata": {},
   "outputs": [
    {
     "name": "stdout",
     "output_type": "stream",
     "text": [
      "A\n"
     ]
    }
   ],
   "source": [
    "print(student['grade'])"
   ]
  },
  {
   "cell_type": "code",
   "execution_count": 30,
   "id": "1da67b2e-b788-4194-b0ba-f41ff225fd4b",
   "metadata": {},
   "outputs": [
    {
     "name": "stdout",
     "output_type": "stream",
     "text": [
      "Not Found\n"
     ]
    }
   ],
   "source": [
    "print(student.get('school', 'Not Found'))"
   ]
  },
  {
   "cell_type": "code",
   "execution_count": 31,
   "id": "7f4c4f6a-021c-42fd-b133-f5e2a80be7da",
   "metadata": {},
   "outputs": [
    {
     "name": "stdout",
     "output_type": "stream",
     "text": [
      "{'Name': 'Omar', 'age': 23, 'grade': 'A', 'city': 'Faisalabad'}\n"
     ]
    }
   ],
   "source": [
    "student['age'] = 23\n",
    "student['city'] = 'Faisalabad'\n",
    "print(student)"
   ]
  },
  {
   "cell_type": "code",
   "execution_count": 32,
   "id": "769242e3-7091-4105-bb08-93ef06763dfb",
   "metadata": {},
   "outputs": [
    {
     "name": "stdout",
     "output_type": "stream",
     "text": [
      "{'Name': 'Omar', 'age': 23, 'city': 'Faisalabad'}\n"
     ]
    }
   ],
   "source": [
    "if 'grade' in student:\n",
    "    del student['grade']\n",
    "print(student)"
   ]
  },
  {
   "cell_type": "code",
   "execution_count": 33,
   "id": "6a8903c8-4e9f-4c4b-bd3b-f67e84dd24ad",
   "metadata": {},
   "outputs": [
    {
     "name": "stdout",
     "output_type": "stream",
     "text": [
      "dict_keys(['Name', 'age', 'city'])\n",
      "dict_values(['Omar', 23, 'Faisalabad'])\n",
      "dict_items([('Name', 'Omar'), ('age', 23), ('city', 'Faisalabad')])\n"
     ]
    }
   ],
   "source": [
    "print(student.keys())\n",
    "print(student.values())\n",
    "print(student.items())"
   ]
  },
  {
   "cell_type": "code",
   "execution_count": 37,
   "id": "0a3c83bb-f59b-4c0c-9a80-6a90611fd9d2",
   "metadata": {},
   "outputs": [
    {
     "name": "stdout",
     "output_type": "stream",
     "text": [
      "Moaavia\n"
     ]
    }
   ],
   "source": [
    "classroom = {\n",
    "    'student1' : {'name' : 'Ali', 'age' : 22},\n",
    "    'student2' : {'name' : 'Moaavia', 'age' : 20}\n",
    "}\n",
    "\n",
    "print(classroom['student2']['name'])\n"
   ]
  },
  {
   "cell_type": "markdown",
   "id": "c81b2e4d-fe13-405b-9440-527ecb56e933",
   "metadata": {},
   "source": [
    "Assigntment --> create a dictonary for a book with keys: title , author , year and price. \n",
    "2. acces a key which is not in the dict."
   ]
  },
  {
   "cell_type": "code",
   "execution_count": null,
   "id": "449d07bf-8821-4c00-9cce-0ff8364dcb82",
   "metadata": {},
   "outputs": [],
   "source": []
  }
 ],
 "metadata": {
  "kernelspec": {
   "display_name": "Python 3 (ipykernel)",
   "language": "python",
   "name": "python3"
  },
  "language_info": {
   "codemirror_mode": {
    "name": "ipython",
    "version": 3
   },
   "file_extension": ".py",
   "mimetype": "text/x-python",
   "name": "python",
   "nbconvert_exporter": "python",
   "pygments_lexer": "ipython3",
   "version": "3.12.7"
  }
 },
 "nbformat": 4,
 "nbformat_minor": 5
}
