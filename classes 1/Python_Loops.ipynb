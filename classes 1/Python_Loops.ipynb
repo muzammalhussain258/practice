{
 "cells": [
  {
   "cell_type": "raw",
   "id": "745b1b79-e37e-4557-81f5-486efaec4294",
   "metadata": {},
   "source": [
    "What is a Loop?\n",
    "\n",
    "A Loop is Used for iterating over a sequence (like a list,Tuple,dictionary,string or range). Python has two primitive loop commands:\n",
    " - for loops\n",
    " - while loops\n",
    "\n",
    "What is for Loop?\n",
    "\n",
    "A for loop is used for iterating over a sequence(like a list,Tuple,dictionary,string or range)"
   ]
  },
  {
   "cell_type": "code",
   "execution_count": 2,
   "id": "469e7dcf-f8db-41ee-ae9a-8484e449e281",
   "metadata": {},
   "outputs": [
    {
     "name": "stdout",
     "output_type": "stream",
     "text": [
      "apple\n",
      "banana\n",
      "cherry\n"
     ]
    }
   ],
   "source": [
    "fruits = [ \"apple\" , \"banana\" , \"cherry\"]\n",
    "for fruit in fruits:\n",
    "    print(fruit)"
   ]
  },
  {
   "cell_type": "code",
   "execution_count": 3,
   "id": "b67d46cc-52dc-4e67-b3dc-aa6f16c2ac5e",
   "metadata": {},
   "outputs": [
    {
     "name": "stdout",
     "output_type": "stream",
     "text": [
      "2 x 1 = 2\n",
      "2 x 2 = 4\n",
      "2 x 3 = 6\n",
      "2 x 4 = 8\n",
      "2 x 5 = 10\n",
      "2 x 6 = 12\n",
      "2 x 7 = 14\n",
      "2 x 8 = 16\n",
      "2 x 9 = 18\n",
      "2 x 10 = 20\n",
      "------\n",
      "3 x 1 = 3\n",
      "3 x 2 = 6\n",
      "3 x 3 = 9\n",
      "3 x 4 = 12\n",
      "3 x 5 = 15\n",
      "3 x 6 = 18\n",
      "3 x 7 = 21\n",
      "3 x 8 = 24\n",
      "3 x 9 = 27\n",
      "3 x 10 = 30\n",
      "------\n",
      "5 x 1 = 5\n",
      "5 x 2 = 10\n",
      "5 x 3 = 15\n",
      "5 x 4 = 20\n",
      "5 x 5 = 25\n",
      "5 x 6 = 30\n",
      "5 x 7 = 35\n",
      "5 x 8 = 40\n",
      "5 x 9 = 45\n",
      "5 x 10 = 50\n",
      "------\n",
      "7 x 1 = 7\n",
      "7 x 2 = 14\n",
      "7 x 3 = 21\n",
      "7 x 4 = 28\n",
      "7 x 5 = 35\n",
      "7 x 6 = 42\n",
      "7 x 7 = 49\n",
      "7 x 8 = 56\n",
      "7 x 9 = 63\n",
      "7 x 10 = 70\n",
      "------\n"
     ]
    }
   ],
   "source": [
    "primes = [2, 3, 5, 7]\n",
    "for i in primes:\n",
    "    for j in range(1, 11):\n",
    "        print(f\"{i} x {j} = {i*j}\")\n",
    "    print(\"------\")"
   ]
  },
  {
   "cell_type": "code",
   "execution_count": 5,
   "id": "57bbf638-e6e2-4fad-837b-2cd372994ebb",
   "metadata": {},
   "outputs": [
    {
     "name": "stdout",
     "output_type": "stream",
     "text": [
      "Student: Haleem\n",
      " - Math\n",
      " - Science\n",
      "Student: Bushra\n",
      " - English\n",
      " - History\n",
      "Student: Insha\n",
      " - Biology\n",
      " - Chemistry\n"
     ]
    }
   ],
   "source": [
    "students = {\n",
    "    \"Haleem\" : [\"Math\", \"Science\"],\n",
    "    \"Bushra\" : [\"English\", \"History\"],\n",
    "    \"Insha\" : [\"Biology\", \"Chemistry\"],\n",
    "}\n",
    "for student, subjects in students.items():\n",
    "    print(f\"Student: {student}\")\n",
    "    for subject in subjects:\n",
    "        print(f\" - {subject}\")\n",
    "    "
   ]
  },
  {
   "cell_type": "code",
   "execution_count": 6,
   "id": "1651499e-1b3d-4cf4-9d28-e7cddc33e580",
   "metadata": {},
   "outputs": [
    {
     "name": "stdout",
     "output_type": "stream",
     "text": [
      "    * \n",
      "   * * \n",
      "  * * * \n",
      " * * * * \n",
      "* * * * * \n"
     ]
    }
   ],
   "source": [
    "rows = 5 \n",
    "for i in range(1 , rows+1):\n",
    "    print(\" \" * (rows - i) + \"* \" * i)\n"
   ]
  },
  {
   "cell_type": "code",
   "execution_count": 7,
   "id": "316c7d95-6752-4b84-9f32-b10f10287aa8",
   "metadata": {},
   "outputs": [
    {
     "name": "stdout",
     "output_type": "stream",
     "text": [
      " Sum of numbers from 1 to 10 is : 55\n"
     ]
    }
   ],
   "source": [
    "total = 0\n",
    "\n",
    "for i in range(1, 11):\n",
    "    total += i\n",
    "print(\" Sum of numbers from 1 to 10 is :\" , total)"
   ]
  },
  {
   "cell_type": "code",
   "execution_count": 8,
   "id": "76fa3ba4-071b-462e-87a6-2451a6948e6d",
   "metadata": {},
   "outputs": [
    {
     "name": "stdout",
     "output_type": "stream",
     "text": [
      "1\n",
      "2\n",
      "3\n",
      "4\n",
      "5\n",
      "6\n",
      "7\n",
      "8\n",
      "9\n",
      "10\n"
     ]
    }
   ],
   "source": [
    "for i in range(1, 11):\n",
    "    print(i)"
   ]
  },
  {
   "cell_type": "code",
   "execution_count": 10,
   "id": "2daea0fb-2f5b-4474-9040-0f89785336bb",
   "metadata": {},
   "outputs": [
    {
     "name": "stdout",
     "output_type": "stream",
     "text": [
      "Insha's Average: 85.00 - Good\n",
      "Suleman's Average: 53.33 - Need Improvements\n",
      "Saim's Average: 91.00 - Excellent\n",
      "Haleem's Average: 70.00 - Good\n"
     ]
    }
   ],
   "source": [
    "students = {\n",
    "    \"Insha\" : [85, 78, 92],\n",
    "    \"Suleman\" : [45, 55, 60],\n",
    "    \"Saim\" : [90, 88, 95],\n",
    "    \"Haleem\" : [60, 70, 80]\n",
    "}\n",
    "for student, marks in students.items():\n",
    "    total = 0\n",
    "    for mark in marks:\n",
    "        total += mark\n",
    "    average = total/ len(marks)\n",
    "\n",
    "\n",
    "    if average >= 90:\n",
    "        remark = \"Excellent\"\n",
    "    elif average >= 70:\n",
    "        remark = \"Good\"\n",
    "    elif average >= 50:\n",
    "        remark = \"Need Improvements\"\n",
    "    else:\n",
    "        remark = \"Poor\"\n",
    "\n",
    "    print(f\"{student}'s Average: {average:.2f} - {remark}\")\n",
    "        \n",
    "    "
   ]
  },
  {
   "cell_type": "code",
   "execution_count": 13,
   "id": "b4552cc3-1f09-4175-b5da-8d8ed8ab7b44",
   "metadata": {},
   "outputs": [
    {
     "name": "stdout",
     "output_type": "stream",
     "text": [
      "\n",
      " Student: Rimsha\n",
      "subjectMath: 85\n",
      "subjectScience: 90\n",
      "subjectEnglish: 78\n",
      " Total Marks: 253\n",
      " Percentage : 84.33%\n",
      " Grade: A\n",
      "Status : Passed. Good Work!\n",
      "\n",
      " Student: Sohaib\n",
      "subjectMath: 42\n",
      "subjectScience: 55\n",
      "subjectEnglish: 60\n",
      " Total Marks: 157\n",
      " Percentage : 52.33%\n",
      " Grade: D\n",
      "Status: Passed. Needs Improvements.\n",
      "\n",
      " Student: Muzammal\n",
      "subjectMath: 95\n",
      "subjectScience: 88\n",
      "subjectEnglish: 92\n",
      " Total Marks: 275\n",
      " Percentage : 91.67%\n",
      " Grade: A+\n",
      "Excellent! Top Performer!\n",
      "\n",
      " Student: Saman\n",
      "subjectMath: 33\n",
      "subjectScience: 45\n",
      "subjectEnglish: 40\n",
      " Total Marks: 118\n",
      " Percentage : 39.33%\n",
      " Grade: F\n",
      "Status : Failed in one or More Subjects.\n",
      "\n",
      " Student: Bushra\n",
      "subjectMath: 70\n",
      "subjectScience: 75\n",
      "subjectEnglish: 80\n",
      " Total Marks: 225\n",
      " Percentage : 75.00%\n",
      " Grade: B\n",
      "Status : Passed. Good Work!\n"
     ]
    }
   ],
   "source": [
    "students = [\n",
    "    {\"name\": \"Rimsha\", \"marks\": {\"Math\": 85, \"Science\": 90, \"English\": 78}},\n",
    "    {\"name\": \"Sohaib\", \"marks\": {\"Math\": 42, \"Science\": 55, \"English\": 60}},\n",
    "    {\"name\": \"Muzammal\", \"marks\": {\"Math\": 95, \"Science\": 88, \"English\": 92}},\n",
    "    {\"name\": \"Saman\", \"marks\": {\"Math\": 33, \"Science\": 45, \"English\": 40}},\n",
    "    {\"name\": \"Bushra\", \"marks\": {\"Math\": 70, \"Science\": 75, \"English\": 80}}\n",
    "]\n",
    "\n",
    "def get_grade(percentage):\n",
    "    if percentage >= 90:\n",
    "        return \"A+\"\n",
    "    elif percentage >= 80:\n",
    "        return \"A\"\n",
    "    elif percentage >= 70:\n",
    "        return \"B\"\n",
    "    elif percentage >= 60:\n",
    "        return \"C\"\n",
    "    elif percentage >= 50:\n",
    "        return \"D\"\n",
    "    else:\n",
    "        return \"F\"\n",
    "for student in students:\n",
    "    name = student[\"name\"]\n",
    "    marks = student[\"marks\"]\n",
    "    total = 0\n",
    "    fail_flag = False\n",
    "\n",
    "    print(f\"\\n Student: {name}\")\n",
    "\n",
    "    for subject, score in marks.items():\n",
    "        print(f\"subject{subject}: {score}\")\n",
    "        total += score\n",
    "        if score < 40:\n",
    "            fail_flag = True\n",
    "    percentage = total / len(marks)\n",
    "    grade = get_grade(percentage)\n",
    "\n",
    "\n",
    "    print(f\" Total Marks: {total}\")\n",
    "    print(f\" Percentage : {percentage:.2f}%\")\n",
    "    print(f\" Grade: {grade}\")\n",
    "\n",
    "    if fail_flag:\n",
    "        print(\"Status : Failed in one or More Subjects.\")\n",
    "    elif grade == \"A+\":\n",
    "        print(\"Excellent! Top Performer!\")\n",
    "    elif grade in [\"A\" , \"B\"]:\n",
    "        print(\"Status : Passed. Good Work!\")\n",
    "    else:\n",
    "        print(\"Status: Passed. Needs Improvements.\")"
   ]
  },
  {
   "cell_type": "code",
   "execution_count": null,
   "id": "fdf92c91-070d-4aab-9244-987f98fc3a25",
   "metadata": {},
   "outputs": [],
   "source": []
  }
 ],
 "metadata": {
  "kernelspec": {
   "display_name": "Python 3 (ipykernel)",
   "language": "python",
   "name": "python3"
  },
  "language_info": {
   "codemirror_mode": {
    "name": "ipython",
    "version": 3
   },
   "file_extension": ".py",
   "mimetype": "text/x-python",
   "name": "python",
   "nbconvert_exporter": "python",
   "pygments_lexer": "ipython3",
   "version": "3.12.7"
  }
 },
 "nbformat": 4,
 "nbformat_minor": 5
}
