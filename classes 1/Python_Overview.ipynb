{
 "cells": [
  {
   "cell_type": "markdown",
   "id": "cb9cc420-1e97-46fb-b48a-15e51882f00b",
   "metadata": {},
   "source": [
    "High level \n",
    "python is a high level language, close to human language popular choice for both beginners and experienced coders.\n",
    "python line by line interpreter rather then compile into machine code.\n",
    "django flask \n",
    "\n",
    "20th Febuary 1991\n",
    "Guido van Rossum \n",
    "\n"
   ]
  },
  {
   "cell_type": "markdown",
   "id": "61f55fdb-436a-4d2b-9ecb-a2104a844e2b",
   "metadata": {},
   "source": [
    "Understanding the syntax and semantics of python is crucial for writing correct code and meaningful programs. Syntax ensures the code is properly structured, while semantics ensures the code behaves as expected or work properly."
   ]
  },
  {
   "cell_type": "code",
   "execution_count": 1,
   "id": "836122c1-da6d-41c2-a042-a617c8c4d780",
   "metadata": {},
   "outputs": [
    {
     "name": "stdout",
     "output_type": "stream",
     "text": [
      "Hamza\n"
     ]
    }
   ],
   "source": [
    "Name = (\"Hamza\")\n",
    "\n",
    "print(Name)\n",
    "\n",
    "Key = (\"Value\")"
   ]
  },
  {
   "cell_type": "markdown",
   "id": "ee3e43e1-490f-4201-9278-0c9899b8efe0",
   "metadata": {},
   "source": [
    "Variables are fundamental elements in programming used to store data that can be referenced and manipulated in a program. In Python Variables are created when you assign a value to them. The declaration  happens automatically when you assign a value to variable."
   ]
  },
  {
   "cell_type": "code",
   "execution_count": 6,
   "id": "db9eb9c3-c994-4d6b-902b-e16e574f8d57",
   "metadata": {},
   "outputs": [
    {
     "name": "stdout",
     "output_type": "stream",
     "text": [
      "55\n"
     ]
    }
   ],
   "source": [
    "total = 1+2+3+4+5+6+7\\\n",
    "+8+9+10\n",
    "\n",
    "print(total)"
   ]
  },
  {
   "cell_type": "code",
   "execution_count": 9,
   "id": "2a5bde20-387a-414a-8fba-8969c7e4291d",
   "metadata": {},
   "outputs": [
    {
     "ename": "NameError",
     "evalue": "name 'd' is not defined",
     "output_type": "error",
     "traceback": [
      "\u001b[1;31m---------------------------------------------------------------------------\u001b[0m",
      "\u001b[1;31mNameError\u001b[0m                                 Traceback (most recent call last)",
      "Cell \u001b[1;32mIn[9], line 1\u001b[0m\n\u001b[1;32m----> 1\u001b[0m c\u001b[38;5;241m=\u001b[39md \n\u001b[0;32m      3\u001b[0m \u001b[38;5;28mprint\u001b[39m(c)\n",
      "\u001b[1;31mNameError\u001b[0m: name 'd' is not defined"
     ]
    }
   ],
   "source": [
    "c=d \n",
    "\n",
    "print(c)"
   ]
  },
  {
   "cell_type": "code",
   "execution_count": 11,
   "id": "cc7e2cca-20ea-4417-9224-2a5f2a32db07",
   "metadata": {},
   "outputs": [],
   "source": [
    "x=98 ;y=89;a=x+y"
   ]
  },
  {
   "cell_type": "code",
   "execution_count": 12,
   "id": "c232f0ff-b44c-483c-a74f-247692a9de48",
   "metadata": {},
   "outputs": [
    {
     "name": "stdout",
     "output_type": "stream",
     "text": [
      "187\n"
     ]
    }
   ],
   "source": [
    "print(a)"
   ]
  },
  {
   "cell_type": "code",
   "execution_count": 26,
   "id": "cd5bf647-c8d6-4aec-b516-6727630354e0",
   "metadata": {},
   "outputs": [
    {
     "data": {
      "text/plain": [
       "bool"
      ]
     },
     "execution_count": 26,
     "metadata": {},
     "output_type": "execute_result"
    }
   ],
   "source": [
    "variable = True\n",
    "\n",
    "type(variable)"
   ]
  },
  {
   "cell_type": "code",
   "execution_count": 27,
   "id": "cd7fe82c-849a-420f-98fd-60b8b805b875",
   "metadata": {},
   "outputs": [
    {
     "name": "stdout",
     "output_type": "stream",
     "text": [
      "True\n"
     ]
    }
   ],
   "source": [
    "def function() :\n",
    "    return True\n",
    "\n",
    "print(function())"
   ]
  },
  {
   "cell_type": "code",
   "execution_count": null,
   "id": "776b617b-2ecb-415d-af4c-ce381fa8d52a",
   "metadata": {},
   "outputs": [],
   "source": [
    "bool = 0 1 0 = false wrong spam 1 = true right not spam "
   ]
  },
  {
   "cell_type": "code",
   "execution_count": 18,
   "id": "1598ab27-180c-4d22-b361-de47f46bb09a",
   "metadata": {},
   "outputs": [
    {
     "name": "stdout",
     "output_type": "stream",
     "text": [
      "printed\n",
      "again printed\n",
      "outside printed\n"
     ]
    }
   ],
   "source": [
    "if True:\n",
    "    print(\"printed\")\n",
    "    if False:\n",
    "        print(\"not printed\")\n",
    "    print(\"again printed\")\n",
    "\n",
    "print(\"outside printed\")"
   ]
  },
  {
   "cell_type": "code",
   "execution_count": 19,
   "id": "6f3ef361-f5cc-4a7d-8bba-d31516a4932b",
   "metadata": {},
   "outputs": [],
   "source": [
    "name = \"hamza\"\n"
   ]
  },
  {
   "cell_type": "code",
   "execution_count": 21,
   "id": "9db57041-a19c-49de-9641-dccf9fc51816",
   "metadata": {},
   "outputs": [
    {
     "name": "stdout",
     "output_type": "stream",
     "text": [
      "Teacher name is: hamza\n"
     ]
    }
   ],
   "source": [
    "print(\"Teacher name is:\" , name)"
   ]
  },
  {
   "cell_type": "code",
   "execution_count": 23,
   "id": "b12992f6-89a2-4a48-81b4-00ed8fe9fe16",
   "metadata": {},
   "outputs": [],
   "source": [
    "age2 = 16"
   ]
  },
  {
   "cell_type": "code",
   "execution_count": 24,
   "id": "8966c997-949f-43f6-86e5-66954106a394",
   "metadata": {},
   "outputs": [
    {
     "name": "stdout",
     "output_type": "stream",
     "text": [
      "16\n"
     ]
    }
   ],
   "source": [
    "print(age2)"
   ]
  },
  {
   "cell_type": "code",
   "execution_count": 25,
   "id": "66a5a7d9-bc60-4c2e-9f5c-519505d4fc04",
   "metadata": {},
   "outputs": [
    {
     "name": "stdin",
     "output_type": "stream",
     "text": [
      "tell me your age 24\n"
     ]
    },
    {
     "name": "stdout",
     "output_type": "stream",
     "text": [
      "24 <class 'int'>\n"
     ]
    }
   ],
   "source": [
    "age = int(input(\"tell me your age\"))\n",
    "\n",
    "print(age,type(age))"
   ]
  },
  {
   "cell_type": "markdown",
   "id": "5564a745-4c5d-408c-bb9a-47ba21da7f37",
   "metadata": {},
   "source": [
    "1 python package managers --> 2 PIP Conda Anaconda venv ---> python enviroments\n",
    "\n",
    "2 basic python \n",
    "functions \n",
    "data structure --> list tuple set dictonary\n",
    "conditions\n",
    "loops \n",
    "exceptions\n",
    "data types "
   ]
  },
  {
   "cell_type": "markdown",
   "id": "cfddbeea-cc2c-48ba-ac7c-e21947aaf076",
   "metadata": {},
   "source": [
    "1 object-oriented programming\n",
    "classes \n",
    "inheritance \n",
    "methods.\n",
    "\n",
    "2 Advanced Python \n",
    "\n",
    "list comprehensions \n",
    "generators \n",
    "expressions\n",
    "regex \n",
    "decoders\n",
    "Iterators\n",
    "lamdas\n",
    "magic method \n",
    "maps \n",
    "threading"
   ]
  },
  {
   "cell_type": "markdown",
   "id": "56eb3b05-4d7a-474d-abe7-5e7698b97edf",
   "metadata": {},
   "source": [
    "Data structured and algorithems DSA\n",
    "\n",
    "packages\n",
    "numpy \n",
    "pandas\n",
    "matplotlib\n",
    "seaborn S\n",
    "tensor flow \n",
    "keras\n",
    "pytorch "
   ]
  },
  {
   "cell_type": "code",
   "execution_count": null,
   "id": "46714769-1a71-4874-8a3a-81b27c631f86",
   "metadata": {},
   "outputs": [],
   "source": [
    "Automation\n",
    "file manupulation\n",
    "web scripting\n",
    "GUI automation\n",
    "Network automation\n"
   ]
  },
  {
   "cell_type": "markdown",
   "id": "90ecfe05-3cd5-429b-b59c-48e769f27dd3",
   "metadata": {},
   "source": [
    "testing \n",
    "load testing\n",
    "integration testing \n",
    "unit testing \n",
    "end to end testing."
   ]
  },
  {
   "cell_type": "code",
   "execution_count": null,
   "id": "d2f0b714-35e3-46b8-b1da-9506a6a5edaa",
   "metadata": {},
   "outputs": [],
   "source": [
    "num = float \n",
    "num = float \n",
    " input = select you operator  + - * / \n",
    " so the sum the numbers you have selected is : ______"
   ]
  }
 ],
 "metadata": {
  "kernelspec": {
   "display_name": "Python 3 (ipykernel)",
   "language": "python",
   "name": "python3"
  },
  "language_info": {
   "codemirror_mode": {
    "name": "ipython",
    "version": 3
   },
   "file_extension": ".py",
   "mimetype": "text/x-python",
   "name": "python",
   "nbconvert_exporter": "python",
   "pygments_lexer": "ipython3",
   "version": "3.12.7"
  }
 },
 "nbformat": 4,
 "nbformat_minor": 5
}
