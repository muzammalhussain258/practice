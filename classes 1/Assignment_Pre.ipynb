{
 "cells": [
  {
   "cell_type": "markdown",
   "id": "7fa9288e-1430-4493-bb37-b9ad6ef72d28",
   "metadata": {},
   "source": [
    "Assignment 1 Breakdown"
   ]
  },
  {
   "cell_type": "code",
   "execution_count": 2,
   "id": "cebb7ef7-0953-44f7-a744-4c37d86c767f",
   "metadata": {},
   "outputs": [
    {
     "name": "stdin",
     "output_type": "stream",
     "text": [
      "Enter your first Number: 78.8\n",
      "Enter your Second Number: 98.8\n"
     ]
    },
    {
     "name": "stdout",
     "output_type": "stream",
     "text": [
      "This is the Value of your sum: 177.6\n",
      "This is the value of your difference: -20.0\n",
      "This is the value of your product: 7785.44\n",
      "This is the value of your division: 0.7975708502024291\n"
     ]
    }
   ],
   "source": [
    "## Simple Calculator\n",
    "\n",
    "Number1 = float(input(\"Enter your first Number:\"))\n",
    "Number2 = float(input(\"Enter your Second Number:\"))\n",
    "\n",
    "sum = Number1 + Number2\n",
    "difference = Number1 - Number2\n",
    "product = Number1 * Number2\n",
    "division = Number1 / Number2\n",
    "\n",
    "\n",
    "print(\"This is the Value of your sum:\" , sum)\n",
    "print(\"This is the value of your difference:\" , difference)\n",
    "print(\"This is the value of your product:\" , product)\n",
    "print(\"This is the value of your division:\" , division)\n"
   ]
  },
  {
   "cell_type": "markdown",
   "id": "9e54eded-9848-4dc4-97e4-71f008b6e335",
   "metadata": {},
   "source": [
    "Data Types\n",
    "\n",
    "Data types ensures that data is stored in an efficient way.\n",
    "They help in performing correct operations on data.\n",
    "Proper use of data types can prevent errors and bugs in the program.\n",
    "\n",
    "Data Types\n",
    "float 7.9 0.34\n",
    "bool True False\n",
    "str \" anything \"\n",
    "int    768837\n"
   ]
  },
  {
   "cell_type": "markdown",
   "id": "79aba013-b504-40a0-9f61-a23408cf68f8",
   "metadata": {},
   "source": [
    "Arithmetic Operators\n",
    " Addition\n",
    " Subtraction\n",
    " Multiplication\n",
    " Division\n",
    " Floor Division\n",
    " Modulus \n",
    " Exponentiation\n",
    "\n",
    " \n",
    "Comparison Operators\n",
    " Equal to\n",
    " Not Equal to \n",
    " Greater than\n",
    " Less than \n",
    " Greater than or equal to\n",
    " Less than or equal to\n",
    "\n",
    "\n",
    "\n",
    " \n",
    "Logical operators\n",
    " AND Operator\n",
    " OR Operator\n",
    " Not Operator"
   ]
  },
  {
   "cell_type": "markdown",
   "id": "0c44431f-225d-422b-a094-e1d95f93b573",
   "metadata": {},
   "source": [
    "Conditional Statements --> if,elif,else\n",
    "  if statement\n",
    "  else statement\n",
    "  elif statement\n",
    "  nested statement\n",
    "  "
   ]
  }
 ],
 "metadata": {
  "kernelspec": {
   "display_name": "Python 3 (ipykernel)",
   "language": "python",
   "name": "python3"
  },
  "language_info": {
   "codemirror_mode": {
    "name": "ipython",
    "version": 3
   },
   "file_extension": ".py",
   "mimetype": "text/x-python",
   "name": "python",
   "nbconvert_exporter": "python",
   "pygments_lexer": "ipython3",
   "version": "3.12.7"
  }
 },
 "nbformat": 4,
 "nbformat_minor": 5
}
